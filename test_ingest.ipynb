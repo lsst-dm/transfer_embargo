{
 "cells": [
  {
   "cell_type": "markdown",
   "id": "3efbb0a2-412e-4e05-84b2-3d765d8cbff2",
   "metadata": {},
   "source": [
    "## ingest\n",
    "Trying to figure out how to run butler.ingest() - ticket https://jira.lsstcorp.org/browse/DM-41032https://jira.lsstcorp.org/browse/DM-41032 - "
   ]
  },
  {
   "cell_type": "markdown",
   "id": "45acf812-bf1c-44a9-af08-14380357ef78",
   "metadata": {},
   "source": [
    "We need to ingest the data manually for the raws and they are going to a different destination, which we'll need to look up the URI to."
   ]
  },
  {
   "cell_type": "markdown",
   "id": "1ead4d13-6fd9-4d96-8970-8f0c303523d3",
   "metadata": {
    "execution": {
     "iopub.execute_input": "2023-10-18T21:16:24.040546Z",
     "iopub.status.busy": "2023-10-18T21:16:24.040364Z",
     "iopub.status.idle": "2023-10-18T21:16:24.043568Z",
     "shell.execute_reply": "2023-10-18T21:16:24.043081Z",
     "shell.execute_reply.started": "2023-10-18T21:16:24.040532Z"
    },
    "tags": []
   },
   "source": [
    "They are going here: /sdf/data/rubin/lsstdata/offline/instrument/"
   ]
  },
  {
   "cell_type": "markdown",
   "id": "a3ed9c8f-f1cc-49fb-9ed3-b217e90cc59a",
   "metadata": {},
   "source": [
    "We'll then need to grab the remaining path to be:\n",
    "butler.getURI(dataset_ref)"
   ]
  },
  {
   "cell_type": "markdown",
   "id": "6fc9204c-eee4-475c-8f45-5fb7e5091dc8",
   "metadata": {},
   "source": [
    "The transfer should be able to be performed using lsst.resources.ResourcePath.transfer_from. After that, the ingestion should then be handled using butler.ingest() using the existing DatasetRef from /repo/embargo and the new (absolute) destination path, using transfer mode direct."
   ]
  },
  {
   "cell_type": "code",
   "execution_count": 1,
   "id": "d8303d86-2b4b-4a9e-b267-8405ff762f6e",
   "metadata": {
    "execution": {
     "iopub.execute_input": "2023-11-15T17:25:02.786820Z",
     "iopub.status.busy": "2023-11-15T17:25:02.786392Z",
     "iopub.status.idle": "2023-11-15T17:25:02.789016Z",
     "shell.execute_reply": "2023-11-15T17:25:02.788619Z",
     "shell.execute_reply.started": "2023-11-15T17:25:02.786802Z"
    },
    "tags": []
   },
   "outputs": [],
   "source": [
    "import os"
   ]
  },
  {
   "cell_type": "code",
   "execution_count": 2,
   "id": "11b73659-0460-4116-8ba8-275c76f49bcd",
   "metadata": {
    "execution": {
     "iopub.execute_input": "2023-11-15T17:25:04.978167Z",
     "iopub.status.busy": "2023-11-15T17:25:04.977978Z",
     "iopub.status.idle": "2023-11-15T17:25:05.439136Z",
     "shell.execute_reply": "2023-11-15T17:25:05.438643Z",
     "shell.execute_reply.started": "2023-11-15T17:25:04.978154Z"
    },
    "tags": []
   },
   "outputs": [],
   "source": [
    "import astropy.time\n",
    "import lsst\n",
    "import lsst.daf.butler\n",
    "from lsst.daf.butler import Butler, Timespan"
   ]
  },
  {
   "cell_type": "code",
   "execution_count": 3,
   "id": "56dd7b2b-b28f-4c42-b04f-146fed6946d9",
   "metadata": {
    "execution": {
     "iopub.execute_input": "2023-11-15T17:25:06.151654Z",
     "iopub.status.busy": "2023-11-15T17:25:06.151490Z",
     "iopub.status.idle": "2023-11-15T17:25:06.153861Z",
     "shell.execute_reply": "2023-11-15T17:25:06.153487Z",
     "shell.execute_reply.started": "2023-11-15T17:25:06.151640Z"
    },
    "tags": []
   },
   "outputs": [],
   "source": [
    "from lsst.daf.butler import CollectionType"
   ]
  },
  {
   "cell_type": "code",
   "execution_count": 4,
   "id": "f6c07dfc-c94a-45c8-9615-1547831d08ca",
   "metadata": {
    "execution": {
     "iopub.execute_input": "2023-11-15T17:25:06.882640Z",
     "iopub.status.busy": "2023-11-15T17:25:06.882515Z",
     "iopub.status.idle": "2023-11-15T17:25:10.540686Z",
     "shell.execute_reply": "2023-11-15T17:25:10.540244Z",
     "shell.execute_reply.started": "2023-11-15T17:25:06.882628Z"
    },
    "tags": []
   },
   "outputs": [],
   "source": [
    "butler = Butler('/repo/embargo')\n",
    "registry = butler.registry"
   ]
  },
  {
   "cell_type": "code",
   "execution_count": 6,
   "id": "5cd18f2b-fc22-4772-b6a1-0843b874cdfc",
   "metadata": {
    "execution": {
     "iopub.execute_input": "2023-11-15T17:29:50.061376Z",
     "iopub.status.busy": "2023-11-15T17:29:50.060849Z",
     "iopub.status.idle": "2023-11-15T17:29:50.156394Z",
     "shell.execute_reply": "2023-11-15T17:29:50.156010Z",
     "shell.execute_reply.started": "2023-11-15T17:29:50.061352Z"
    },
    "tags": []
   },
   "outputs": [],
   "source": [
    "dest_butler = Butler('/home/r/rnevin/scratch', writeable=True)\n",
    "dest_registry = dest_butler.registry"
   ]
  },
  {
   "cell_type": "code",
   "execution_count": 7,
   "id": "59219d09-b22a-4d50-b7ce-4bf645265838",
   "metadata": {
    "execution": {
     "iopub.execute_input": "2023-11-15T17:29:51.954980Z",
     "iopub.status.busy": "2023-11-15T17:29:51.954797Z",
     "iopub.status.idle": "2023-11-15T17:29:51.957257Z",
     "shell.execute_reply": "2023-11-15T17:29:51.956888Z",
     "shell.execute_reply.started": "2023-11-15T17:29:51.954967Z"
    },
    "tags": []
   },
   "outputs": [],
   "source": [
    "datasettype = 'raw'\n",
    "collections = 'LATISS/raw/all'"
   ]
  },
  {
   "cell_type": "code",
   "execution_count": 8,
   "id": "197ace89-dca9-4b07-9935-bb88f1a7b847",
   "metadata": {
    "execution": {
     "iopub.execute_input": "2023-11-15T17:29:53.614424Z",
     "iopub.status.busy": "2023-11-15T17:29:53.614246Z",
     "iopub.status.idle": "2023-11-15T17:29:53.627926Z",
     "shell.execute_reply": "2023-11-15T17:29:53.627513Z",
     "shell.execute_reply.started": "2023-11-15T17:29:53.614412Z"
    },
    "tags": []
   },
   "outputs": [],
   "source": [
    "now = astropy.time.Time.now().tai\n",
    "embargo_hours = 80.0\n",
    "embargo_period = astropy.time.TimeDelta(\n",
    "        embargo_hours * 3600.0, format=\"sec\"\n",
    "    )\n",
    "timespan_embargo = Timespan(now - embargo_period, None)\n",
    "# timespan_embargo = Timespan(now - embargo_period, now)"
   ]
  },
  {
   "cell_type": "code",
   "execution_count": 9,
   "id": "5933e370-49f6-4dc8-b9a8-dfd4902decda",
   "metadata": {
    "execution": {
     "iopub.execute_input": "2023-11-15T17:29:55.172462Z",
     "iopub.status.busy": "2023-11-15T17:29:55.172263Z",
     "iopub.status.idle": "2023-11-15T17:29:55.175428Z",
     "shell.execute_reply": "2023-11-15T17:29:55.175045Z",
     "shell.execute_reply.started": "2023-11-15T17:29:55.172448Z"
    },
    "tags": []
   },
   "outputs": [
    {
     "name": "stdout",
     "output_type": "stream",
     "text": [
      "DatasetType('raw', {band, instrument, detector, physical_filter, exposure}, Exposure)\n"
     ]
    }
   ],
   "source": [
    "for dt in sorted(registry.queryDatasetTypes(datasettype)):\n",
    "    print(dt)"
   ]
  },
  {
   "cell_type": "code",
   "execution_count": 10,
   "id": "3a035355-115a-476f-8906-dbb95c57ae8f",
   "metadata": {
    "execution": {
     "iopub.execute_input": "2023-11-11T01:52:41.510350Z",
     "iopub.status.busy": "2023-11-11T01:52:41.510217Z",
     "iopub.status.idle": "2023-11-11T01:52:41.512435Z",
     "shell.execute_reply": "2023-11-11T01:52:41.512018Z",
     "shell.execute_reply.started": "2023-11-11T01:52:41.510339Z"
    },
    "tags": []
   },
   "outputs": [],
   "source": [
    "# for i, dt in enumerate(registry.queryDimensionRecords('exposure',datasets=datasettype, collections=collections,\n",
    "#                                              )):\n",
    "#     print(dt)\n",
    "#     if i > 1:\n",
    "#         break"
   ]
  },
  {
   "cell_type": "code",
   "execution_count": 10,
   "id": "95761562-87a8-430a-af06-43e8926a75fc",
   "metadata": {
    "execution": {
     "iopub.execute_input": "2023-11-15T17:29:57.966000Z",
     "iopub.status.busy": "2023-11-15T17:29:57.965741Z",
     "iopub.status.idle": "2023-11-15T17:30:00.597401Z",
     "shell.execute_reply": "2023-11-15T17:30:00.596969Z",
     "shell.execute_reply.started": "2023-11-15T17:29:57.965978Z"
    },
    "tags": []
   },
   "outputs": [
    {
     "name": "stdout",
     "output_type": "stream",
     "text": [
      "[2022083100004, 2022083100005]\n"
     ]
    }
   ],
   "source": [
    "dataId = {\"instrument\": \"LATISS\"}\n",
    "outside_embargo = [\n",
    "        dt.id\n",
    "        for dt in registry.queryDimensionRecords(\n",
    "            \"exposure\",\n",
    "            dataId=dataId,\n",
    "            datasets=datasettype,\n",
    "            collections=collections,\n",
    "            where=\"NOT exposure.timespan OVERLAPS\\\n",
    "                                                    timespan_embargo\",\n",
    "            bind={\"timespan_embargo\": timespan_embargo},\n",
    "        )\n",
    "    ][0:2]\n",
    "print(outside_embargo)"
   ]
  },
  {
   "cell_type": "code",
   "execution_count": 11,
   "id": "bc9f8ad1-cf0b-41c8-b97c-72c8273ee225",
   "metadata": {
    "execution": {
     "iopub.execute_input": "2023-11-15T17:30:00.740727Z",
     "iopub.status.busy": "2023-11-15T17:30:00.740582Z",
     "iopub.status.idle": "2023-11-15T17:30:00.755295Z",
     "shell.execute_reply": "2023-11-15T17:30:00.754926Z",
     "shell.execute_reply.started": "2023-11-15T17:30:00.740714Z"
    },
    "tags": []
   },
   "outputs": [],
   "source": [
    "# Query the DataIds after embargo period\n",
    "datasetRefs = registry.queryDatasets(\n",
    "    datasettype,\n",
    "    dataId=dataId,\n",
    "    collections=collections,\n",
    "    where=\"exposure.id IN (exposure_ids)\",\n",
    "    bind={\"exposure_ids\": outside_embargo},\n",
    ")#.expanded()"
   ]
  },
  {
   "cell_type": "code",
   "execution_count": 12,
   "id": "e874080a-9669-4f9a-929f-d4803f22fdfa",
   "metadata": {
    "execution": {
     "iopub.execute_input": "2023-11-15T17:30:04.448695Z",
     "iopub.status.busy": "2023-11-15T17:30:04.448515Z",
     "iopub.status.idle": "2023-11-15T17:30:04.461898Z",
     "shell.execute_reply": "2023-11-15T17:30:04.461517Z",
     "shell.execute_reply.started": "2023-11-15T17:30:04.448682Z"
    },
    "tags": []
   },
   "outputs": [
    {
     "name": "stdout",
     "output_type": "stream",
     "text": [
      "raw@{instrument: 'LATISS', detector: 0, exposure: 2022083100004, ...} [sc=Exposure] (run=LATISS/raw/all id=cfd59ff4-4991-5093-b499-b3aff2d2089c)\n",
      "raw@{instrument: 'LATISS', detector: 0, exposure: 2022083100005, ...} [sc=Exposure] (run=LATISS/raw/all id=d8975b39-6873-53e0-aa7f-d8781ceaaec7)\n"
     ]
    }
   ],
   "source": [
    "for ref in datasetRefs:\n",
    "    print(ref)"
   ]
  },
  {
   "cell_type": "code",
   "execution_count": 17,
   "id": "9e5b2043-da77-465c-b827-23eb94334186",
   "metadata": {
    "execution": {
     "iopub.execute_input": "2023-11-15T17:33:22.941985Z",
     "iopub.status.busy": "2023-11-15T17:33:22.941711Z",
     "iopub.status.idle": "2023-11-15T17:33:22.944381Z",
     "shell.execute_reply": "2023-11-15T17:33:22.944089Z",
     "shell.execute_reply.started": "2023-11-15T17:33:22.941964Z"
    },
    "tags": []
   },
   "outputs": [],
   "source": [
    "dest_prefix = '/home/r/rnevin/dest_uri' \n",
    "dest_uri = lsst.resources.ResourcePath(dest_prefix)"
   ]
  },
  {
   "cell_type": "code",
   "execution_count": 18,
   "id": "ae14f7e7-2e1c-4373-a485-73396c1ffa17",
   "metadata": {
    "execution": {
     "iopub.execute_input": "2023-11-15T17:33:23.847836Z",
     "iopub.status.busy": "2023-11-15T17:33:23.847678Z",
     "iopub.status.idle": "2023-11-15T17:33:23.850292Z",
     "shell.execute_reply": "2023-11-15T17:33:23.850004Z",
     "shell.execute_reply.started": "2023-11-15T17:33:23.847822Z"
    },
    "tags": []
   },
   "outputs": [
    {
     "data": {
      "text/plain": [
       "ResourcePath(\"file:///home/r/rnevin/dest_uri/\")"
      ]
     },
     "execution_count": 18,
     "metadata": {},
     "output_type": "execute_result"
    }
   ],
   "source": [
    "dest_uri"
   ]
  },
  {
   "cell_type": "code",
   "execution_count": 19,
   "id": "a14050c8-a4a3-4c08-b6ff-20e6b137e771",
   "metadata": {
    "execution": {
     "iopub.execute_input": "2023-11-15T17:33:25.502995Z",
     "iopub.status.busy": "2023-11-15T17:33:25.502797Z",
     "iopub.status.idle": "2023-11-15T17:33:25.515181Z",
     "shell.execute_reply": "2023-11-15T17:33:25.514814Z",
     "shell.execute_reply.started": "2023-11-15T17:33:25.502980Z"
    },
    "tags": []
   },
   "outputs": [
    {
     "name": "stdout",
     "output_type": "stream",
     "text": [
      "{DatasetRef(DatasetType('raw', {band, instrument, detector, physical_filter, exposure}, Exposure), {instrument: 'LATISS', detector: 0, exposure: 2022083100004, ...}, run='LATISS/raw/all', id=cfd59ff4-4991-5093-b499-b3aff2d2089c): DatasetRefURIs(ResourcePath(\"s3://rubin-summit/LATISS/20220831/AT_O_20220831_000004/AT_O_20220831_000004_R00_S00.fits\"), {}), DatasetRef(DatasetType('raw', {band, instrument, detector, physical_filter, exposure}, Exposure), {instrument: 'LATISS', detector: 0, exposure: 2022083100005, ...}, run='LATISS/raw/all', id=d8975b39-6873-53e0-aa7f-d8781ceaaec7): DatasetRefURIs(ResourcePath(\"s3://rubin-summit/LATISS/20220831/AT_O_20220831_000005/AT_O_20220831_000005_R00_S00.fits\"), {})}\n"
     ]
    }
   ],
   "source": [
    "source_uri = butler.get_many_uris(datasetRefs)\n",
    "#source_uri = butler.getURI(datasetRefs)\n",
    "print(source_uri)"
   ]
  },
  {
   "cell_type": "raw",
   "id": "e26dbc9c-5180-403c-bfac-f0a347ce1315",
   "metadata": {
    "execution": {
     "iopub.execute_input": "2023-11-11T01:53:04.272581Z",
     "iopub.status.busy": "2023-11-11T01:53:04.272397Z",
     "iopub.status.idle": "2023-11-11T01:53:04.415622Z",
     "shell.execute_reply": "2023-11-11T01:53:04.415283Z",
     "shell.execute_reply.started": "2023-11-11T01:53:04.272569Z"
    },
    "tags": []
   },
   "source": [
    "for (key, value) in source_uri.items():\n",
    "    print(key)\n",
    "    # print(value.count)\n",
    "    # print(value.index)\n",
    "    source_path_uri = value[0]\n",
    "    print(source_path_uri)\n",
    "    print(source_path_uri.exists())\n",
    "    source_path = value[0].path.strip('/')\n",
    "    print(source_path)\n",
    "    print(value[0].relative_to(value[0].root_uri()))\n"
   ]
  },
  {
   "cell_type": "code",
   "execution_count": 27,
   "id": "b88820e5-3b24-4600-bcdb-ba1253da2927",
   "metadata": {
    "execution": {
     "iopub.execute_input": "2023-11-15T17:34:38.072990Z",
     "iopub.status.busy": "2023-11-15T17:34:38.072549Z",
     "iopub.status.idle": "2023-11-15T17:34:38.420167Z",
     "shell.execute_reply": "2023-11-15T17:34:38.419728Z",
     "shell.execute_reply.started": "2023-11-15T17:34:38.072976Z"
    },
    "tags": []
   },
   "outputs": [
    {
     "name": "stdout",
     "output_type": "stream",
     "text": [
      "s3://rubin-summit/LATISS/20220831/AT_O_20220831_000004/AT_O_20220831_000004_R00_S00.fits\n",
      "True\n",
      "LATISS/20220831/AT_O_20220831_000004/AT_O_20220831_000004_R00_S00.fits\n",
      "file:///home/r/rnevin/dest_uri/\n",
      "file:///home/r/rnevin/dest_uri/LATISS/20220831/AT_O_20220831_000004/AT_O_20220831_000004_R00_S00.fits\n",
      "s3://rubin-summit/LATISS/20220831/AT_O_20220831_000005/AT_O_20220831_000005_R00_S00.fits\n",
      "True\n",
      "LATISS/20220831/AT_O_20220831_000005/AT_O_20220831_000005_R00_S00.fits\n",
      "file:///home/r/rnevin/dest_uri/\n",
      "file:///home/r/rnevin/dest_uri/LATISS/20220831/AT_O_20220831_000005/AT_O_20220831_000005_R00_S00.fits\n"
     ]
    }
   ],
   "source": [
    "filedataset_list = []\n",
    "for (key, value) in source_uri.items():\n",
    "    # print(key)\n",
    "    # print(value.count)\n",
    "    # print(value.index)\n",
    "    source_path_uri = value[0]\n",
    "    print(source_path_uri)\n",
    "    print(source_path_uri.exists())\n",
    "    # source_path = value[0].path.strip('/')\n",
    "    source_path = source_path_uri.relative_to(value[0].root_uri())\n",
    "    print(source_path)\n",
    "    print(dest_uri)\n",
    "    new_dest_uri = dest_uri.join(source_path)\n",
    "    print(new_dest_uri)\n",
    "    \n",
    "    # transfer \n",
    "    new_dest_uri.transfer_from(source_path_uri, transfer='copy')\n",
    "    \n",
    "    # make filedatasets for ingest\n",
    "    filedataset_list.append(lsst.daf.butler.FileDataset(new_dest_uri, key))\n",
    "    "
   ]
  },
  {
   "cell_type": "code",
   "execution_count": 28,
   "id": "afc3dfbd-5e25-413b-96d5-53c3ad7a5da6",
   "metadata": {
    "execution": {
     "iopub.execute_input": "2023-11-15T17:34:40.656987Z",
     "iopub.status.busy": "2023-11-15T17:34:40.656580Z",
     "iopub.status.idle": "2023-11-15T17:34:40.659814Z",
     "shell.execute_reply": "2023-11-15T17:34:40.659480Z",
     "shell.execute_reply.started": "2023-11-15T17:34:40.656972Z"
    },
    "tags": []
   },
   "outputs": [
    {
     "data": {
      "text/plain": [
       "[FileDataset(refs=[DatasetRef(DatasetType('raw', {band, instrument, detector, physical_filter, exposure}, Exposure), {instrument: 'LATISS', detector: 0, exposure: 2022083100004, ...}, run='LATISS/raw/all', id=cfd59ff4-4991-5093-b499-b3aff2d2089c)], path=ResourcePath(\"file:///home/r/rnevin/dest_uri/LATISS/20220831/AT_O_20220831_000004/AT_O_20220831_000004_R00_S00.fits\"), formatter=None),\n",
       " FileDataset(refs=[DatasetRef(DatasetType('raw', {band, instrument, detector, physical_filter, exposure}, Exposure), {instrument: 'LATISS', detector: 0, exposure: 2022083100005, ...}, run='LATISS/raw/all', id=d8975b39-6873-53e0-aa7f-d8781ceaaec7)], path=ResourcePath(\"file:///home/r/rnevin/dest_uri/LATISS/20220831/AT_O_20220831_000005/AT_O_20220831_000005_R00_S00.fits\"), formatter=None)]"
      ]
     },
     "execution_count": 28,
     "metadata": {},
     "output_type": "execute_result"
    }
   ],
   "source": [
    "filedataset_list"
   ]
  },
  {
   "cell_type": "code",
   "execution_count": 29,
   "id": "31301ee3-89f9-4eed-ab20-edde99f87617",
   "metadata": {
    "execution": {
     "iopub.execute_input": "2023-11-15T17:34:41.304261Z",
     "iopub.status.busy": "2023-11-15T17:34:41.304048Z",
     "iopub.status.idle": "2023-11-15T17:34:41.307617Z",
     "shell.execute_reply": "2023-11-15T17:34:41.307272Z",
     "shell.execute_reply.started": "2023-11-15T17:34:41.304244Z"
    },
    "tags": []
   },
   "outputs": [
    {
     "data": {
      "text/plain": [
       "False"
      ]
     },
     "execution_count": 29,
     "metadata": {},
     "output_type": "execute_result"
    }
   ],
   "source": [
    "# register datatype to the destination\n",
    "frombutler_datasettype = registry.getDatasetType('raw')\n",
    "dest_registry.registerDatasetType(frombutler_datasettype)"
   ]
  },
  {
   "cell_type": "code",
   "execution_count": 23,
   "id": "1b8dafbb-f163-42f8-b50a-73e8ee698efd",
   "metadata": {
    "execution": {
     "iopub.execute_input": "2023-11-15T17:33:41.532164Z",
     "iopub.status.busy": "2023-11-15T17:33:41.531626Z",
     "iopub.status.idle": "2023-11-15T17:33:41.534352Z",
     "shell.execute_reply": "2023-11-15T17:33:41.533959Z",
     "shell.execute_reply.started": "2023-11-15T17:33:41.532147Z"
    },
    "tags": []
   },
   "outputs": [],
   "source": [
    "collection_chain = registry.getCollectionSummary(collections)"
   ]
  },
  {
   "cell_type": "code",
   "execution_count": 24,
   "id": "7c72b85d-acfa-4fa5-982b-b47045f88fe8",
   "metadata": {
    "execution": {
     "iopub.execute_input": "2023-11-15T17:33:42.594771Z",
     "iopub.status.busy": "2023-11-15T17:33:42.594611Z",
     "iopub.status.idle": "2023-11-15T17:33:42.597935Z",
     "shell.execute_reply": "2023-11-15T17:33:42.597496Z",
     "shell.execute_reply.started": "2023-11-15T17:33:42.594757Z"
    },
    "tags": []
   },
   "outputs": [
    {
     "data": {
      "text/plain": [
       "CollectionSummary(dataset_types=NamedValueSet({DatasetType('raw', {band, instrument, detector, physical_filter, exposure}, Exposure)}), governors={'instrument': {'LATISS'}})"
      ]
     },
     "execution_count": 24,
     "metadata": {},
     "output_type": "execute_result"
    }
   ],
   "source": [
    "collection_chain"
   ]
  },
  {
   "cell_type": "code",
   "execution_count": 25,
   "id": "0922057a-af9c-4537-b562-3b16003d1793",
   "metadata": {
    "execution": {
     "iopub.execute_input": "2023-11-15T17:33:43.465549Z",
     "iopub.status.busy": "2023-11-15T17:33:43.465407Z",
     "iopub.status.idle": "2023-11-15T17:33:43.478621Z",
     "shell.execute_reply": "2023-11-15T17:33:43.478274Z",
     "shell.execute_reply.started": "2023-11-15T17:33:43.465537Z"
    },
    "tags": []
   },
   "outputs": [
    {
     "data": {
      "text/plain": [
       "True"
      ]
     },
     "execution_count": 25,
     "metadata": {},
     "output_type": "execute_result"
    }
   ],
   "source": [
    "dest_registry.registerCollection('LATISS/raw/all', CollectionType(1))"
   ]
  },
  {
   "cell_type": "code",
   "execution_count": null,
   "id": "29f82ccf-8892-435e-9819-c5b2f5561361",
   "metadata": {},
   "outputs": [],
   "source": [
    "# before we can run ingest, we need to register everything:\n",
    "# this code is taken from: https://github.com/lsst/daf_butler/blob/1e3d68c2a155215c755c62404ea5fdd1de110740/python/lsst/daf/butler/direct_butler.py#L1920-L1949\n",
    "\n",
    "# Check to see if the dataset type in the source butler has\n",
    "# the same definition in the target butler and register missing\n",
    "# ones if requested. Registration must happen outside a transaction.\n",
    "newly_registered_dataset_types = set()\n",
    "for datasetType in [\"raw\"]:\n",
    "    if register_dataset_types:\n",
    "        # Let this raise immediately if inconsistent. Continuing\n",
    "        # on to find additional inconsistent dataset types\n",
    "        # might result in additional unwanted dataset types being\n",
    "        # registered.\n",
    "        if self._registry.registerDatasetType(datasetType):\n",
    "            newly_registered_dataset_types.add(datasetType)\n",
    "    else:\n",
    "        # If the dataset type is missing, let it fail immediately.\n",
    "        target_dataset_type = self.get_dataset_type(datasetType.name)\n",
    "        if target_dataset_type != datasetType:\n",
    "            raise ConflictingDefinitionError(\n",
    "                \"Source butler dataset type differs from definition\"\n",
    "                f\" in target butler: {datasetType} !=\"\n",
    "                f\" {target_dataset_type}\"\n",
    "            )\n",
    "if newly_registered_dataset_types:\n",
    "    # We may have registered some even if there were inconsistencies\n",
    "    # but should let people know (or else remove them again).\n",
    "    _LOG.verbose(\n",
    "        \"Registered the following dataset types in the target Butler: %s\",\n",
    "        \", \".join(d.name for d in newly_registered_dataset_types),\n",
    "    )\n",
    "else:\n",
    "    _LOG.verbose(\"All required dataset types are known to the target Butler\")"
   ]
  },
  {
   "cell_type": "code",
   "execution_count": null,
   "id": "25b21818-3990-49ee-8707-9a6b83491c11",
   "metadata": {},
   "outputs": [],
   "source": [
    "# and this is from https://github.com/lsst/daf_butler/blob/1e3d68c2a155215c755c62404ea5fdd1de110740/python/lsst/daf/butler/direct_butler.py#L1951-L1975\n",
    "dimension_records: dict[DimensionElement, dict[DataCoordinate, DimensionRecord]] = defaultdict(dict)\n",
    "if transfer_dimensions:\n",
    "    # Collect all the dimension records for these refs.\n",
    "    # All dimensions are to be copied but the list of valid dimensions\n",
    "    # come from this butler's universe.\n",
    "    elements = frozenset(\n",
    "        element\n",
    "        for element in self.dimensions.getStaticElements()\n",
    "        if element.hasTable() and element.viewOf is None\n",
    "    )\n",
    "    dataIds = {ref.dataId for ref in source_refs}\n",
    "    # This logic comes from saveDataIds.\n",
    "    for dataId in dataIds:\n",
    "        # Need an expanded record, if not expanded that we need a full\n",
    "        # butler with registry (allow mocks with registry too).\n",
    "        if not dataId.hasRecords():\n",
    "            if registry := getattr(source_butler, \"registry\", None):\n",
    "                dataId = registry.expandDataId(dataId)\n",
    "            else:\n",
    "                raise TypeError(\"Input butler needs to be a full butler to expand DataId.\")\n",
    "        # If this butler doesn't know about a dimension in the source\n",
    "        # butler things will break later.\n",
    "        for record in dataId.records.values():\n",
    "            if record is not None and record.definition in elements:\n",
    "                dimension_records[record.definition].setdefault(record.dataId, record)\n"
   ]
  },
  {
   "cell_type": "code",
   "execution_count": 30,
   "id": "497583ef-9aaa-4fce-b8bc-b0abb3e4ec2f",
   "metadata": {
    "execution": {
     "iopub.execute_input": "2023-11-15T17:41:18.277637Z",
     "iopub.status.busy": "2023-11-15T17:41:18.277458Z",
     "iopub.status.idle": "2023-11-15T17:41:18.280669Z",
     "shell.execute_reply": "2023-11-15T17:41:18.280273Z",
     "shell.execute_reply.started": "2023-11-15T17:41:18.277624Z"
    },
    "tags": []
   },
   "outputs": [
    {
     "name": "stdout",
     "output_type": "stream",
     "text": [
      "frozenset({DatabaseDimension(exposure), DatabaseDimension(subfilter), DatabaseDimension(patch), DatabaseDimensionCombination(visit_system_membership), DatabaseDimension(detector), DatabaseDimension(tract), GovernorDimension(instrument), DatabaseDimension(physical_filter), DatabaseDimensionCombination(visit_detector_region), GovernorDimension(skymap), DatabaseDimension(visit), DatabaseDimensionCombination(visit_definition), DatabaseDimension(visit_system)})\n"
     ]
    }
   ],
   "source": []
  },
  {
   "cell_type": "code",
   "execution_count": 41,
   "id": "afc89b46-35a6-49e1-9ae0-18c8bd81ae2c",
   "metadata": {
    "execution": {
     "iopub.execute_input": "2023-11-15T17:49:27.894090Z",
     "iopub.status.busy": "2023-11-15T17:49:27.893760Z",
     "iopub.status.idle": "2023-11-15T17:49:27.907663Z",
     "shell.execute_reply": "2023-11-15T17:49:27.907269Z",
     "shell.execute_reply.started": "2023-11-15T17:49:27.894069Z"
    },
    "tags": []
   },
   "outputs": [
    {
     "name": "stdout",
     "output_type": "stream",
     "text": [
      "defaultdict(<class 'dict'>, {})\n",
      "frozenset({DatabaseDimension(exposure), DatabaseDimension(subfilter), DatabaseDimension(patch), DatabaseDimensionCombination(visit_system_membership), DatabaseDimension(detector), DatabaseDimension(tract), GovernorDimension(instrument), DatabaseDimension(physical_filter), DatabaseDimensionCombination(visit_detector_region), GovernorDimension(skymap), DatabaseDimension(visit), DatabaseDimensionCombination(visit_definition), DatabaseDimension(visit_system)})\n",
      "dataIds {{instrument: 'LATISS', detector: 0, exposure: 2022083100005, ...}, {instrument: 'LATISS', detector: 0, exposure: 2022083100004, ...}}\n"
     ]
    }
   ],
   "source": [
    "# re-defining stuff to align with the butler code:\n",
    "source_refs = datasetRefs\n",
    "source_butler = butler\n",
    "\n",
    "from collections import Counter, defaultdict\n",
    "from lsst.daf.butler import (\n",
    "    DataCoordinate,\n",
    "    DataId,\n",
    "    DataIdValue,\n",
    "    Dimension,\n",
    "    DimensionElement,\n",
    "    DimensionRecord,\n",
    "    DimensionUniverse,\n",
    ")\n",
    "\n",
    "dimension_records: dict[DimensionElement, dict[DataCoordinate, DimensionRecord]] = defaultdict(dict)\n",
    "print(dimension_records)\n",
    "\n",
    "elements = frozenset(\n",
    "                element\n",
    "                for element in dest_butler.dimensions.getStaticElements()\n",
    "                if element.hasTable() and element.viewOf is None\n",
    "            )\n",
    "print(elements)\n",
    "\n",
    "dataIds = {ref.dataId for ref in source_refs}\n",
    "print('dataIds', dataIds)\n",
    "\n",
    "# This logic comes from saveDataIds.\n",
    "for dataId in dataIds:\n",
    "    # Need an expanded record, if not expanded that we need a full\n",
    "    # butler with registry (allow mocks with registry too).\n",
    "    if not dataId.hasRecords():\n",
    "        if registry := getattr(source_butler, \"registry\", None):\n",
    "            dataId = registry.expandDataId(dataId)\n",
    "        else:\n",
    "            raise TypeError(\"Input butler needs to be a full butler to expand DataId.\")\n",
    "    # If this butler doesn't know about a dimension in the source\n",
    "    # butler things will break later.\n",
    "    for record in dataId.records.values():\n",
    "        if record is not None and record.definition in elements:\n",
    "            dimension_records[record.definition].setdefault(record.dataId, record)\n"
   ]
  },
  {
   "cell_type": "code",
   "execution_count": 43,
   "id": "8b3da80b-760e-4040-8625-c0f18090fd37",
   "metadata": {
    "execution": {
     "iopub.execute_input": "2023-11-15T17:50:28.111504Z",
     "iopub.status.busy": "2023-11-15T17:50:28.111062Z",
     "iopub.status.idle": "2023-11-15T17:50:28.113887Z",
     "shell.execute_reply": "2023-11-15T17:50:28.113536Z",
     "shell.execute_reply.started": "2023-11-15T17:50:28.111490Z"
    },
    "tags": []
   },
   "outputs": [
    {
     "name": "stdout",
     "output_type": "stream",
     "text": [
      "defaultdict(<class 'dict'>, {GovernorDimension(instrument): {{instrument: 'LATISS'}: instrument.RecordClass(name='LATISS', visit_max=6050123199999, visit_system=2, exposure_max=6050123199999, detector_max=1, class_name='lsst.obs.lsst.Latiss')}, DatabaseDimension(detector): {{instrument: 'LATISS', detector: 0}: detector.RecordClass(instrument='LATISS', id=0, full_name='RXX_S00', name_in_raft='RXX_S00', raft=None, purpose='SCIENCE')}, DatabaseDimension(physical_filter): {{instrument: 'LATISS', physical_filter: 'unknown~unknown'}: physical_filter.RecordClass(instrument='LATISS', name='unknown~unknown', band='unknown')}, DatabaseDimension(exposure): {{instrument: 'LATISS', exposure: 2022083100005}: exposure.RecordClass(instrument='LATISS', id=2022083100005, physical_filter='unknown~unknown', obs_id='AT_O_20220831_000005', exposure_time=0.0, dark_time=0.011363, observation_type='bias', observation_reason='bias', day_obs=20220831, seq_num=5, seq_start=5, seq_end=5, group_name='2022083100005', group_id=2022083100005, target_name='UNKNOWN', science_program='unknown', tracking_ra=None, tracking_dec=None, sky_angle=None, azimuth=None, zenith_angle=None, has_simulated=False, timespan=Timespan(begin=astropy.time.Time('2022-08-31 22:59:03.162020', scale='tai', format='iso'), end=astropy.time.Time('2022-08-31 22:59:03.173000', scale='tai', format='iso'))), {instrument: 'LATISS', exposure: 2022083100004}: exposure.RecordClass(instrument='LATISS', id=2022083100004, physical_filter='unknown~unknown', obs_id='AT_O_20220831_000004', exposure_time=0.0, dark_time=0.0160482, observation_type='bias', observation_reason='bias', day_obs=20220831, seq_num=4, seq_start=4, seq_end=4, group_name='2022083100004', group_id=2022083100004, target_name='UNKNOWN', science_program='unknown', tracking_ra=None, tracking_dec=None, sky_angle=None, azimuth=None, zenith_angle=None, has_simulated=False, timespan=Timespan(begin=astropy.time.Time('2022-08-31 22:58:13.633984', scale='tai', format='iso'), end=astropy.time.Time('2022-08-31 22:58:13.650000', scale='tai', format='iso')))}})\n"
     ]
    }
   ],
   "source": [
    "print(dimension_records)"
   ]
  },
  {
   "cell_type": "code",
   "execution_count": 42,
   "id": "dea4372f-0085-4a08-b9c2-4f6fcb714702",
   "metadata": {
    "execution": {
     "iopub.execute_input": "2023-11-15T17:49:54.917798Z",
     "iopub.status.busy": "2023-11-15T17:49:54.917410Z",
     "iopub.status.idle": "2023-11-15T17:49:54.970130Z",
     "shell.execute_reply": "2023-11-15T17:49:54.969548Z",
     "shell.execute_reply.started": "2023-11-15T17:49:54.917783Z"
    },
    "tags": []
   },
   "outputs": [
    {
     "ename": "DataIdValueError",
     "evalue": "Could not fetch record for required dimension instrument via keys {'instrument': 'LATISS', 'detector': 0, 'exposure': 2022083100004}.",
     "output_type": "error",
     "traceback": [
      "\u001b[0;31m---------------------------------------------------------------------------\u001b[0m",
      "\u001b[0;31mDataIdValueError\u001b[0m                          Traceback (most recent call last)",
      "Cell \u001b[0;32mIn[42], line 2\u001b[0m\n\u001b[1;32m      1\u001b[0m \u001b[38;5;66;03m# ingest to the destination butler\u001b[39;00m\n\u001b[0;32m----> 2\u001b[0m \u001b[43mdest_butler\u001b[49m\u001b[38;5;241;43m.\u001b[39;49m\u001b[43mingest\u001b[49m\u001b[43m(\u001b[49m\u001b[38;5;241;43m*\u001b[39;49m\u001b[43mfiledataset_list\u001b[49m\u001b[43m,\u001b[49m\u001b[43m \u001b[49m\u001b[43mtransfer\u001b[49m\u001b[43m \u001b[49m\u001b[38;5;241;43m=\u001b[39;49m\u001b[43m \u001b[49m\u001b[38;5;124;43m'\u001b[39;49m\u001b[38;5;124;43mdirect\u001b[39;49m\u001b[38;5;124;43m'\u001b[39;49m\u001b[43m)\u001b[49m\n",
      "File \u001b[0;32m/opt/lsst/software/stack/stack/miniconda3-py38_4.9.2-7.0.1/Linux64/daf_butler/gfc0b858265+07967ebf72/python/lsst/daf/butler/core/utils.py:61\u001b[0m, in \u001b[0;36mtransactional.<locals>.inner\u001b[0;34m(self, *args, **kwargs)\u001b[0m\n\u001b[1;32m     58\u001b[0m \u001b[38;5;129m@functools\u001b[39m\u001b[38;5;241m.\u001b[39mwraps(func)\n\u001b[1;32m     59\u001b[0m \u001b[38;5;28;01mdef\u001b[39;00m \u001b[38;5;21minner\u001b[39m(\u001b[38;5;28mself\u001b[39m: Any, \u001b[38;5;241m*\u001b[39margs: Any, \u001b[38;5;241m*\u001b[39m\u001b[38;5;241m*\u001b[39mkwargs: Any) \u001b[38;5;241m-\u001b[39m\u001b[38;5;241m>\u001b[39m Any:\n\u001b[1;32m     60\u001b[0m     \u001b[38;5;28;01mwith\u001b[39;00m \u001b[38;5;28mself\u001b[39m\u001b[38;5;241m.\u001b[39mtransaction():\n\u001b[0;32m---> 61\u001b[0m         \u001b[38;5;28;01mreturn\u001b[39;00m \u001b[43mfunc\u001b[49m\u001b[43m(\u001b[49m\u001b[38;5;28;43mself\u001b[39;49m\u001b[43m,\u001b[49m\u001b[43m \u001b[49m\u001b[38;5;241;43m*\u001b[39;49m\u001b[43margs\u001b[49m\u001b[43m,\u001b[49m\u001b[43m \u001b[49m\u001b[38;5;241;43m*\u001b[39;49m\u001b[38;5;241;43m*\u001b[39;49m\u001b[43mkwargs\u001b[49m\u001b[43m)\u001b[49m\n",
      "File \u001b[0;32m/opt/lsst/software/stack/stack/miniconda3-py38_4.9.2-7.0.1/Linux64/daf_butler/gfc0b858265+07967ebf72/python/lsst/daf/butler/_butler.py:2080\u001b[0m, in \u001b[0;36mButler.ingest\u001b[0;34m(self, transfer, run, idGenerationMode, record_validation_info, *datasets)\u001b[0m\n\u001b[1;32m   2069\u001b[0m log\u001b[38;5;241m.\u001b[39mverbose(\n\u001b[1;32m   2070\u001b[0m     \u001b[38;5;124m\"\u001b[39m\u001b[38;5;124mImporting \u001b[39m\u001b[38;5;132;01m%d\u001b[39;00m\u001b[38;5;124m ref\u001b[39m\u001b[38;5;132;01m%s\u001b[39;00m\u001b[38;5;124m of dataset type \u001b[39m\u001b[38;5;132;01m%r\u001b[39;00m\u001b[38;5;124m into run \u001b[39m\u001b[38;5;132;01m%r\u001b[39;00m\u001b[38;5;124m\"\u001b[39m,\n\u001b[1;32m   2071\u001b[0m     n_refs,\n\u001b[0;32m   (...)\u001b[0m\n\u001b[1;32m   2074\u001b[0m     this_run,\n\u001b[1;32m   2075\u001b[0m )\n\u001b[1;32m   2077\u001b[0m \u001b[38;5;66;03m# Import the refs and expand the DataCoordinates since we can't\u001b[39;00m\n\u001b[1;32m   2078\u001b[0m \u001b[38;5;66;03m# guarantee that they are expanded and Datastore will need\u001b[39;00m\n\u001b[1;32m   2079\u001b[0m \u001b[38;5;66;03m# the records.\u001b[39;00m\n\u001b[0;32m-> 2080\u001b[0m imported_refs \u001b[38;5;241m=\u001b[39m \u001b[38;5;28;43mself\u001b[39;49m\u001b[38;5;241;43m.\u001b[39;49m\u001b[43m_registry\u001b[49m\u001b[38;5;241;43m.\u001b[39;49m\u001b[43m_importDatasets\u001b[49m\u001b[43m(\u001b[49m\u001b[43mrefs_to_import\u001b[49m\u001b[43m,\u001b[49m\u001b[43m \u001b[49m\u001b[43mexpand\u001b[49m\u001b[38;5;241;43m=\u001b[39;49m\u001b[38;5;28;43;01mTrue\u001b[39;49;00m\u001b[43m)\u001b[49m\n\u001b[1;32m   2081\u001b[0m \u001b[38;5;28;01massert\u001b[39;00m \u001b[38;5;28mset\u001b[39m(imported_refs) \u001b[38;5;241m==\u001b[39m \u001b[38;5;28mset\u001b[39m(refs_to_import)\n\u001b[1;32m   2083\u001b[0m \u001b[38;5;66;03m# Replace all the refs in the FileDataset with expanded versions.\u001b[39;00m\n\u001b[1;32m   2084\u001b[0m \u001b[38;5;66;03m# Pull them off in the order we put them on the list.\u001b[39;00m\n",
      "File \u001b[0;32m/opt/lsst/software/stack/stack/miniconda3-py38_4.9.2-7.0.1/Linux64/daf_butler/gfc0b858265+07967ebf72/python/lsst/daf/butler/core/utils.py:61\u001b[0m, in \u001b[0;36mtransactional.<locals>.inner\u001b[0;34m(self, *args, **kwargs)\u001b[0m\n\u001b[1;32m     58\u001b[0m \u001b[38;5;129m@functools\u001b[39m\u001b[38;5;241m.\u001b[39mwraps(func)\n\u001b[1;32m     59\u001b[0m \u001b[38;5;28;01mdef\u001b[39;00m \u001b[38;5;21minner\u001b[39m(\u001b[38;5;28mself\u001b[39m: Any, \u001b[38;5;241m*\u001b[39margs: Any, \u001b[38;5;241m*\u001b[39m\u001b[38;5;241m*\u001b[39mkwargs: Any) \u001b[38;5;241m-\u001b[39m\u001b[38;5;241m>\u001b[39m Any:\n\u001b[1;32m     60\u001b[0m     \u001b[38;5;28;01mwith\u001b[39;00m \u001b[38;5;28mself\u001b[39m\u001b[38;5;241m.\u001b[39mtransaction():\n\u001b[0;32m---> 61\u001b[0m         \u001b[38;5;28;01mreturn\u001b[39;00m \u001b[43mfunc\u001b[49m\u001b[43m(\u001b[49m\u001b[38;5;28;43mself\u001b[39;49m\u001b[43m,\u001b[49m\u001b[43m \u001b[49m\u001b[38;5;241;43m*\u001b[39;49m\u001b[43margs\u001b[49m\u001b[43m,\u001b[49m\u001b[43m \u001b[49m\u001b[38;5;241;43m*\u001b[39;49m\u001b[38;5;241;43m*\u001b[39;49m\u001b[43mkwargs\u001b[49m\u001b[43m)\u001b[49m\n",
      "File \u001b[0;32m/opt/lsst/software/stack/stack/miniconda3-py38_4.9.2-7.0.1/Linux64/daf_butler/gfc0b858265+07967ebf72/python/lsst/daf/butler/registries/sql.py:646\u001b[0m, in \u001b[0;36mSqlRegistry._importDatasets\u001b[0;34m(self, datasets, expand)\u001b[0m\n\u001b[1;32m    644\u001b[0m progress \u001b[38;5;241m=\u001b[39m Progress(\u001b[38;5;124m\"\u001b[39m\u001b[38;5;124mdaf.butler.Registry.insertDatasets\u001b[39m\u001b[38;5;124m\"\u001b[39m, level\u001b[38;5;241m=\u001b[39mlogging\u001b[38;5;241m.\u001b[39mDEBUG)\n\u001b[1;32m    645\u001b[0m \u001b[38;5;28;01mif\u001b[39;00m expand:\n\u001b[0;32m--> 646\u001b[0m     expandedDatasets \u001b[38;5;241m=\u001b[39m \u001b[43m[\u001b[49m\n\u001b[1;32m    647\u001b[0m \u001b[43m        \u001b[49m\u001b[43mdataset\u001b[49m\u001b[38;5;241;43m.\u001b[39;49m\u001b[43mexpanded\u001b[49m\u001b[43m(\u001b[49m\u001b[38;5;28;43mself\u001b[39;49m\u001b[38;5;241;43m.\u001b[39;49m\u001b[43mexpandDataId\u001b[49m\u001b[43m(\u001b[49m\u001b[43mdataset\u001b[49m\u001b[38;5;241;43m.\u001b[39;49m\u001b[43mdataId\u001b[49m\u001b[43m,\u001b[49m\u001b[43m \u001b[49m\u001b[43mgraph\u001b[49m\u001b[38;5;241;43m=\u001b[39;49m\u001b[43mstorage\u001b[49m\u001b[38;5;241;43m.\u001b[39;49m\u001b[43mdatasetType\u001b[49m\u001b[38;5;241;43m.\u001b[39;49m\u001b[43mdimensions\u001b[49m\u001b[43m)\u001b[49m\u001b[43m)\u001b[49m\n\u001b[1;32m    648\u001b[0m \u001b[43m        \u001b[49m\u001b[38;5;28;43;01mfor\u001b[39;49;00m\u001b[43m \u001b[49m\u001b[43mdataset\u001b[49m\u001b[43m \u001b[49m\u001b[38;5;129;43;01min\u001b[39;49;00m\u001b[43m \u001b[49m\u001b[43mprogress\u001b[49m\u001b[38;5;241;43m.\u001b[39;49m\u001b[43mwrap\u001b[49m\u001b[43m(\u001b[49m\u001b[43mdatasets\u001b[49m\u001b[43m,\u001b[49m\u001b[43m \u001b[49m\u001b[38;5;124;43mf\u001b[39;49m\u001b[38;5;124;43m\"\u001b[39;49m\u001b[38;5;124;43mExpanding \u001b[39;49m\u001b[38;5;132;43;01m{\u001b[39;49;00m\u001b[43mstorage\u001b[49m\u001b[38;5;241;43m.\u001b[39;49m\u001b[43mdatasetType\u001b[49m\u001b[38;5;241;43m.\u001b[39;49m\u001b[43mname\u001b[49m\u001b[38;5;132;43;01m}\u001b[39;49;00m\u001b[38;5;124;43m data IDs\u001b[39;49m\u001b[38;5;124;43m\"\u001b[39;49m\u001b[43m)\u001b[49m\n\u001b[1;32m    649\u001b[0m \u001b[43m    \u001b[49m\u001b[43m]\u001b[49m\n\u001b[1;32m    650\u001b[0m \u001b[38;5;28;01melse\u001b[39;00m:\n\u001b[1;32m    651\u001b[0m     expandedDatasets \u001b[38;5;241m=\u001b[39m [\n\u001b[1;32m    652\u001b[0m         DatasetRef(datasetType, dataset\u001b[38;5;241m.\u001b[39mdataId, \u001b[38;5;28mid\u001b[39m\u001b[38;5;241m=\u001b[39mdataset\u001b[38;5;241m.\u001b[39mid, run\u001b[38;5;241m=\u001b[39mdataset\u001b[38;5;241m.\u001b[39mrun, conform\u001b[38;5;241m=\u001b[39m\u001b[38;5;28;01mTrue\u001b[39;00m)\n\u001b[1;32m    653\u001b[0m         \u001b[38;5;28;01mfor\u001b[39;00m dataset \u001b[38;5;129;01min\u001b[39;00m datasets\n\u001b[1;32m    654\u001b[0m     ]\n",
      "File \u001b[0;32m/opt/lsst/software/stack/stack/miniconda3-py38_4.9.2-7.0.1/Linux64/daf_butler/gfc0b858265+07967ebf72/python/lsst/daf/butler/registries/sql.py:647\u001b[0m, in \u001b[0;36m<listcomp>\u001b[0;34m(.0)\u001b[0m\n\u001b[1;32m    644\u001b[0m progress \u001b[38;5;241m=\u001b[39m Progress(\u001b[38;5;124m\"\u001b[39m\u001b[38;5;124mdaf.butler.Registry.insertDatasets\u001b[39m\u001b[38;5;124m\"\u001b[39m, level\u001b[38;5;241m=\u001b[39mlogging\u001b[38;5;241m.\u001b[39mDEBUG)\n\u001b[1;32m    645\u001b[0m \u001b[38;5;28;01mif\u001b[39;00m expand:\n\u001b[1;32m    646\u001b[0m     expandedDatasets \u001b[38;5;241m=\u001b[39m [\n\u001b[0;32m--> 647\u001b[0m         dataset\u001b[38;5;241m.\u001b[39mexpanded(\u001b[38;5;28;43mself\u001b[39;49m\u001b[38;5;241;43m.\u001b[39;49m\u001b[43mexpandDataId\u001b[49m\u001b[43m(\u001b[49m\u001b[43mdataset\u001b[49m\u001b[38;5;241;43m.\u001b[39;49m\u001b[43mdataId\u001b[49m\u001b[43m,\u001b[49m\u001b[43m \u001b[49m\u001b[43mgraph\u001b[49m\u001b[38;5;241;43m=\u001b[39;49m\u001b[43mstorage\u001b[49m\u001b[38;5;241;43m.\u001b[39;49m\u001b[43mdatasetType\u001b[49m\u001b[38;5;241;43m.\u001b[39;49m\u001b[43mdimensions\u001b[49m\u001b[43m)\u001b[49m)\n\u001b[1;32m    648\u001b[0m         \u001b[38;5;28;01mfor\u001b[39;00m dataset \u001b[38;5;129;01min\u001b[39;00m progress\u001b[38;5;241m.\u001b[39mwrap(datasets, \u001b[38;5;124mf\u001b[39m\u001b[38;5;124m\"\u001b[39m\u001b[38;5;124mExpanding \u001b[39m\u001b[38;5;132;01m{\u001b[39;00mstorage\u001b[38;5;241m.\u001b[39mdatasetType\u001b[38;5;241m.\u001b[39mname\u001b[38;5;132;01m}\u001b[39;00m\u001b[38;5;124m data IDs\u001b[39m\u001b[38;5;124m\"\u001b[39m)\n\u001b[1;32m    649\u001b[0m     ]\n\u001b[1;32m    650\u001b[0m \u001b[38;5;28;01melse\u001b[39;00m:\n\u001b[1;32m    651\u001b[0m     expandedDatasets \u001b[38;5;241m=\u001b[39m [\n\u001b[1;32m    652\u001b[0m         DatasetRef(datasetType, dataset\u001b[38;5;241m.\u001b[39mdataId, \u001b[38;5;28mid\u001b[39m\u001b[38;5;241m=\u001b[39mdataset\u001b[38;5;241m.\u001b[39mid, run\u001b[38;5;241m=\u001b[39mdataset\u001b[38;5;241m.\u001b[39mrun, conform\u001b[38;5;241m=\u001b[39m\u001b[38;5;28;01mTrue\u001b[39;00m)\n\u001b[1;32m    653\u001b[0m         \u001b[38;5;28;01mfor\u001b[39;00m dataset \u001b[38;5;129;01min\u001b[39;00m datasets\n\u001b[1;32m    654\u001b[0m     ]\n",
      "File \u001b[0;32m/opt/lsst/software/stack/stack/miniconda3-py38_4.9.2-7.0.1/Linux64/daf_butler/gfc0b858265+07967ebf72/python/lsst/daf/butler/registries/sql.py:860\u001b[0m, in \u001b[0;36mSqlRegistry.expandDataId\u001b[0;34m(self, dataId, graph, records, withDefaults, **kwargs)\u001b[0m\n\u001b[1;32m    858\u001b[0m \u001b[38;5;28;01melse\u001b[39;00m:\n\u001b[1;32m    859\u001b[0m     \u001b[38;5;28;01mif\u001b[39;00m element \u001b[38;5;129;01min\u001b[39;00m standardized\u001b[38;5;241m.\u001b[39mgraph\u001b[38;5;241m.\u001b[39mrequired:\n\u001b[0;32m--> 860\u001b[0m         \u001b[38;5;28;01mraise\u001b[39;00m DataIdValueError(\n\u001b[1;32m    861\u001b[0m             \u001b[38;5;124mf\u001b[39m\u001b[38;5;124m\"\u001b[39m\u001b[38;5;124mCould not fetch record for required dimension \u001b[39m\u001b[38;5;132;01m{\u001b[39;00melement\u001b[38;5;241m.\u001b[39mname\u001b[38;5;132;01m}\u001b[39;00m\u001b[38;5;124m via keys \u001b[39m\u001b[38;5;132;01m{\u001b[39;00mkeys\u001b[38;5;132;01m}\u001b[39;00m\u001b[38;5;124m.\u001b[39m\u001b[38;5;124m\"\u001b[39m\n\u001b[1;32m    862\u001b[0m         )\n\u001b[1;32m    863\u001b[0m     \u001b[38;5;28;01mif\u001b[39;00m element\u001b[38;5;241m.\u001b[39malwaysJoin:\n\u001b[1;32m    864\u001b[0m         \u001b[38;5;28;01mraise\u001b[39;00m InconsistentDataIdError(\n\u001b[1;32m    865\u001b[0m             \u001b[38;5;124mf\u001b[39m\u001b[38;5;124m\"\u001b[39m\u001b[38;5;124mCould not fetch record for element \u001b[39m\u001b[38;5;132;01m{\u001b[39;00melement\u001b[38;5;241m.\u001b[39mname\u001b[38;5;132;01m}\u001b[39;00m\u001b[38;5;124m via keys \u001b[39m\u001b[38;5;132;01m{\u001b[39;00mkeys\u001b[38;5;132;01m}\u001b[39;00m\u001b[38;5;124m, \u001b[39m\u001b[38;5;124m\"\u001b[39m,\n\u001b[1;32m    866\u001b[0m             \u001b[38;5;124m\"\u001b[39m\u001b[38;5;124mbut it is marked alwaysJoin=True; this means one or more dimensions are not \u001b[39m\u001b[38;5;124m\"\u001b[39m\n\u001b[1;32m    867\u001b[0m             \u001b[38;5;124m\"\u001b[39m\u001b[38;5;124mrelated.\u001b[39m\u001b[38;5;124m\"\u001b[39m,\n\u001b[1;32m    868\u001b[0m         )\n",
      "\u001b[0;31mDataIdValueError\u001b[0m: Could not fetch record for required dimension instrument via keys {'instrument': 'LATISS', 'detector': 0, 'exposure': 2022083100004}."
     ]
    }
   ],
   "source": [
    "# ingest to the destination butler\n",
    "dest_butler.ingest(*filedataset_list, transfer = 'direct')"
   ]
  },
  {
   "cell_type": "code",
   "execution_count": 30,
   "id": "6ce27fd3-1135-4974-b524-c73d02cc7ac2",
   "metadata": {
    "execution": {
     "iopub.execute_input": "2023-11-11T01:56:30.521553Z",
     "iopub.status.busy": "2023-11-11T01:56:30.521049Z",
     "iopub.status.idle": "2023-11-11T01:56:30.701975Z",
     "shell.execute_reply": "2023-11-11T01:56:30.701473Z",
     "shell.execute_reply.started": "2023-11-11T01:56:30.521539Z"
    },
    "tags": []
   },
   "outputs": [
    {
     "name": "stdout",
     "output_type": "stream",
     "text": [
      "<lsst.daf.butler._registry_shim.RegistryShim object at 0x7f9931f2ac50>\n",
      "results []\n"
     ]
    }
   ],
   "source": [
    "# test dimensionrecord\n",
    "print(dest_registry)\n",
    "\n",
    "results = dest_registry.queryDimensionRecords( 'exposure',\n",
    "                                                 collections='LATISS/raw/all',\n",
    "                                                 datasets='raw')\n",
    "results = list( set(results) )\n",
    "print('results', results)"
   ]
  },
  {
   "cell_type": "code",
   "execution_count": null,
   "id": "b2eec2fd-ce6e-4f67-ac0f-9f092a778fde",
   "metadata": {},
   "outputs": [],
   "source": [
    "#https://pipelines.lsst.io/v/daily/py-api/lsst.daf.butler.Registry.html#lsst.daf.butler.Registry.queryDimensionRecords"
   ]
  },
  {
   "cell_type": "code",
   "execution_count": 31,
   "id": "2e6567ea-1841-4c23-8c91-3eee86167920",
   "metadata": {
    "execution": {
     "iopub.execute_input": "2023-11-11T02:00:59.749863Z",
     "iopub.status.busy": "2023-11-11T02:00:59.749654Z",
     "iopub.status.idle": "2023-11-11T02:00:59.764222Z",
     "shell.execute_reply": "2023-11-11T02:00:59.763534Z",
     "shell.execute_reply.started": "2023-11-11T02:00:59.749847Z"
    },
    "tags": []
   },
   "outputs": [
    {
     "ename": "TypeError",
     "evalue": "RegistryShim.syncDimensionData() missing 2 required positional arguments: 'element' and 'row'",
     "output_type": "error",
     "traceback": [
      "\u001b[0;31m---------------------------------------------------------------------------\u001b[0m",
      "\u001b[0;31mTypeError\u001b[0m                                 Traceback (most recent call last)",
      "Cell \u001b[0;32mIn[31], line 1\u001b[0m\n\u001b[0;32m----> 1\u001b[0m \u001b[43mdest_registry\u001b[49m\u001b[38;5;241;43m.\u001b[39;49m\u001b[43msyncDimensionData\u001b[49m\u001b[43m(\u001b[49m\u001b[43m)\u001b[49m\n",
      "\u001b[0;31mTypeError\u001b[0m: RegistryShim.syncDimensionData() missing 2 required positional arguments: 'element' and 'row'"
     ]
    }
   ],
   "source": [
    "dest_registry.syncDimensionData()\n"
   ]
  },
  {
   "cell_type": "markdown",
   "id": "0e3a5a5a-46bc-439c-9e77-2d24d2c1c8b0",
   "metadata": {},
   "source": [
    "Use datasetRefs to look up the URI"
   ]
  },
  {
   "cell_type": "code",
   "execution_count": null,
   "id": "755761cb-01d7-4eed-84df-8d0c3ab6dbca",
   "metadata": {
    "tags": []
   },
   "outputs": [],
   "source": [
    "\n",
    "dest_uri.join(LATISS/20220831/AT_O_20220831_000004/AT_O_20220831_000004_R00_S00.fits)\n",
    "# dest_prefix = '/sdf/data/rubin/lsstdata/offline/instrument/'\n",
    "# dest_uri = dest_prefix + 'LATISS'\n",
    "# dest = Butler(dest_prefix, writeable=True)\n",
    "\n",
    "#dest_registry = dest.registry"
   ]
  },
  {
   "cell_type": "code",
   "execution_count": 98,
   "id": "02f1bbce-14e8-4a42-ae73-c8a88bc08697",
   "metadata": {
    "execution": {
     "iopub.execute_input": "2023-10-23T20:55:43.508351Z",
     "iopub.status.busy": "2023-10-23T20:55:43.508101Z",
     "iopub.status.idle": "2023-10-23T20:55:43.522877Z",
     "shell.execute_reply": "2023-10-23T20:55:43.522396Z",
     "shell.execute_reply.started": "2023-10-23T20:55:43.508336Z"
    },
    "tags": []
   },
   "outputs": [
    {
     "name": "stdout",
     "output_type": "stream",
     "text": [
      "key raw@{instrument: 'LATISS', detector: 0, exposure: 2022083100004, ...} [sc=Exposure] (run=LATISS/raw/all id=cfd59ff4-4991-5093-b499-b3aff2d2089c) value DatasetRefURIs(ResourcePath(\"s3://rubin-summit/LATISS/20220831/AT_O_20220831_000004/AT_O_20220831_000004_R00_S00.fits\"), {})\n"
     ]
    },
    {
     "ename": "AttributeError",
     "evalue": "'DatasetRefURIs' object has no attribute 'as_local'",
     "output_type": "error",
     "traceback": [
      "\u001b[0;31m---------------------------------------------------------------------------\u001b[0m",
      "\u001b[0;31mAttributeError\u001b[0m                            Traceback (most recent call last)",
      "Cell \u001b[0;32mIn[98], line 4\u001b[0m\n\u001b[1;32m      2\u001b[0m \u001b[38;5;28;01mfor\u001b[39;00m (key, value) \u001b[38;5;129;01min\u001b[39;00m source_uri\u001b[38;5;241m.\u001b[39mitems():\n\u001b[1;32m      3\u001b[0m     \u001b[38;5;28mprint\u001b[39m(\u001b[38;5;124m'\u001b[39m\u001b[38;5;124mkey\u001b[39m\u001b[38;5;124m'\u001b[39m, key,\u001b[38;5;124m'\u001b[39m\u001b[38;5;124mvalue\u001b[39m\u001b[38;5;124m'\u001b[39m, value)\n\u001b[0;32m----> 4\u001b[0m     \u001b[38;5;28mprint\u001b[39m(\u001b[43mvalue\u001b[49m\u001b[38;5;241;43m.\u001b[39;49m\u001b[43mas_local\u001b[49m())\n\u001b[1;32m      5\u001b[0m STOP\n\u001b[1;32m      6\u001b[0m \u001b[38;5;28mprint\u001b[39m(source_uri\u001b[38;5;241m.\u001b[39mkeys())\n",
      "\u001b[0;31mAttributeError\u001b[0m: 'DatasetRefURIs' object has no attribute 'as_local'"
     ]
    }
   ],
   "source": [
    "#for i, (key, value) in enumerate(my_dict.items()):\n",
    "for (key, value) in source_uri.items():\n",
    "    print('key', key,'value', value)\n",
    "    print(value.as_local())\n",
    "    \n",
    "STOP\n",
    "print(source_uri.keys())\n",
    "print(source_uri[0].exists())"
   ]
  },
  {
   "cell_type": "markdown",
   "id": "5b2d2561-c6b0-4fb0-ab7c-8e300a9d8fd5",
   "metadata": {},
   "source": [
    "The below cell is failing because transfer_from is expecting a dict object from source_uri that has an as_local() element. When we obtain the source_uri list, there is an empty element for the component URI, but I'm not sure if this is the root of the issue.\n"
   ]
  },
  {
   "cell_type": "code",
   "execution_count": 103,
   "id": "1e7020e1-3da8-4665-a611-b56baf07d4f0",
   "metadata": {
    "execution": {
     "iopub.execute_input": "2023-10-23T20:56:46.963550Z",
     "iopub.status.busy": "2023-10-23T20:56:46.963300Z",
     "iopub.status.idle": "2023-10-23T20:56:46.989140Z",
     "shell.execute_reply": "2023-10-23T20:56:46.988682Z",
     "shell.execute_reply.started": "2023-10-23T20:56:46.963537Z"
    },
    "tags": []
   },
   "outputs": [
    {
     "ename": "AttributeError",
     "evalue": "'dict' object has no attribute 'as_local'",
     "output_type": "error",
     "traceback": [
      "\u001b[0;31m---------------------------------------------------------------------------\u001b[0m",
      "\u001b[0;31mAttributeError\u001b[0m                            Traceback (most recent call last)",
      "Cell \u001b[0;32mIn[103], line 3\u001b[0m\n\u001b[1;32m      1\u001b[0m \u001b[38;5;66;03m# we need dest_uri to not be a string\u001b[39;00m\n\u001b[1;32m      2\u001b[0m \u001b[38;5;66;03m# and to actually be \u001b[39;00m\n\u001b[0;32m----> 3\u001b[0m \u001b[43mdest_uri\u001b[49m\u001b[38;5;241;43m.\u001b[39;49m\u001b[43mtransfer_from\u001b[49m\u001b[43m(\u001b[49m\u001b[43msource_uri\u001b[49m\u001b[43m,\u001b[49m\u001b[43m \u001b[49m\u001b[43mtransfer\u001b[49m\u001b[38;5;241;43m=\u001b[39;49m\u001b[38;5;124;43m'\u001b[39;49m\u001b[38;5;124;43mcopy\u001b[39;49m\u001b[38;5;124;43m'\u001b[39;49m\u001b[43m)\u001b[49m\n\u001b[1;32m      5\u001b[0m \u001b[38;5;66;03m# next do ingest\u001b[39;00m\n\u001b[1;32m      6\u001b[0m \u001b[38;5;66;03m# The ingestion should then be handled using butler.ingest() using the existing DatasetRef from /repo/embargo and the new (absolute) destination path, using transfer mode direct.\u001b[39;00m\n\u001b[1;32m      7\u001b[0m \u001b[38;5;66;03m# https://pipelines.lsst.io/py-api/lsst.daf.butler.Butler.html#lsst.daf.butler.Butler.ingest\u001b[39;00m\n\u001b[1;32m      8\u001b[0m dest\u001b[38;5;241m.\u001b[39mingest(datasetRefs, mode \u001b[38;5;241m=\u001b[39m \u001b[38;5;124m'\u001b[39m\u001b[38;5;124mdirect\u001b[39m\u001b[38;5;124m'\u001b[39m)\n",
      "File \u001b[0;32m/opt/lsst/software/stack/stack/miniconda3-py38_4.9.2-7.0.1/Linux64/resources/g24611a4c00+e358f92434/python/lsst/resources/file.py:169\u001b[0m, in \u001b[0;36mFileResourcePath.transfer_from\u001b[0;34m(self, src, transfer, overwrite, transaction)\u001b[0m\n\u001b[1;32m    158\u001b[0m     log\u001b[38;5;241m.\u001b[39mdebug(\n\u001b[1;32m    159\u001b[0m         \u001b[38;5;124m\"\u001b[39m\u001b[38;5;124mTransferring \u001b[39m\u001b[38;5;132;01m%s\u001b[39;00m\u001b[38;5;124m [exists: \u001b[39m\u001b[38;5;132;01m%s\u001b[39;00m\u001b[38;5;124m] -> \u001b[39m\u001b[38;5;132;01m%s\u001b[39;00m\u001b[38;5;124m [exists: \u001b[39m\u001b[38;5;132;01m%s\u001b[39;00m\u001b[38;5;124m] (transfer=\u001b[39m\u001b[38;5;132;01m%s\u001b[39;00m\u001b[38;5;124m)\u001b[39m\u001b[38;5;124m\"\u001b[39m,\n\u001b[1;32m    160\u001b[0m         src,\n\u001b[0;32m   (...)\u001b[0m\n\u001b[1;32m    164\u001b[0m         transfer,\n\u001b[1;32m    165\u001b[0m     )\n\u001b[1;32m    167\u001b[0m \u001b[38;5;66;03m# We do not have to special case FileResourcePath here because\u001b[39;00m\n\u001b[1;32m    168\u001b[0m \u001b[38;5;66;03m# as_local handles that.\u001b[39;00m\n\u001b[0;32m--> 169\u001b[0m \u001b[38;5;28;01mwith\u001b[39;00m \u001b[43msrc\u001b[49m\u001b[38;5;241;43m.\u001b[39;49m\u001b[43mas_local\u001b[49m() \u001b[38;5;28;01mas\u001b[39;00m local_uri:\n\u001b[1;32m    170\u001b[0m     is_temporary \u001b[38;5;241m=\u001b[39m local_uri\u001b[38;5;241m.\u001b[39misTemporary\n\u001b[1;32m    171\u001b[0m     local_src \u001b[38;5;241m=\u001b[39m local_uri\u001b[38;5;241m.\u001b[39mospath\n",
      "\u001b[0;31mAttributeError\u001b[0m: 'dict' object has no attribute 'as_local'"
     ]
    }
   ],
   "source": [
    "\n",
    "# we need dest_uri to not be a string\n",
    "# and to actually be \n",
    "dest_uri.transfer_from(source_uri, transfer='copy')\n",
    "\n"
   ]
  },
  {
   "cell_type": "code",
   "execution_count": 125,
   "id": "24ccd655-26e2-4845-b7cd-25eb934b75fa",
   "metadata": {
    "execution": {
     "iopub.execute_input": "2023-10-23T21:07:40.021065Z",
     "iopub.status.busy": "2023-10-23T21:07:40.020888Z",
     "iopub.status.idle": "2023-10-23T21:07:40.045772Z",
     "shell.execute_reply": "2023-10-23T21:07:40.045285Z",
     "shell.execute_reply.started": "2023-10-23T21:07:40.021053Z"
    },
    "tags": []
   },
   "outputs": [
    {
     "ename": "AttributeError",
     "evalue": "'ParentDatasetQueryResults' object has no attribute 'refs'",
     "output_type": "error",
     "traceback": [
      "\u001b[0;31m---------------------------------------------------------------------------\u001b[0m",
      "\u001b[0;31mAttributeError\u001b[0m                            Traceback (most recent call last)",
      "Cell \u001b[0;32mIn[125], line 4\u001b[0m\n\u001b[1;32m      1\u001b[0m \u001b[38;5;66;03m# next do ingest\u001b[39;00m\n\u001b[1;32m      2\u001b[0m \u001b[38;5;66;03m# The ingestion should then be handled using butler.ingest() using the existing DatasetRef from /repo/embargo and the new (absolute) destination path, using transfer mode direct.\u001b[39;00m\n\u001b[1;32m      3\u001b[0m \u001b[38;5;66;03m# https://pipelines.lsst.io/py-api/lsst.daf.butler.Butler.html#lsst.daf.butler.Butler.ingest\u001b[39;00m\n\u001b[0;32m----> 4\u001b[0m \u001b[43mdest\u001b[49m\u001b[38;5;241;43m.\u001b[39;49m\u001b[43mingest\u001b[49m\u001b[43m(\u001b[49m\u001b[43mdatasetRefs\u001b[49m\u001b[43m)\u001b[49m\u001b[38;5;66;03m#, mode = 'direct')\u001b[39;00m\n",
      "File \u001b[0;32m/opt/lsst/software/stack/stack/miniconda3-py38_4.9.2-7.0.1/Linux64/daf_butler/gfc0b858265+07967ebf72/python/lsst/daf/butler/core/utils.py:61\u001b[0m, in \u001b[0;36mtransactional.<locals>.inner\u001b[0;34m(self, *args, **kwargs)\u001b[0m\n\u001b[1;32m     58\u001b[0m \u001b[38;5;129m@functools\u001b[39m\u001b[38;5;241m.\u001b[39mwraps(func)\n\u001b[1;32m     59\u001b[0m \u001b[38;5;28;01mdef\u001b[39;00m \u001b[38;5;21minner\u001b[39m(\u001b[38;5;28mself\u001b[39m: Any, \u001b[38;5;241m*\u001b[39margs: Any, \u001b[38;5;241m*\u001b[39m\u001b[38;5;241m*\u001b[39mkwargs: Any) \u001b[38;5;241m-\u001b[39m\u001b[38;5;241m>\u001b[39m Any:\n\u001b[1;32m     60\u001b[0m     \u001b[38;5;28;01mwith\u001b[39;00m \u001b[38;5;28mself\u001b[39m\u001b[38;5;241m.\u001b[39mtransaction():\n\u001b[0;32m---> 61\u001b[0m         \u001b[38;5;28;01mreturn\u001b[39;00m \u001b[43mfunc\u001b[49m\u001b[43m(\u001b[49m\u001b[38;5;28;43mself\u001b[39;49m\u001b[43m,\u001b[49m\u001b[43m \u001b[49m\u001b[38;5;241;43m*\u001b[39;49m\u001b[43margs\u001b[49m\u001b[43m,\u001b[49m\u001b[43m \u001b[49m\u001b[38;5;241;43m*\u001b[39;49m\u001b[38;5;241;43m*\u001b[39;49m\u001b[43mkwargs\u001b[49m\u001b[43m)\u001b[49m\n",
      "File \u001b[0;32m/opt/lsst/software/stack/stack/miniconda3-py38_4.9.2-7.0.1/Linux64/daf_butler/gfc0b858265+07967ebf72/python/lsst/daf/butler/_butler.py:2023\u001b[0m, in \u001b[0;36mButler.ingest\u001b[0;34m(self, transfer, run, idGenerationMode, record_validation_info, *datasets)\u001b[0m\n\u001b[1;32m   2018\u001b[0m \u001b[38;5;28;01mfor\u001b[39;00m dataset \u001b[38;5;129;01min\u001b[39;00m progress\u001b[38;5;241m.\u001b[39mwrap(datasets, desc\u001b[38;5;241m=\u001b[39m\u001b[38;5;124m\"\u001b[39m\u001b[38;5;124mGrouping by dataset type\u001b[39m\u001b[38;5;124m\"\u001b[39m):\n\u001b[1;32m   2019\u001b[0m     \u001b[38;5;66;03m# Somewhere to store pre-existing refs if we have an\u001b[39;00m\n\u001b[1;32m   2020\u001b[0m     \u001b[38;5;66;03m# execution butler.\u001b[39;00m\n\u001b[1;32m   2021\u001b[0m     existingRefs: \u001b[38;5;28mlist\u001b[39m[DatasetRef] \u001b[38;5;241m=\u001b[39m []\n\u001b[0;32m-> 2023\u001b[0m     \u001b[38;5;28;01mfor\u001b[39;00m ref \u001b[38;5;129;01min\u001b[39;00m \u001b[43mdataset\u001b[49m\u001b[38;5;241;43m.\u001b[39;49m\u001b[43mrefs\u001b[49m:\n\u001b[1;32m   2024\u001b[0m         \u001b[38;5;28;01massert\u001b[39;00m ref\u001b[38;5;241m.\u001b[39mrun \u001b[38;5;129;01mis\u001b[39;00m \u001b[38;5;129;01mnot\u001b[39;00m \u001b[38;5;28;01mNone\u001b[39;00m  \u001b[38;5;66;03m# For mypy\u001b[39;00m\n\u001b[1;32m   2025\u001b[0m         group_key \u001b[38;5;241m=\u001b[39m (ref\u001b[38;5;241m.\u001b[39mdatasetType, ref\u001b[38;5;241m.\u001b[39mrun)\n",
      "\u001b[0;31mAttributeError\u001b[0m: 'ParentDatasetQueryResults' object has no attribute 'refs'"
     ]
    }
   ],
   "source": [
    "# next do ingest\n",
    "# The ingestion should then be handled using butler.ingest() using the existing DatasetRef from /repo/embargo and the new (absolute) destination path, using transfer mode direct.\n",
    "# https://pipelines.lsst.io/py-api/lsst.daf.butler.Butler.html#lsst.daf.butler.Butler.ingest\n",
    "dest.ingest(datasetRefs)#, mode = 'direct')"
   ]
  },
  {
   "cell_type": "code",
   "execution_count": null,
   "id": "69081372-a768-47fc-b33b-8442c35360b9",
   "metadata": {},
   "outputs": [],
   "source": []
  },
  {
   "cell_type": "code",
   "execution_count": null,
   "id": "8dee2383-d431-44de-bb96-e4c0672eec1b",
   "metadata": {},
   "outputs": [],
   "source": []
  },
  {
   "cell_type": "code",
   "execution_count": null,
   "id": "aa78d3e3-2a19-468b-9e97-c1da8eec6cef",
   "metadata": {},
   "outputs": [],
   "source": []
  },
  {
   "cell_type": "code",
   "execution_count": 65,
   "id": "d99624d0-bfa9-404f-bc44-d4d827e9f0e3",
   "metadata": {
    "execution": {
     "iopub.execute_input": "2023-10-20T19:41:07.108669Z",
     "iopub.status.busy": "2023-10-20T19:41:07.108390Z",
     "iopub.status.idle": "2023-10-20T19:41:07.116799Z",
     "shell.execute_reply": "2023-10-20T19:41:07.116409Z",
     "shell.execute_reply.started": "2023-10-20T19:41:07.108655Z"
    },
    "tags": []
   },
   "outputs": [
    {
     "name": "stdout",
     "output_type": "stream",
     "text": [
      "<class 'lsst.resources.s3.S3ResourcePath'> s3://rubin-summit/LATISS/20220831/AT_O_20220831_000004/AT_O_20220831_000004_R00_S00.fits\n",
      "<class 'lsst.resources.s3.S3ResourcePath'> s3://rubin-summit/LATISS/20220831/AT_O_20220831_000005/AT_O_20220831_000005_R00_S00.fits\n",
      "[ResourcePath(\"s3://rubin-summit/LATISS/20220831/AT_O_20220831_000004/AT_O_20220831_000004_R00_S00.fits\"), ResourcePath(\"s3://rubin-summit/LATISS/20220831/AT_O_20220831_000005/AT_O_20220831_000005_R00_S00.fits\")]\n"
     ]
    }
   ],
   "source": [
    "uri_list = []\n",
    "for i,ref in enumerate(datasetRefs):\n",
    "    #print(ref.dataId.full)\n",
    "    uri = butler.getURI(ref)\n",
    "    print(type(uri), uri)\n",
    "    uri_list.append(uri)\n",
    "print(uri_list)\n",
    "    "
   ]
  },
  {
   "cell_type": "code",
   "execution_count": 47,
   "id": "b5169df6-1325-4b31-b700-abea4b66f86a",
   "metadata": {
    "execution": {
     "iopub.execute_input": "2023-10-20T19:33:26.604893Z",
     "iopub.status.busy": "2023-10-20T19:33:26.604486Z",
     "iopub.status.idle": "2023-10-20T19:33:26.691862Z",
     "shell.execute_reply": "2023-10-20T19:33:26.691507Z",
     "shell.execute_reply.started": "2023-10-20T19:33:26.604876Z"
    },
    "tags": []
   },
   "outputs": [],
   "source": [
    "dest_prefix = '/home/r/rnevin/scratch'\n",
    "dest = Butler(dest_prefix, writeable=True)\n",
    "dest_registry = dest.registry"
   ]
  },
  {
   "cell_type": "code",
   "execution_count": 68,
   "id": "fc7635d1-55b7-4cad-ac2c-3d53be37d02d",
   "metadata": {
    "execution": {
     "iopub.execute_input": "2023-10-20T19:41:35.805930Z",
     "iopub.status.busy": "2023-10-20T19:41:35.805463Z",
     "iopub.status.idle": "2023-10-20T19:41:35.817273Z",
     "shell.execute_reply": "2023-10-20T19:41:35.816873Z",
     "shell.execute_reply.started": "2023-10-20T19:41:35.805915Z"
    },
    "tags": []
   },
   "outputs": [
    {
     "ename": "TypeError",
     "evalue": "can only concatenate str (not \"list\") to str",
     "output_type": "error",
     "traceback": [
      "\u001b[0;31m---------------------------------------------------------------------------\u001b[0m",
      "\u001b[0;31mTypeError\u001b[0m                                 Traceback (most recent call last)",
      "Cell \u001b[0;32mIn[68], line 3\u001b[0m\n\u001b[1;32m      1\u001b[0m \u001b[38;5;28;01mimport\u001b[39;00m \u001b[38;5;21;01mlsst\u001b[39;00m\n\u001b[1;32m      2\u001b[0m \u001b[38;5;66;03m#uri = \"s3://rubin-summit/LATISS/20220831/AT_O_20220831_000005/AT_O_20220831_000005_R00_S00.fits\"\u001b[39;00m\n\u001b[0;32m----> 3\u001b[0m uri_src \u001b[38;5;241m=\u001b[39m lsst\u001b[38;5;241m.\u001b[39mresources\u001b[38;5;241m.\u001b[39mResourcePath\u001b[38;5;241m.\u001b[39mtransfer_from(\u001b[38;5;124;43m'\u001b[39;49m\u001b[38;5;124;43m/repo/embargo/\u001b[39;49m\u001b[38;5;124;43m'\u001b[39;49m\u001b[43m \u001b[49m\u001b[38;5;241;43m+\u001b[39;49m\u001b[43m \u001b[49m\u001b[43muri_list\u001b[49m, transfer\u001b[38;5;241m=\u001b[39m\u001b[38;5;124m'\u001b[39m\u001b[38;5;124mcopy\u001b[39m\u001b[38;5;124m'\u001b[39m)\n\u001b[1;32m      4\u001b[0m \u001b[38;5;28mprint\u001b[39m(uri_src)\n\u001b[1;32m      6\u001b[0m \u001b[38;5;66;03m# next do ingest\u001b[39;00m\n\u001b[1;32m      7\u001b[0m \u001b[38;5;66;03m# The ingestion should then be handled using butler.ingest() using the existing DatasetRef from /repo/embargo and the new (absolute) destination path, using transfer mode direct.\u001b[39;00m\n\u001b[1;32m      8\u001b[0m \u001b[38;5;66;03m# https://pipelines.lsst.io/py-api/lsst.daf.butler.Butler.html#lsst.daf.butler.Butler.ingest\u001b[39;00m\n",
      "\u001b[0;31mTypeError\u001b[0m: can only concatenate str (not \"list\") to str"
     ]
    }
   ],
   "source": [
    "import lsst\n",
    "#uri = \"s3://rubin-summit/LATISS/20220831/AT_O_20220831_000005/AT_O_20220831_000005_R00_S00.fits\"\n",
    "uri_src = lsst.resources.ResourcePath.transfer_from('/repo/embargo/' + uri_list, transfer='copy')\n",
    "print(uri_src)\n",
    "\n",
    "# next do ingest\n",
    "# The ingestion should then be handled using butler.ingest() using the existing DatasetRef from /repo/embargo and the new (absolute) destination path, using transfer mode direct.\n",
    "# https://pipelines.lsst.io/py-api/lsst.daf.butler.Butler.html#lsst.daf.butler.Butler.ingest\n",
    "dest.ingest(uri_src, mode = 'direct')"
   ]
  },
  {
   "cell_type": "code",
   "execution_count": null,
   "id": "a1590869-08f7-4df3-9392-de63e03b655c",
   "metadata": {},
   "outputs": [],
   "source": []
  },
  {
   "cell_type": "code",
   "execution_count": null,
   "id": "890f50fd-e8ea-4fe6-9efd-abbf1da0ecd1",
   "metadata": {},
   "outputs": [],
   "source": [
    "#butler = Butler('/repo/embargo')\n",
    "#registry = butler.registry\n",
    "\n",
    "dest_prefix = '/sdf/data/rubin/lsstdata/offline/instrument/'\n",
    "\n",
    "dest = Butler(dest_prefix + uri, writeable=True)\n",
    "dest_registry = dest.registry"
   ]
  },
  {
   "cell_type": "code",
   "execution_count": null,
   "id": "03cc0a5e-94dd-484d-8c2f-38aab292d79f",
   "metadata": {},
   "outputs": [],
   "source": []
  },
  {
   "cell_type": "markdown",
   "id": "1e7e21f7-e9f1-4ca8-8e46-e1edace8c0e4",
   "metadata": {},
   "source": [
    "lsst.resources.ResourcePath.transfer_from(src, transfer)"
   ]
  },
  {
   "cell_type": "code",
   "execution_count": null,
   "id": "df8bc56d-8c2e-479b-8dff-468f9290f694",
   "metadata": {},
   "outputs": [],
   "source": [
    "dest_prefix = '/sdf/data/rubin/lsstdata/offline/instrument/'\n",
    "\n",
    "dest = Butler(dest_prefix + uri, writeable=True)\n",
    "dest_registry = dest.registry\n",
    "\n",
    "for i,ref in enumerate(datasetRefs):\n",
    "    #print(ref.dataId.full)\n",
    "    uri = butler.getURI(ref)\n",
    "    print(uri)\n",
    "    # first do transfer_from\n",
    "    # https://pipelines.lsst.io/v/weekly/py-api/lsst.resources.ResourcePath.html\n",
    "    # actually, returns an URI with an updated final component of the source\n",
    "    uri_src = lsst.resources.ResourcePath.transfer_from('/repo/embargo/'+uri)\n",
    "\n",
    "    # next do ingest\n",
    "    # The ingestion should then be handled using butler.ingest() using the existing DatasetRef from /repo/embargo and the new (absolute) destination path, using transfer mode direct.\n",
    "    # https://pipelines.lsst.io/py-api/lsst.daf.butler.Butler.html#lsst.daf.butler.Butler.ingest\n",
    "    dest.ingest(uri_src, mode = 'direct')"
   ]
  },
  {
   "cell_type": "code",
   "execution_count": null,
   "id": "6dc7b3b1-07e5-4418-90a2-38e81323b517",
   "metadata": {},
   "outputs": [],
   "source": [
    "out = dest.transfer_from(\n",
    "    butler,\n",
    "    source_refs=datasetRefs,\n",
    "    transfer=\"copy\",\n",
    "    skip_missing=True,\n",
    "    register_dataset_types=True,\n",
    "    transfer_dimensions=True,\n",
    ")"
   ]
  },
  {
   "cell_type": "code",
   "execution_count": null,
   "id": "6f282eee-c95c-4815-ab52-28f1334fd53b",
   "metadata": {},
   "outputs": [],
   "source": []
  }
 ],
 "metadata": {
  "kernelspec": {
   "display_name": "LSST",
   "language": "python",
   "name": "lsst"
  },
  "language_info": {
   "codemirror_mode": {
    "name": "ipython",
    "version": 3
   },
   "file_extension": ".py",
   "mimetype": "text/x-python",
   "name": "python",
   "nbconvert_exporter": "python",
   "pygments_lexer": "ipython3",
   "version": "3.11.4"
  }
 },
 "nbformat": 4,
 "nbformat_minor": 5
}
