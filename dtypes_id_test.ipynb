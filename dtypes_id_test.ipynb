{
 "cells": [
  {
   "cell_type": "code",
   "execution_count": 1,
   "id": "8ffec5b9-afd1-48b2-9763-5ef6b777ee53",
   "metadata": {
    "execution": {
     "iopub.execute_input": "2023-11-21T19:54:36.389467Z",
     "iopub.status.busy": "2023-11-21T19:54:36.389186Z",
     "iopub.status.idle": "2023-11-21T19:54:36.869226Z",
     "shell.execute_reply": "2023-11-21T19:54:36.868747Z",
     "shell.execute_reply.started": "2023-11-21T19:54:36.389450Z"
    },
    "tags": []
   },
   "outputs": [],
   "source": [
    "import astropy.time\n",
    "from lsst.daf.butler import Butler, Timespan"
   ]
  },
  {
   "cell_type": "code",
   "execution_count": 2,
   "id": "8726857b-ffaa-43e3-ac1e-08f0896fd982",
   "metadata": {
    "execution": {
     "iopub.execute_input": "2023-11-21T19:54:36.874151Z",
     "iopub.status.busy": "2023-11-21T19:54:36.873838Z",
     "iopub.status.idle": "2023-11-21T19:54:36.876364Z",
     "shell.execute_reply": "2023-11-21T19:54:36.876006Z",
     "shell.execute_reply.started": "2023-11-21T19:54:36.874132Z"
    },
    "tags": []
   },
   "outputs": [],
   "source": [
    "from lsst.daf.butler import CollectionType"
   ]
  },
  {
   "cell_type": "code",
   "execution_count": 3,
   "id": "a4f10eff-76dc-469c-b717-af8e49db4014",
   "metadata": {
    "execution": {
     "iopub.execute_input": "2023-11-21T19:54:36.877190Z",
     "iopub.status.busy": "2023-11-21T19:54:36.877062Z",
     "iopub.status.idle": "2023-11-21T19:54:39.416974Z",
     "shell.execute_reply": "2023-11-21T19:54:39.416533Z",
     "shell.execute_reply.started": "2023-11-21T19:54:36.877177Z"
    },
    "tags": []
   },
   "outputs": [],
   "source": [
    "butler = Butler('/repo/embargo')\n",
    "registry = butler.registry"
   ]
  },
  {
   "cell_type": "code",
   "execution_count": 4,
   "id": "5aa9eae1-4dcf-48a8-b3aa-4518b3193806",
   "metadata": {
    "execution": {
     "iopub.execute_input": "2023-11-21T19:54:39.424576Z",
     "iopub.status.busy": "2023-11-21T19:54:39.424461Z",
     "iopub.status.idle": "2023-11-21T19:54:39.504056Z",
     "shell.execute_reply": "2023-11-21T19:54:39.503676Z",
     "shell.execute_reply.started": "2023-11-21T19:54:39.424565Z"
    },
    "tags": []
   },
   "outputs": [],
   "source": [
    "data_path = '/home/j/jarugula/DM-37690/transfer_embargo/tests/data/'\n",
    "test_from_butler = Butler(data_path+'test_from', writeable=True)\n",
    "test_from_butler_registry = test_from_butler.registry"
   ]
  },
  {
   "cell_type": "code",
   "execution_count": 5,
   "id": "88b15102-6cfd-4579-a790-c43fd043a7a1",
   "metadata": {
    "execution": {
     "iopub.execute_input": "2023-11-21T19:54:39.504721Z",
     "iopub.status.busy": "2023-11-21T19:54:39.504603Z",
     "iopub.status.idle": "2023-11-21T19:54:39.506872Z",
     "shell.execute_reply": "2023-11-21T19:54:39.506513Z",
     "shell.execute_reply.started": "2023-11-21T19:54:39.504710Z"
    },
    "tags": []
   },
   "outputs": [],
   "source": [
    "datasetType_calexp = 'calexp'\n",
    "datasetType_raw = 'raw'\n",
    "collections_calexp = 'LATISS/runs/AUXTEL_DRP_IMAGING_2022-11A/w_2022_46/PREOPS-1616'\n",
    "collections_raw = 'LATISS/raw/all'\n",
    "dataId = {'instrument':'LATISS'}"
   ]
  },
  {
   "cell_type": "code",
   "execution_count": 8,
   "id": "ccb4aead-c4e7-4f74-b25c-3ae8ec2929a4",
   "metadata": {
    "execution": {
     "iopub.execute_input": "2023-11-21T19:54:41.007788Z",
     "iopub.status.busy": "2023-11-21T19:54:41.007336Z",
     "iopub.status.idle": "2023-11-21T19:54:41.020314Z",
     "shell.execute_reply": "2023-11-21T19:54:41.019943Z",
     "shell.execute_reply.started": "2023-11-21T19:54:41.007770Z"
    },
    "tags": []
   },
   "outputs": [],
   "source": [
    "now = astropy.time.Time.now().tai\n",
    "# embargo_hours = 80.0\n",
    "embargo_hours = 200.0\n",
    "embargo_period = astropy.time.TimeDelta(\n",
    "        embargo_hours * 3600.0, format=\"sec\"\n",
    "    )\n",
    "timespan_embargo = Timespan(now - embargo_period, None)"
   ]
  },
  {
   "cell_type": "code",
   "execution_count": 9,
   "id": "521df2c6-bb2e-45ca-9417-0216a965d7be",
   "metadata": {
    "execution": {
     "iopub.execute_input": "2023-11-21T19:54:41.621414Z",
     "iopub.status.busy": "2023-11-21T19:54:41.621258Z",
     "iopub.status.idle": "2023-11-21T19:54:41.643835Z",
     "shell.execute_reply": "2023-11-21T19:54:41.643457Z",
     "shell.execute_reply.started": "2023-11-21T19:54:41.621400Z"
    },
    "tags": []
   },
   "outputs": [],
   "source": [
    "datarefs_calexp = registry.queryDimensionRecords(\n",
    "            \"exposure\",\n",
    "            dataId=dataId,\n",
    "            datasets=datasetType_calexp,\n",
    "            collections=collections_calexp,\n",
    "            where=\"NOT exposure.timespan OVERLAPS timespan_embargo\",\n",
    "            bind={\"timespan_embargo\": timespan_embargo},\n",
    "        )"
   ]
  },
  {
   "cell_type": "code",
   "execution_count": 10,
   "id": "511d3aa4-af20-4998-96c8-e9dbbb8e74e4",
   "metadata": {
    "execution": {
     "iopub.execute_input": "2023-11-21T19:54:42.620617Z",
     "iopub.status.busy": "2023-11-21T19:54:42.620434Z",
     "iopub.status.idle": "2023-11-21T19:54:42.677428Z",
     "shell.execute_reply": "2023-11-21T19:54:42.676959Z",
     "shell.execute_reply.started": "2023-11-21T19:54:42.620604Z"
    },
    "tags": []
   },
   "outputs": [],
   "source": [
    "exp_calexp = []\n",
    "for i, ref in enumerate(datarefs_calexp):\n",
    "    exp_calexp.append(ref.dataId['exposure'])"
   ]
  },
  {
   "cell_type": "code",
   "execution_count": 14,
   "id": "809fde9c-909f-4019-996e-d763c2ff86c5",
   "metadata": {
    "execution": {
     "iopub.execute_input": "2023-11-21T19:55:11.107975Z",
     "iopub.status.busy": "2023-11-21T19:55:11.107779Z",
     "iopub.status.idle": "2023-11-21T19:55:11.123447Z",
     "shell.execute_reply": "2023-11-21T19:55:11.123094Z",
     "shell.execute_reply.started": "2023-11-21T19:55:11.107962Z"
    },
    "tags": []
   },
   "outputs": [],
   "source": [
    "datarefs_raw = registry.queryDimensionRecords(\n",
    "            \"exposure\",\n",
    "            dataId=dataId,\n",
    "            datasets=datasetType_raw,\n",
    "            collections=collections_raw,\n",
    "            where=\"NOT exposure.timespan OVERLAPS timespan_embargo\",\n",
    "            bind={\"timespan_embargo\": timespan_embargo},\n",
    "        )"
   ]
  },
  {
   "cell_type": "code",
   "execution_count": 15,
   "id": "d389431c-3b09-46f3-b141-0483040eeb9e",
   "metadata": {
    "execution": {
     "iopub.execute_input": "2023-11-21T19:55:11.590200Z",
     "iopub.status.busy": "2023-11-21T19:55:11.589763Z",
     "iopub.status.idle": "2023-11-21T19:55:14.258866Z",
     "shell.execute_reply": "2023-11-21T19:55:14.258414Z",
     "shell.execute_reply.started": "2023-11-21T19:55:11.590187Z"
    },
    "tags": []
   },
   "outputs": [],
   "source": [
    "exp_raw = []\n",
    "for i, ref in enumerate(datarefs_raw):\n",
    "    exp_raw.append(ref.dataId['exposure'])"
   ]
  },
  {
   "cell_type": "code",
   "execution_count": 16,
   "id": "dd8c91e6-91e4-4c29-bcdf-8c2631c823a0",
   "metadata": {
    "execution": {
     "iopub.execute_input": "2023-11-21T19:55:14.275374Z",
     "iopub.status.busy": "2023-11-21T19:55:14.275256Z",
     "iopub.status.idle": "2023-11-21T19:55:14.277389Z",
     "shell.execute_reply": "2023-11-21T19:55:14.277054Z",
     "shell.execute_reply.started": "2023-11-21T19:55:14.275363Z"
    },
    "tags": []
   },
   "outputs": [],
   "source": [
    "# exposure_ids = [2022111000436, 2022110900673, 2022110800580]\n",
    "exposure_ids = [2022110800230, 2022110800235, 2022110800238]"
   ]
  },
  {
   "cell_type": "code",
   "execution_count": 17,
   "id": "a03ad011-806b-42fb-86f8-48964a7cd5c1",
   "metadata": {
    "execution": {
     "iopub.execute_input": "2023-11-21T19:55:15.651827Z",
     "iopub.status.busy": "2023-11-21T19:55:15.651607Z",
     "iopub.status.idle": "2023-11-21T19:55:15.696268Z",
     "shell.execute_reply": "2023-11-21T19:55:15.695829Z",
     "shell.execute_reply.started": "2023-11-21T19:55:15.651812Z"
    },
    "tags": []
   },
   "outputs": [],
   "source": [
    "datasetRefs_calexp = registry.queryDatasets(datasetType_calexp, dataId=dataId, collections=collections_calexp,\n",
    "                                     where=\"exposure.id IN (exposure_ids)\",\n",
    "                                     bind={\"exposure_ids\": exposure_ids}).expanded()\n",
    "datasetRefs_raw = registry.queryDatasets(datasetType_raw, dataId=dataId, collections=collections_raw,\n",
    "                                     where=\"exposure.id IN (exposure_ids)\",\n",
    "                                     bind={\"exposure_ids\": exposure_ids}).expanded()"
   ]
  },
  {
   "cell_type": "code",
   "execution_count": 18,
   "id": "7ab16b5f-dfb6-417f-9418-781b495b05b4",
   "metadata": {
    "execution": {
     "iopub.execute_input": "2023-11-21T19:55:16.033016Z",
     "iopub.status.busy": "2023-11-21T19:55:16.032809Z",
     "iopub.status.idle": "2023-11-21T19:55:16.057815Z",
     "shell.execute_reply": "2023-11-21T19:55:16.057427Z",
     "shell.execute_reply.started": "2023-11-21T19:55:16.032999Z"
    },
    "tags": []
   },
   "outputs": [
    {
     "name": "stdout",
     "output_type": "stream",
     "text": [
      "{instrument: 'LATISS', detector: 0, visit: 2022110800230, ...}\n",
      "{instrument: 'LATISS', detector: 0, visit: 2022110800235, ...}\n",
      "{instrument: 'LATISS', detector: 0, visit: 2022110800238, ...}\n"
     ]
    }
   ],
   "source": [
    "for i,ref in enumerate(datasetRefs_calexp):\n",
    "    print(ref.dataId)"
   ]
  },
  {
   "cell_type": "code",
   "execution_count": 19,
   "id": "1db5e46a-8b05-414d-a337-cabf04320f8d",
   "metadata": {
    "execution": {
     "iopub.execute_input": "2023-11-21T19:55:16.662024Z",
     "iopub.status.busy": "2023-11-21T19:55:16.661844Z",
     "iopub.status.idle": "2023-11-21T19:55:16.676088Z",
     "shell.execute_reply": "2023-11-21T19:55:16.675740Z",
     "shell.execute_reply.started": "2023-11-21T19:55:16.662011Z"
    },
    "tags": []
   },
   "outputs": [
    {
     "name": "stdout",
     "output_type": "stream",
     "text": [
      "calexp@{instrument: 'LATISS', detector: 0, visit: 2022110800230, ...} [sc=ExposureF] (run=LATISS/runs/AUXTEL_DRP_IMAGING_2022-11A/w_2022_46/PREOPS-1616/20221111T182132Z id=d15ad796-1855-434d-b06e-ac3fd6a1ec19)\n",
      "calexp@{instrument: 'LATISS', detector: 0, visit: 2022110800235, ...} [sc=ExposureF] (run=LATISS/runs/AUXTEL_DRP_IMAGING_2022-11A/w_2022_46/PREOPS-1616/20221111T182132Z id=1f6ac49d-8aa3-4b56-a65c-7566bdb5c9be)\n",
      "calexp@{instrument: 'LATISS', detector: 0, visit: 2022110800238, ...} [sc=ExposureF] (run=LATISS/runs/AUXTEL_DRP_IMAGING_2022-11A/w_2022_46/PREOPS-1616/20221111T182132Z id=d7a7dad4-ff96-4d4b-9960-87285483a44e)\n"
     ]
    }
   ],
   "source": [
    "for i,ref in enumerate(datasetRefs_calexp):\n",
    "    print(ref)"
   ]
  },
  {
   "cell_type": "code",
   "execution_count": 20,
   "id": "cb8a9c84-d2e9-4e1d-a0cc-409ac4159d70",
   "metadata": {
    "execution": {
     "iopub.execute_input": "2023-11-21T19:55:17.909987Z",
     "iopub.status.busy": "2023-11-21T19:55:17.909792Z",
     "iopub.status.idle": "2023-11-21T19:55:17.926581Z",
     "shell.execute_reply": "2023-11-21T19:55:17.926212Z",
     "shell.execute_reply.started": "2023-11-21T19:55:17.909974Z"
    },
    "tags": []
   },
   "outputs": [
    {
     "name": "stdout",
     "output_type": "stream",
     "text": [
      "raw@{instrument: 'LATISS', detector: 0, exposure: 2022110800230, ...} [sc=Exposure] (run=LATISS/raw/all id=17be4a18-8fd2-5b57-a016-d113be349482)\n",
      "raw@{instrument: 'LATISS', detector: 0, exposure: 2022110800235, ...} [sc=Exposure] (run=LATISS/raw/all id=fe75549a-b0f7-5000-a18b-63093c341ac1)\n",
      "raw@{instrument: 'LATISS', detector: 0, exposure: 2022110800238, ...} [sc=Exposure] (run=LATISS/raw/all id=80457bf6-4c25-5fb9-a763-6c94b258bb9e)\n"
     ]
    }
   ],
   "source": [
    "for i,ref in enumerate(datasetRefs_raw):\n",
    "    print(ref)"
   ]
  },
  {
   "cell_type": "code",
   "execution_count": 21,
   "id": "41c66109-2937-426b-925d-7b2f1befa564",
   "metadata": {
    "execution": {
     "iopub.execute_input": "2023-11-21T19:55:24.290346Z",
     "iopub.status.busy": "2023-11-21T19:55:24.290072Z",
     "iopub.status.idle": "2023-11-21T19:55:25.922899Z",
     "shell.execute_reply": "2023-11-21T19:55:25.922561Z",
     "shell.execute_reply.started": "2023-11-21T19:55:24.290332Z"
    },
    "tags": []
   },
   "outputs": [
    {
     "data": {
      "text/html": [
       "<pre style=\"margin: 0.1em;\n",
       "padding-left: 0.25em;\n",
       "border-left-style: solid;\n",
       "font-family: var(--jp-code-font-family);\n",
       "font-size: var(--jp-code-font-size);\n",
       "line-height: var(--jp-code-line-height);\n",
       "\"><span style=\"color: var(--jp-warn-color2)\">lsst.daf.butler._butler</span> <span style=\"color: var(--jp-info-color0)\">INFO</span>: Transferring 3 datasets into Butler(collections=(), run=None, datastore=&#x27;file:///home/j/jarugula/DM-37690/transfer_embargo/tests/data/test_from/&#x27;, registry=&#x27;SQLite3@/home/j/jarugula/DM-37690/transfer_embargo/tests/data/test_from/gen3.sqlite3&#x27;)</pre>"
      ],
      "text/plain": [
       "<IPython.core.display.HTML object>"
      ]
     },
     "metadata": {},
     "output_type": "display_data"
    },
    {
     "data": {
      "text/plain": [
       "[DatasetRef(DatasetType('calexp', {band, instrument, detector, physical_filter, visit}, ExposureF), {instrument: 'LATISS', detector: 0, visit: 2022110800235, ...}, run='LATISS/runs/AUXTEL_DRP_IMAGING_2022-11A/w_2022_46/PREOPS-1616/20221111T182132Z', id=1f6ac49d-8aa3-4b56-a65c-7566bdb5c9be),\n",
       " DatasetRef(DatasetType('calexp', {band, instrument, detector, physical_filter, visit}, ExposureF), {instrument: 'LATISS', detector: 0, visit: 2022110800230, ...}, run='LATISS/runs/AUXTEL_DRP_IMAGING_2022-11A/w_2022_46/PREOPS-1616/20221111T182132Z', id=d15ad796-1855-434d-b06e-ac3fd6a1ec19),\n",
       " DatasetRef(DatasetType('calexp', {band, instrument, detector, physical_filter, visit}, ExposureF), {instrument: 'LATISS', detector: 0, visit: 2022110800238, ...}, run='LATISS/runs/AUXTEL_DRP_IMAGING_2022-11A/w_2022_46/PREOPS-1616/20221111T182132Z', id=d7a7dad4-ff96-4d4b-9960-87285483a44e)]"
      ]
     },
     "execution_count": 21,
     "metadata": {},
     "output_type": "execute_result"
    }
   ],
   "source": [
    "test_from_butler.transfer_from(butler, source_refs=datasetRefs_calexp, transfer='copy',\n",
    "                               skip_missing=True, register_dataset_types=True,\n",
    "                               transfer_dimensions=True)"
   ]
  },
  {
   "cell_type": "code",
   "execution_count": 22,
   "id": "c10c705b-5d0a-4da0-ae85-20a528f37f98",
   "metadata": {
    "execution": {
     "iopub.execute_input": "2023-11-21T19:55:29.544375Z",
     "iopub.status.busy": "2023-11-21T19:55:29.544098Z",
     "iopub.status.idle": "2023-11-21T19:55:30.120842Z",
     "shell.execute_reply": "2023-11-21T19:55:30.120459Z",
     "shell.execute_reply.started": "2023-11-21T19:55:29.544361Z"
    },
    "tags": []
   },
   "outputs": [
    {
     "data": {
      "text/html": [
       "<pre style=\"margin: 0.1em;\n",
       "padding-left: 0.25em;\n",
       "border-left-style: solid;\n",
       "font-family: var(--jp-code-font-family);\n",
       "font-size: var(--jp-code-font-size);\n",
       "line-height: var(--jp-code-line-height);\n",
       "\"><span style=\"color: var(--jp-warn-color2)\">lsst.daf.butler._butler</span> <span style=\"color: var(--jp-info-color0)\">INFO</span>: Transferring 3 datasets into Butler(collections=(), run=None, datastore=&#x27;file:///home/j/jarugula/DM-37690/transfer_embargo/tests/data/test_from/&#x27;, registry=&#x27;SQLite3@/home/j/jarugula/DM-37690/transfer_embargo/tests/data/test_from/gen3.sqlite3&#x27;)</pre>"
      ],
      "text/plain": [
       "<IPython.core.display.HTML object>"
      ]
     },
     "metadata": {},
     "output_type": "display_data"
    },
    {
     "data": {
      "text/plain": [
       "[DatasetRef(DatasetType('raw', {band, instrument, detector, physical_filter, exposure}, Exposure), {instrument: 'LATISS', detector: 0, exposure: 2022110800230, ...}, run='LATISS/raw/all', id=17be4a18-8fd2-5b57-a016-d113be349482),\n",
       " DatasetRef(DatasetType('raw', {band, instrument, detector, physical_filter, exposure}, Exposure), {instrument: 'LATISS', detector: 0, exposure: 2022110800238, ...}, run='LATISS/raw/all', id=80457bf6-4c25-5fb9-a763-6c94b258bb9e),\n",
       " DatasetRef(DatasetType('raw', {band, instrument, detector, physical_filter, exposure}, Exposure), {instrument: 'LATISS', detector: 0, exposure: 2022110800235, ...}, run='LATISS/raw/all', id=fe75549a-b0f7-5000-a18b-63093c341ac1)]"
      ]
     },
     "execution_count": 22,
     "metadata": {},
     "output_type": "execute_result"
    }
   ],
   "source": [
    "test_from_butler.transfer_from(butler, source_refs=datasetRefs_raw, transfer='copy',\n",
    "                               skip_missing=True, register_dataset_types=True,\n",
    "                               transfer_dimensions=True)"
   ]
  },
  {
   "cell_type": "markdown",
   "id": "cb60555d-19a7-4e54-b07e-d9e39fbcbf18",
   "metadata": {},
   "source": [
    "### check if we can query based on exposure"
   ]
  },
  {
   "cell_type": "code",
   "execution_count": 25,
   "id": "fefa8c5a-4082-4395-b63d-421987c260e5",
   "metadata": {
    "execution": {
     "iopub.execute_input": "2023-11-21T19:56:06.056555Z",
     "iopub.status.busy": "2023-11-21T19:56:06.056251Z",
     "iopub.status.idle": "2023-11-21T19:56:06.064271Z",
     "shell.execute_reply": "2023-11-21T19:56:06.063879Z",
     "shell.execute_reply.started": "2023-11-21T19:56:06.056540Z"
    },
    "tags": []
   },
   "outputs": [],
   "source": [
    "# testrefs = test_from_butler_registry.queryDimensionRecords(\"exposure\",  dataId=dataId, datasets='raw', collections=...)\n",
    "testrefs = test_from_butler_registry.queryDimensionRecords(\"exposure\",  dataId=dataId, datasets='calexp', collections=...)\n",
    "for i, ref in enumerate(testrefs):\n",
    "    print(ref)"
   ]
  },
  {
   "cell_type": "code",
   "execution_count": 26,
   "id": "0367935e-167c-483d-9829-eac5b201d931",
   "metadata": {
    "execution": {
     "iopub.execute_input": "2023-11-21T19:56:10.549922Z",
     "iopub.status.busy": "2023-11-21T19:56:10.549624Z",
     "iopub.status.idle": "2023-11-21T19:56:10.557821Z",
     "shell.execute_reply": "2023-11-21T19:56:10.557411Z",
     "shell.execute_reply.started": "2023-11-21T19:56:10.549909Z"
    },
    "tags": []
   },
   "outputs": [
    {
     "name": "stdout",
     "output_type": "stream",
     "text": [
      "visit:\n",
      "  instrument: 'LATISS'\n",
      "  id: 2022110800230\n",
      "  physical_filter: 'SDSSi_65mm~empty'\n",
      "  name: 'AT_O_20221108_000230'\n",
      "  day_obs: 20221108\n",
      "  seq_num: 230\n",
      "  exposure_time: 30.0\n",
      "  target_name: 'HS2027+0651_047'\n",
      "  observation_reason: 'object'\n",
      "  science_program: 'AUXTEL_DRP_IMAGING'\n",
      "  azimuth: 303.7437208776828\n",
      "  zenith_angle: 56.618149818561506\n",
      "  region: ConvexPolygon([UnitVector3d(0.6039059705203078, -0.7873621798438397, 0.12392891721257829), UnitVector3d(0.6051505939492327, -0.7866507644979353, 0.12236557259991532), UnitVector3d(0.6062740338792239, -0.7855679883134805, 0.12375270332774606), UnitVector3d(0.6050294103844203, -0.7862794037198054, 0.1253160478785859)])\n",
      "  timespan: Timespan(begin=astropy.time.Time('2022-11-09 01:00:04.354016', scale='tai', format='iso'), end=astropy.time.Time('2022-11-09 01:00:34.587000', scale='tai', format='iso'))\n",
      "visit:\n",
      "  instrument: 'LATISS'\n",
      "  id: 2022110800235\n",
      "  physical_filter: 'SDSSi_65mm~empty'\n",
      "  name: 'AT_O_20221108_000235'\n",
      "  day_obs: 20221108\n",
      "  seq_num: 235\n",
      "  exposure_time: 30.0\n",
      "  target_name: 'HS2027+0651_048'\n",
      "  observation_reason: 'object'\n",
      "  science_program: 'AUXTEL_DRP_IMAGING'\n",
      "  azimuth: 303.1474273686763\n",
      "  zenith_angle: 57.14554229535861\n",
      "  region: ConvexPolygon([UnitVector3d(0.6052073347986174, -0.7863644452096454, 0.1239154599558943), UnitVector3d(0.6064598208621366, -0.7856422118629517, 0.12236339574788757), UnitVector3d(0.6075716819073153, -0.7845632124222166, 0.12376274503277579), UnitVector3d(0.606319195778467, -0.7852854458292029, 0.12531480917825716)])\n",
      "  timespan: Timespan(begin=astropy.time.Time('2022-11-09 01:03:22.888003', scale='tai', format='iso'), end=astropy.time.Time('2022-11-09 01:03:53.112000', scale='tai', format='iso'))\n",
      "visit:\n",
      "  instrument: 'LATISS'\n",
      "  id: 2022110800238\n",
      "  physical_filter: 'SDSSi_65mm~empty'\n",
      "  name: 'AT_O_20221108_000238'\n",
      "  day_obs: 20221108\n",
      "  seq_num: 238\n",
      "  exposure_time: 30.0\n",
      "  target_name: 'HS2027+0651_049'\n",
      "  observation_reason: 'object'\n",
      "  science_program: 'AUXTEL_DRP_IMAGING'\n",
      "  azimuth: 302.3225779121276\n",
      "  zenith_angle: 58.02984246768756\n",
      "  region: ConvexPolygon([UnitVector3d(0.5959434447000355, -0.7931541775442223, 0.1255303204935129), UnitVector3d(0.5972157860719514, -0.7924389457435008, 0.12399121797687994), UnitVector3d(0.5983276378363435, -0.7913772420830935, 0.1254037420260589), UnitVector3d(0.5970552963989728, -0.7920924739431707, 0.12694284447940418)])\n",
      "  timespan: Timespan(begin=astropy.time.Time('2022-11-09 01:05:14.628012', scale='tai', format='iso'), end=astropy.time.Time('2022-11-09 01:05:44.867000', scale='tai', format='iso'))\n"
     ]
    }
   ],
   "source": [
    "testrefs = test_from_butler_registry.queryDimensionRecords(\"visit\",  dataId=dataId, datasets='calexp', collections=...)\n",
    "for i, ref in enumerate(testrefs):\n",
    "    print(ref)"
   ]
  },
  {
   "cell_type": "markdown",
   "id": "2c78baf1-5ea1-4a9a-809a-c85634ba54f8",
   "metadata": {},
   "source": [
    "## Set Collection chain"
   ]
  },
  {
   "cell_type": "code",
   "execution_count": 13,
   "id": "ae8158bd-f592-4f49-bb58-df31eea5a95b",
   "metadata": {
    "execution": {
     "iopub.execute_input": "2023-11-09T21:55:30.925995Z",
     "iopub.status.busy": "2023-11-09T21:55:30.925663Z",
     "iopub.status.idle": "2023-11-09T21:55:30.928127Z",
     "shell.execute_reply": "2023-11-09T21:55:30.927778Z",
     "shell.execute_reply.started": "2023-11-09T21:55:30.925981Z"
    },
    "tags": []
   },
   "outputs": [],
   "source": [
    "#get chained collection\n",
    "collection_chain = registry.getCollectionChain(collections)"
   ]
  },
  {
   "cell_type": "code",
   "execution_count": 14,
   "id": "cb15ff5e-558e-41c5-98b5-26e5b4ee9699",
   "metadata": {
    "execution": {
     "iopub.execute_input": "2023-11-09T21:55:35.855557Z",
     "iopub.status.busy": "2023-11-09T21:55:35.855076Z",
     "iopub.status.idle": "2023-11-09T21:55:35.858391Z",
     "shell.execute_reply": "2023-11-09T21:55:35.858048Z",
     "shell.execute_reply.started": "2023-11-09T21:55:35.855543Z"
    },
    "tags": []
   },
   "outputs": [
    {
     "data": {
      "text/plain": [
       "('LATISS/runs/AUXTEL_DRP_IMAGING_2022-11A/w_2022_46/PREOPS-1616/20221111T182132Z',\n",
       " 'LATISS/raw/all',\n",
       " 'LATISS/calib/DM-36719/bias.20221107',\n",
       " 'LATISS/calib/DM-36719/dark.20221107',\n",
       " 'LATISS/calib/DM-36719/flat-SDSSi.20221107',\n",
       " 'LATISS/calib/DM-36719/flat-SDSSr.20221107',\n",
       " 'LATISS/calib/DM-36719/flat-SDSSg.20221107',\n",
       " 'LATISS/calib/DM-36484/bias.20221005a',\n",
       " 'LATISS/calib/DM-36484/dark.20221006a',\n",
       " 'LATISS/calib/DM-36484/flat-SDSSg.20221006a',\n",
       " 'LATISS/calib/DM-36484/flat-SDSSr.20221006a',\n",
       " 'LATISS/calib/DM-36484/flat-SDSSi.20221006a',\n",
       " 'u/czw/defects.20220608',\n",
       " 'LATISS/calib/DM-33875',\n",
       " 'u/czw/DM-28920/calib/bias.20210720',\n",
       " 'u/czw/DM-28920/calib/dark.20210720a',\n",
       " 'u/calib/DM-32209-20211013a-g',\n",
       " 'u/calib/DM-32209-20211013a-felh',\n",
       " 'u/czw/DM-28920/calib/flat.20210720',\n",
       " 'u/czw/DM-28920/calib/defect.20210720a',\n",
       " 'LATISS/calib/DM-28636',\n",
       " 'LATISS/calib/DM-28636/unbounded',\n",
       " 'refcats/DM-28636',\n",
       " 'refcats/DM-33444',\n",
       " 'skymaps')"
      ]
     },
     "execution_count": 14,
     "metadata": {},
     "output_type": "execute_result"
    }
   ],
   "source": [
    "collection_chain"
   ]
  },
  {
   "cell_type": "code",
   "execution_count": 53,
   "id": "84459598-c7eb-417d-b246-fc87da7ab7bf",
   "metadata": {
    "execution": {
     "iopub.execute_input": "2023-11-09T22:44:15.873533Z",
     "iopub.status.busy": "2023-11-09T22:44:15.873101Z",
     "iopub.status.idle": "2023-11-09T22:44:15.875880Z",
     "shell.execute_reply": "2023-11-09T22:44:15.875482Z",
     "shell.execute_reply.started": "2023-11-09T22:44:15.873519Z"
    },
    "tags": []
   },
   "outputs": [
    {
     "name": "stdout",
     "output_type": "stream",
     "text": [
      "LATISS/runs/AUXTEL_DRP_IMAGING_2022-11A/w_2022_46/PREOPS-1616/20221111T182132Z\n",
      "LATISS/raw/all\n",
      "LATISS/calib/DM-36719/bias.20221107\n",
      "LATISS/calib/DM-36719/dark.20221107\n",
      "LATISS/calib/DM-36719/flat-SDSSi.20221107\n",
      "LATISS/calib/DM-36719/flat-SDSSr.20221107\n",
      "LATISS/calib/DM-36719/flat-SDSSg.20221107\n",
      "LATISS/calib/DM-36484/bias.20221005a\n",
      "LATISS/calib/DM-36484/dark.20221006a\n",
      "LATISS/calib/DM-36484/flat-SDSSg.20221006a\n",
      "LATISS/calib/DM-36484/flat-SDSSr.20221006a\n",
      "LATISS/calib/DM-36484/flat-SDSSi.20221006a\n",
      "u/czw/defects.20220608\n",
      "LATISS/calib/DM-33875\n",
      "u/czw/DM-28920/calib/bias.20210720\n",
      "u/czw/DM-28920/calib/dark.20210720a\n",
      "u/calib/DM-32209-20211013a-g\n",
      "u/calib/DM-32209-20211013a-felh\n",
      "u/czw/DM-28920/calib/flat.20210720\n",
      "u/czw/DM-28920/calib/defect.20210720a\n",
      "LATISS/calib/DM-28636\n",
      "LATISS/calib/DM-28636/unbounded\n",
      "refcats/DM-28636\n",
      "refcats/DM-33444\n",
      "skymaps\n"
     ]
    }
   ],
   "source": [
    "for c in collection_chain:\n",
    "    print(c)"
   ]
  },
  {
   "cell_type": "code",
   "execution_count": 21,
   "id": "f85e7900-0f95-47bc-aa61-5eac912209d0",
   "metadata": {
    "execution": {
     "iopub.execute_input": "2023-11-09T22:10:19.757011Z",
     "iopub.status.busy": "2023-11-09T22:10:19.756695Z",
     "iopub.status.idle": "2023-11-09T22:10:19.759753Z",
     "shell.execute_reply": "2023-11-09T22:10:19.759476Z",
     "shell.execute_reply.started": "2023-11-09T22:10:19.756999Z"
    },
    "tags": []
   },
   "outputs": [
    {
     "data": {
      "text/plain": [
       "CollectionSummary(dataset_types=NamedValueSet({DatasetType('transformSourceTable_metadata', {band, instrument, detector, physical_filter, visit}, TaskMetadata), DatasetType('consolidateSourceTable_metadata', {band, instrument, physical_filter, visit}, TaskMetadata), DatasetType('isr_log', {band, instrument, detector, physical_filter, exposure}, ButlerLogRecords), DatasetType('isr_metadata', {band, instrument, detector, physical_filter, exposure}, TaskMetadata), DatasetType('sourceTable_visit', {band, instrument, physical_filter, visit}, DataFrame), DatasetType('transformSourceTable_log', {band, instrument, detector, physical_filter, visit}, ButlerLogRecords), DatasetType('characterizeImage_log', {band, instrument, detector, physical_filter, visit}, ButlerLogRecords), DatasetType('calibrate_log', {band, instrument, detector, physical_filter, visit}, ButlerLogRecords), DatasetType('icExp', {band, instrument, detector, physical_filter, visit}, ExposureF), DatasetType('src', {band, instrument, detector, physical_filter, visit}, SourceCatalog), DatasetType('writeSourceTable_metadata', {band, instrument, detector, physical_filter, visit}, TaskMetadata), DatasetType('srcMatchFull', {band, instrument, detector, physical_filter, visit}, Catalog), DatasetType('source', {band, instrument, detector, physical_filter, visit}, DataFrame), DatasetType('calibrate_metadata', {band, instrument, detector, physical_filter, visit}, TaskMetadata), DatasetType('srcMatch', {band, instrument, detector, physical_filter, visit}, Catalog), DatasetType('characterizeImage_metadata', {band, instrument, detector, physical_filter, visit}, TaskMetadata), DatasetType('postISRCCD', {band, instrument, detector, physical_filter, exposure}, Exposure), DatasetType('consolidateSourceTable_log', {band, instrument, physical_filter, visit}, ButlerLogRecords), DatasetType('sourceTable', {band, instrument, detector, physical_filter, visit}, DataFrame), DatasetType('calexp', {band, instrument, detector, physical_filter, visit}, ExposureF), DatasetType('writeSourceTable_log', {band, instrument, detector, physical_filter, visit}, ButlerLogRecords), DatasetType('icSrc', {band, instrument, detector, physical_filter, visit}, SourceCatalog), DatasetType('icExpBackground', {band, instrument, detector, physical_filter, visit}, Background), DatasetType('calexpBackground', {band, instrument, detector, physical_filter, visit}, Background), DatasetType('isr_config', {}, Config), DatasetType('icSrc_schema', {}, SourceCatalog), DatasetType('characterizeImage_config', {}, Config), DatasetType('transformSourceTable_config', {}, Config), DatasetType('calibrate_config', {}, Config), DatasetType('packages', {}, Packages), DatasetType('writeSourceTable_config', {}, Config), DatasetType('consolidateSourceTable_config', {}, Config), DatasetType('src_schema', {}, SourceCatalog), DatasetType('raw', {band, instrument, detector, physical_filter, exposure}, Exposure), DatasetType('bias', {instrument, detector}, ExposureF, isCalibration=True), DatasetType('dark', {instrument, detector}, ExposureF, isCalibration=True), DatasetType('flat', {band, instrument, detector, physical_filter}, ExposureF, isCalibration=True), DatasetType('defects', {instrument, detector}, Defects, isCalibration=True), DatasetType('camera', {instrument}, Camera, isCalibration=True), DatasetType('gaia_dr2_20200414', {htm7}, SimpleCatalog), DatasetType('atlas_refcat2_20220201', {htm7}, SimpleCatalog), DatasetType('skyMap', {skymap}, SkyMap)}), governors={'instrument': {'LATISS'}, 'skymap': {'latiss_v1', 'hsc_rings_v1', 'lsst_cells_v1'}})"
      ]
     },
     "execution_count": 21,
     "metadata": {},
     "output_type": "execute_result"
    }
   ],
   "source": [
    "registry.getCollectionSummary(collections)"
   ]
  },
  {
   "cell_type": "code",
   "execution_count": 24,
   "id": "8ec5b8a1-dc12-45c0-a0f6-23c5725d0ac1",
   "metadata": {
    "execution": {
     "iopub.execute_input": "2023-11-09T22:14:18.569786Z",
     "iopub.status.busy": "2023-11-09T22:14:18.569475Z",
     "iopub.status.idle": "2023-11-09T22:14:18.572475Z",
     "shell.execute_reply": "2023-11-09T22:14:18.572192Z",
     "shell.execute_reply.started": "2023-11-09T22:14:18.569771Z"
    },
    "tags": []
   },
   "outputs": [
    {
     "data": {
      "text/plain": [
       "CollectionSummary(dataset_types=NamedValueSet({DatasetType('calexp', {band, instrument, detector, physical_filter, visit}, ExposureF)}), governors={'instrument': {'LATISS'}})"
      ]
     },
     "execution_count": 24,
     "metadata": {},
     "output_type": "execute_result"
    }
   ],
   "source": [
    "test_from_butler_registry.getCollectionSummary('LATISS/runs/AUXTEL_DRP_IMAGING_2022-11A/w_2022_46/PREOPS-1616/20221111T182132Z')"
   ]
  },
  {
   "cell_type": "code",
   "execution_count": 54,
   "id": "cb3df440-0aed-4da2-86f5-4b5a765a7271",
   "metadata": {
    "execution": {
     "iopub.execute_input": "2023-11-09T22:44:43.451160Z",
     "iopub.status.busy": "2023-11-09T22:44:43.450642Z",
     "iopub.status.idle": "2023-11-09T22:44:43.548453Z",
     "shell.execute_reply": "2023-11-09T22:44:43.548058Z",
     "shell.execute_reply.started": "2023-11-09T22:44:43.451145Z"
    },
    "tags": []
   },
   "outputs": [],
   "source": [
    "# register all the collections from the chain\n",
    "for c in collection_chain:\n",
    "    test_from_butler_registry.registerCollection(c, CollectionType(3))"
   ]
  },
  {
   "cell_type": "code",
   "execution_count": 47,
   "id": "1cade7ad-814a-4eea-9a3d-33ef51e60d75",
   "metadata": {
    "execution": {
     "iopub.execute_input": "2023-11-09T22:39:04.174484Z",
     "iopub.status.busy": "2023-11-09T22:39:04.174306Z",
     "iopub.status.idle": "2023-11-09T22:39:04.176610Z",
     "shell.execute_reply": "2023-11-09T22:39:04.176270Z",
     "shell.execute_reply.started": "2023-11-09T22:39:04.174471Z"
    },
    "tags": []
   },
   "outputs": [],
   "source": [
    "# test_from_butler_registry.removeCollection('test_chained_collection')"
   ]
  },
  {
   "cell_type": "code",
   "execution_count": 55,
   "id": "9e723aec-490c-44f2-8dfd-9fc2bf7e723e",
   "metadata": {
    "execution": {
     "iopub.execute_input": "2023-11-09T22:44:47.141257Z",
     "iopub.status.busy": "2023-11-09T22:44:47.140749Z",
     "iopub.status.idle": "2023-11-09T22:44:47.143685Z",
     "shell.execute_reply": "2023-11-09T22:44:47.143335Z",
     "shell.execute_reply.started": "2023-11-09T22:44:47.141242Z"
    },
    "tags": []
   },
   "outputs": [
    {
     "name": "stdout",
     "output_type": "stream",
     "text": [
      "LATISS/calib/DM-28636\n",
      "LATISS/calib/DM-28636/unbounded\n",
      "LATISS/calib/DM-33875\n",
      "LATISS/calib/DM-36484/bias.20221005a\n",
      "LATISS/calib/DM-36484/dark.20221006a\n",
      "LATISS/calib/DM-36484/flat-SDSSg.20221006a\n",
      "LATISS/calib/DM-36484/flat-SDSSi.20221006a\n",
      "LATISS/calib/DM-36484/flat-SDSSr.20221006a\n",
      "LATISS/calib/DM-36719/bias.20221107\n",
      "LATISS/calib/DM-36719/dark.20221107\n",
      "LATISS/calib/DM-36719/flat-SDSSg.20221107\n",
      "LATISS/calib/DM-36719/flat-SDSSi.20221107\n",
      "LATISS/calib/DM-36719/flat-SDSSr.20221107\n",
      "LATISS/raw/all\n",
      "LATISS/runs/AUXTEL_DRP_IMAGING_2022-11A/w_2022_46/PREOPS-1616\n",
      "LATISS/runs/AUXTEL_DRP_IMAGING_2022-11A/w_2022_46/PREOPS-1616/20221111T182132Z\n",
      "refcats/DM-28636\n",
      "refcats/DM-33444\n",
      "skymaps\n",
      "u/calib/DM-32209-20211013a-felh\n",
      "u/calib/DM-32209-20211013a-g\n",
      "u/czw/DM-28920/calib/bias.20210720\n",
      "u/czw/DM-28920/calib/dark.20210720a\n",
      "u/czw/DM-28920/calib/defect.20210720a\n",
      "u/czw/DM-28920/calib/flat.20210720\n",
      "u/czw/defects.20220608\n"
     ]
    }
   ],
   "source": [
    "for c in sorted(test_from_butler_registry.queryCollections(datasetType='calexp')):\n",
    "    print(c)"
   ]
  },
  {
   "cell_type": "code",
   "execution_count": 56,
   "id": "cbe138ed-e558-414c-8a6e-b43e7206c7d1",
   "metadata": {
    "execution": {
     "iopub.execute_input": "2023-11-09T22:44:50.419127Z",
     "iopub.status.busy": "2023-11-09T22:44:50.418623Z",
     "iopub.status.idle": "2023-11-09T22:44:50.421930Z",
     "shell.execute_reply": "2023-11-09T22:44:50.421549Z",
     "shell.execute_reply.started": "2023-11-09T22:44:50.419113Z"
    },
    "tags": []
   },
   "outputs": [
    {
     "data": {
      "text/plain": [
       "()"
      ]
     },
     "execution_count": 56,
     "metadata": {},
     "output_type": "execute_result"
    }
   ],
   "source": [
    "test_from_butler_registry.getCollectionChain(collections)"
   ]
  },
  {
   "cell_type": "code",
   "execution_count": 57,
   "id": "c78b3d2f-8d7a-4442-a0e0-7bda404e4347",
   "metadata": {
    "execution": {
     "iopub.execute_input": "2023-11-09T22:44:53.206486Z",
     "iopub.status.busy": "2023-11-09T22:44:53.206306Z",
     "iopub.status.idle": "2023-11-09T22:44:53.215143Z",
     "shell.execute_reply": "2023-11-09T22:44:53.214794Z",
     "shell.execute_reply.started": "2023-11-09T22:44:53.206473Z"
    },
    "tags": []
   },
   "outputs": [],
   "source": [
    "# add chained collection to the destination butler\n",
    "test_from_butler_registry.setCollectionChain(parent=collections, children=collection_chain)"
   ]
  },
  {
   "cell_type": "code",
   "execution_count": 66,
   "id": "f67b7c78-737e-482f-a77a-3e71688a90e2",
   "metadata": {
    "execution": {
     "iopub.execute_input": "2023-11-09T22:47:01.152214Z",
     "iopub.status.busy": "2023-11-09T22:47:01.151900Z",
     "iopub.status.idle": "2023-11-09T22:47:01.154862Z",
     "shell.execute_reply": "2023-11-09T22:47:01.154551Z",
     "shell.execute_reply.started": "2023-11-09T22:47:01.152200Z"
    },
    "tags": []
   },
   "outputs": [
    {
     "data": {
      "text/plain": [
       "('LATISS/runs/AUXTEL_DRP_IMAGING_2022-11A/w_2022_46/PREOPS-1616/20221111T182132Z',\n",
       " 'LATISS/raw/all',\n",
       " 'LATISS/calib/DM-36719/bias.20221107',\n",
       " 'LATISS/calib/DM-36719/dark.20221107',\n",
       " 'LATISS/calib/DM-36719/flat-SDSSi.20221107',\n",
       " 'LATISS/calib/DM-36719/flat-SDSSr.20221107',\n",
       " 'LATISS/calib/DM-36719/flat-SDSSg.20221107',\n",
       " 'LATISS/calib/DM-36484/bias.20221005a',\n",
       " 'LATISS/calib/DM-36484/dark.20221006a',\n",
       " 'LATISS/calib/DM-36484/flat-SDSSg.20221006a',\n",
       " 'LATISS/calib/DM-36484/flat-SDSSr.20221006a',\n",
       " 'LATISS/calib/DM-36484/flat-SDSSi.20221006a',\n",
       " 'u/czw/defects.20220608',\n",
       " 'LATISS/calib/DM-33875',\n",
       " 'u/czw/DM-28920/calib/bias.20210720',\n",
       " 'u/czw/DM-28920/calib/dark.20210720a',\n",
       " 'u/calib/DM-32209-20211013a-g',\n",
       " 'u/calib/DM-32209-20211013a-felh',\n",
       " 'u/czw/DM-28920/calib/flat.20210720',\n",
       " 'u/czw/DM-28920/calib/defect.20210720a',\n",
       " 'LATISS/calib/DM-28636',\n",
       " 'LATISS/calib/DM-28636/unbounded',\n",
       " 'refcats/DM-28636',\n",
       " 'refcats/DM-33444',\n",
       " 'skymaps')"
      ]
     },
     "execution_count": 66,
     "metadata": {},
     "output_type": "execute_result"
    }
   ],
   "source": [
    "test_from_butler_registry.getCollectionChain(collections)"
   ]
  },
  {
   "cell_type": "code",
   "execution_count": 67,
   "id": "5eca7532-603f-411d-aa43-97a0a249fee8",
   "metadata": {
    "execution": {
     "iopub.execute_input": "2023-11-09T22:51:37.039386Z",
     "iopub.status.busy": "2023-11-09T22:51:37.039196Z",
     "iopub.status.idle": "2023-11-09T22:51:37.042222Z",
     "shell.execute_reply": "2023-11-09T22:51:37.041940Z",
     "shell.execute_reply.started": "2023-11-09T22:51:37.039373Z"
    },
    "tags": []
   },
   "outputs": [
    {
     "data": {
      "text/plain": [
       "CollectionSummary(dataset_types=NamedValueSet({DatasetType('calexp', {band, instrument, detector, physical_filter, visit}, ExposureF), DatasetType('raw', {band, instrument, detector, physical_filter, exposure}, Exposure)}), governors={'instrument': {'LATISS'}})"
      ]
     },
     "execution_count": 67,
     "metadata": {},
     "output_type": "execute_result"
    }
   ],
   "source": [
    "test_from_butler_registry.getCollectionSummary(collections)"
   ]
  },
  {
   "cell_type": "code",
   "execution_count": 58,
   "id": "2b20845a-83ba-461d-bdba-19a551d405fa",
   "metadata": {
    "execution": {
     "iopub.execute_input": "2023-11-09T22:44:58.661971Z",
     "iopub.status.busy": "2023-11-09T22:44:58.661605Z",
     "iopub.status.idle": "2023-11-09T22:44:58.671252Z",
     "shell.execute_reply": "2023-11-09T22:44:58.670945Z",
     "shell.execute_reply.started": "2023-11-09T22:44:58.661958Z"
    },
    "tags": []
   },
   "outputs": [
    {
     "name": "stdout",
     "output_type": "stream",
     "text": [
      "{band: 'i', instrument: 'LATISS', detector: 0, physical_filter: 'SDSSi_65mm~empty', visit: 2022110800580}\n",
      "{band: 'g', instrument: 'LATISS', detector: 0, physical_filter: 'SDSSg_65mm~empty', visit: 2022110900673}\n",
      "{band: 'i', instrument: 'LATISS', detector: 0, physical_filter: 'SDSSi_65mm~empty', visit: 2022111000436}\n"
     ]
    }
   ],
   "source": [
    "testrefs = test_from_butler_registry.queryDatasets(datasetType, dataId=dataId, collections=collections)\n",
    "for i, ref in enumerate(testrefs):\n",
    "    print(ref.dataId.full)"
   ]
  },
  {
   "cell_type": "code",
   "execution_count": 59,
   "id": "67fe9792-0802-4eae-b8fd-5e300d633dd5",
   "metadata": {
    "execution": {
     "iopub.execute_input": "2023-11-09T22:45:03.165389Z",
     "iopub.status.busy": "2023-11-09T22:45:03.165005Z",
     "iopub.status.idle": "2023-11-09T22:45:03.171274Z",
     "shell.execute_reply": "2023-11-09T22:45:03.170898Z",
     "shell.execute_reply.started": "2023-11-09T22:45:03.165373Z"
    },
    "tags": []
   },
   "outputs": [
    {
     "name": "stdout",
     "output_type": "stream",
     "text": [
      "{band: 'i', instrument: 'LATISS', detector: 0, physical_filter: 'SDSSi_65mm~empty', visit: 2022110800580}\n",
      "{band: 'g', instrument: 'LATISS', detector: 0, physical_filter: 'SDSSg_65mm~empty', visit: 2022110900673}\n",
      "{band: 'i', instrument: 'LATISS', detector: 0, physical_filter: 'SDSSi_65mm~empty', visit: 2022111000436}\n"
     ]
    }
   ],
   "source": [
    "testrefs = test_from_butler_registry.queryDatasets(datasetType, dataId=dataId, collections=...)\n",
    "for i, ref in enumerate(testrefs):\n",
    "    print(ref.dataId.full)"
   ]
  },
  {
   "cell_type": "code",
   "execution_count": 64,
   "id": "5e479fbf-d1d6-4871-ad52-29ead5a707c8",
   "metadata": {
    "execution": {
     "iopub.execute_input": "2023-11-09T22:45:28.989202Z",
     "iopub.status.busy": "2023-11-09T22:45:28.988775Z",
     "iopub.status.idle": "2023-11-09T22:45:28.997460Z",
     "shell.execute_reply": "2023-11-09T22:45:28.997103Z",
     "shell.execute_reply.started": "2023-11-09T22:45:28.989185Z"
    },
    "tags": []
   },
   "outputs": [
    {
     "name": "stdout",
     "output_type": "stream",
     "text": [
      "visit:\n",
      "  instrument: 'LATISS'\n",
      "  id: 2022110800580\n",
      "  physical_filter: 'SDSSi_65mm~empty'\n",
      "  name: 'AT_O_20221108_000580'\n",
      "  day_obs: 20221108\n",
      "  seq_num: 580\n",
      "  exposure_time: 30.0\n",
      "  target_name: 'SPT-CL-J0559-5249_063'\n",
      "  observation_reason: 'object'\n",
      "  science_program: 'AUXTEL_DRP_IMAGING'\n",
      "  azimuth: 139.27777238604904\n",
      "  zenith_angle: 36.25017562667199\n",
      "  region: ConvexPolygon([UnitVector3d(-0.0014031665810288064, 0.6073223384722833, -0.7944542833392637), UnitVector3d(-0.0035242917214096405, 0.6073137483105336, -0.7944542721144321), UnitVector3d(-0.003530996614655318, 0.6089710242215567, -0.7931846088531064), UnitVector3d(-0.0014098714605740878, 0.608979614297738, -0.7931846201435344)])\n",
      "  timespan: Timespan(begin=astropy.time.Time('2022-11-09 04:54:12.359010', scale='tai', format='iso'), end=astropy.time.Time('2022-11-09 04:54:42.592000', scale='tai', format='iso'))\n",
      "visit:\n",
      "  instrument: 'LATISS'\n",
      "  id: 2022110900673\n",
      "  physical_filter: 'SDSSg_65mm~empty'\n",
      "  name: 'AT_O_20221109_000673'\n",
      "  day_obs: 20221109\n",
      "  seq_num: 673\n",
      "  exposure_time: 30.0\n",
      "  target_name: 'SPT-CL-J0559-5249_060'\n",
      "  observation_reason: 'object'\n",
      "  science_program: 'AUXTEL_DRP_IMAGING'\n",
      "  azimuth: 141.8306801509607\n",
      "  zenith_angle: 33.19597506681748\n",
      "  region: ConvexPolygon([UnitVector3d(0.0035152383143990584, 0.6073148284693342, -0.7944534865055702), UnitVector3d(0.001394113166435736, 0.6073234167581535, -0.7944534749786681), UnitVector3d(0.001400830301217226, 0.6089806909534257, -0.7931838095425016), UnitVector3d(0.0035219554621876803, 0.6089721025789298, -0.7931838211350001)])\n",
      "  timespan: Timespan(begin=astropy.time.Time('2022-11-10 05:10:38.071990', scale='tai', format='iso'), end=astropy.time.Time('2022-11-10 05:11:08.315000', scale='tai', format='iso'))\n",
      "visit:\n",
      "  instrument: 'LATISS'\n",
      "  id: 2022111000436\n",
      "  physical_filter: 'SDSSi_65mm~empty'\n",
      "  name: 'AT_O_20221110_000436'\n",
      "  day_obs: 20221110\n",
      "  seq_num: 436\n",
      "  exposure_time: 30.0\n",
      "  target_name: 'SMC_002'\n",
      "  observation_reason: 'object'\n",
      "  science_program: 'AUXTEL_DRP_IMAGING'\n",
      "  azimuth: 188.51554461265914\n",
      "  zenith_angle: 44.13260185877152\n",
      "  region: ConvexPolygon([UnitVector3d(0.2823282694485467, 0.05902208493845825, -0.9575004656707516), UnitVector3d(0.2818862655161742, 0.061096663971940815, -0.9575005644723373), UnitVector3d(0.28384077341050895, 0.06151311461736977, -0.9568963120839136), UnitVector3d(0.2842827772446855, 0.059438535549310355, -0.9568962133135452)])\n",
      "  timespan: Timespan(begin=astropy.time.Time('2022-11-11 03:35:12.836981', scale='tai', format='iso'), end=astropy.time.Time('2022-11-11 03:35:43.067000', scale='tai', format='iso'))\n"
     ]
    }
   ],
   "source": [
    "# testrefs = test_from_butler_registry.queryDimensionRecords(\"exposure\",  dataId=dataId, datasets=datasetType,collections=...)\n",
    "testrefs = test_from_butler_registry.queryDimensionRecords(\"visit\",  dataId=dataId, datasets=datasetType,collections=collections)\n",
    "for i, ref in enumerate(testrefs):\n",
    "    print(ref)"
   ]
  },
  {
   "cell_type": "code",
   "execution_count": 65,
   "id": "39152695-7a6d-453b-8ae9-067283e485f0",
   "metadata": {
    "execution": {
     "iopub.execute_input": "2023-11-09T22:45:50.977617Z",
     "iopub.status.busy": "2023-11-09T22:45:50.977217Z",
     "iopub.status.idle": "2023-11-09T22:45:50.983460Z",
     "shell.execute_reply": "2023-11-09T22:45:50.983072Z",
     "shell.execute_reply.started": "2023-11-09T22:45:50.977602Z"
    }
   },
   "outputs": [],
   "source": [
    "testrefs = test_from_butler_registry.queryDimensionRecords(\"exposure\",  dataId=dataId, datasets=datasetType,collections=collections)\n",
    "for i, ref in enumerate(testrefs):\n",
    "    print(ref)"
   ]
  },
  {
   "cell_type": "code",
   "execution_count": 18,
   "id": "002e2510-7346-4972-afd8-f7b68c946c08",
   "metadata": {
    "execution": {
     "iopub.execute_input": "2023-10-24T13:35:12.405267Z",
     "iopub.status.busy": "2023-10-24T13:35:12.404996Z",
     "iopub.status.idle": "2023-10-24T13:35:12.411027Z",
     "shell.execute_reply": "2023-10-24T13:35:12.410669Z",
     "shell.execute_reply.started": "2023-10-24T13:35:12.405254Z"
    },
    "tags": []
   },
   "outputs": [],
   "source": [
    "outside_embargo = [\n",
    "            dt.id\n",
    "            for dt in test_from_butler_registry.queryDimensionRecords(\n",
    "                \"exposure\",\n",
    "                dataId=dataId,\n",
    "                datasets=datasetType,\n",
    "                # collections=collections_exposure,\n",
    "                collections=...,)]"
   ]
  },
  {
   "cell_type": "code",
   "execution_count": 19,
   "id": "49a11cfe-f6f8-4694-bc3d-528cfc56f038",
   "metadata": {
    "execution": {
     "iopub.execute_input": "2023-10-24T13:35:13.573587Z",
     "iopub.status.busy": "2023-10-24T13:35:13.573296Z",
     "iopub.status.idle": "2023-10-24T13:35:13.576925Z",
     "shell.execute_reply": "2023-10-24T13:35:13.576470Z",
     "shell.execute_reply.started": "2023-10-24T13:35:13.573573Z"
    },
    "tags": []
   },
   "outputs": [
    {
     "data": {
      "text/plain": [
       "[]"
      ]
     },
     "execution_count": 19,
     "metadata": {},
     "output_type": "execute_result"
    }
   ],
   "source": [
    "outside_embargo"
   ]
  },
  {
   "cell_type": "code",
   "execution_count": 20,
   "id": "df092cc8-e121-4b62-8769-e053b3dd6ba5",
   "metadata": {
    "execution": {
     "iopub.execute_input": "2023-10-18T22:17:37.851752Z",
     "iopub.status.busy": "2023-10-18T22:17:37.851483Z",
     "iopub.status.idle": "2023-10-18T22:17:37.870994Z",
     "shell.execute_reply": "2023-10-18T22:17:37.870663Z",
     "shell.execute_reply.started": "2023-10-18T22:17:37.851735Z"
    },
    "tags": []
   },
   "outputs": [],
   "source": [
    "outside_embargo = [\n",
    "            dt.id\n",
    "            for dt in test_from_butler_registry.queryDimensionRecords(\n",
    "                \"exposure\",\n",
    "                dataId=dataId,\n",
    "                datasets=datasetType,\n",
    "                # collections=collections_exposure,\n",
    "                collections=...,\n",
    "                where=\"NOT exposure.timespan OVERLAPS\\\n",
    "                                                        timespan_embargo\",\n",
    "                bind={\"timespan_embargo\": timespan_embargo},\n",
    "            )\n",
    "        ]"
   ]
  },
  {
   "cell_type": "code",
   "execution_count": 21,
   "id": "81fea114-ef51-4855-a4ce-e09c9c4265cc",
   "metadata": {
    "execution": {
     "iopub.execute_input": "2023-10-18T22:17:42.204524Z",
     "iopub.status.busy": "2023-10-18T22:17:42.204192Z",
     "iopub.status.idle": "2023-10-18T22:17:42.207086Z",
     "shell.execute_reply": "2023-10-18T22:17:42.206800Z",
     "shell.execute_reply.started": "2023-10-18T22:17:42.204511Z"
    },
    "tags": []
   },
   "outputs": [
    {
     "data": {
      "text/plain": [
       "[]"
      ]
     },
     "execution_count": 21,
     "metadata": {},
     "output_type": "execute_result"
    }
   ],
   "source": [
    "outside_embargo"
   ]
  },
  {
   "cell_type": "code",
   "execution_count": null,
   "id": "6270e6fb-0db0-4758-b998-6a1289af490e",
   "metadata": {},
   "outputs": [],
   "source": []
  }
 ],
 "metadata": {
  "kernelspec": {
   "display_name": "LSST",
   "language": "python",
   "name": "lsst"
  },
  "language_info": {
   "codemirror_mode": {
    "name": "ipython",
    "version": 3
   },
   "file_extension": ".py",
   "mimetype": "text/x-python",
   "name": "python",
   "nbconvert_exporter": "python",
   "pygments_lexer": "ipython3",
   "version": "3.11.4"
  }
 },
 "nbformat": 4,
 "nbformat_minor": 5
}
