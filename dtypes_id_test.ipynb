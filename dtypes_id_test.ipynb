{
 "cells": [
  {
   "cell_type": "code",
   "execution_count": 1,
   "id": "8ffec5b9-afd1-48b2-9763-5ef6b777ee53",
   "metadata": {
    "execution": {
     "iopub.execute_input": "2023-11-09T21:52:11.521502Z",
     "iopub.status.busy": "2023-11-09T21:52:11.521229Z",
     "iopub.status.idle": "2023-11-09T21:52:11.999773Z",
     "shell.execute_reply": "2023-11-09T21:52:11.999302Z",
     "shell.execute_reply.started": "2023-11-09T21:52:11.521484Z"
    },
    "tags": []
   },
   "outputs": [],
   "source": [
    "import astropy.time\n",
    "from lsst.daf.butler import Butler, Timespan"
   ]
  },
  {
   "cell_type": "code",
   "execution_count": 33,
   "id": "8726857b-ffaa-43e3-ac1e-08f0896fd982",
   "metadata": {
    "execution": {
     "iopub.execute_input": "2023-11-09T22:29:54.992261Z",
     "iopub.status.busy": "2023-11-09T22:29:54.992007Z",
     "iopub.status.idle": "2023-11-09T22:29:54.995013Z",
     "shell.execute_reply": "2023-11-09T22:29:54.994569Z",
     "shell.execute_reply.started": "2023-11-09T22:29:54.992242Z"
    },
    "tags": []
   },
   "outputs": [],
   "source": [
    "from lsst.daf.butler import CollectionType"
   ]
  },
  {
   "cell_type": "code",
   "execution_count": 2,
   "id": "a4f10eff-76dc-469c-b717-af8e49db4014",
   "metadata": {
    "execution": {
     "iopub.execute_input": "2023-11-09T21:52:12.004146Z",
     "iopub.status.busy": "2023-11-09T21:52:12.004026Z",
     "iopub.status.idle": "2023-11-09T21:52:14.909093Z",
     "shell.execute_reply": "2023-11-09T21:52:14.908643Z",
     "shell.execute_reply.started": "2023-11-09T21:52:12.004135Z"
    },
    "tags": []
   },
   "outputs": [],
   "source": [
    "butler = Butler('/repo/embargo')\n",
    "registry = butler.registry"
   ]
  },
  {
   "cell_type": "code",
   "execution_count": 3,
   "id": "5aa9eae1-4dcf-48a8-b3aa-4518b3193806",
   "metadata": {
    "execution": {
     "iopub.execute_input": "2023-11-09T21:52:14.910318Z",
     "iopub.status.busy": "2023-11-09T21:52:14.910177Z",
     "iopub.status.idle": "2023-11-09T21:52:15.001071Z",
     "shell.execute_reply": "2023-11-09T21:52:15.000641Z",
     "shell.execute_reply.started": "2023-11-09T21:52:14.910305Z"
    },
    "tags": []
   },
   "outputs": [],
   "source": [
    "data_path = '/home/j/jarugula/DM-37690/transfer_embargo/tests/data/'\n",
    "test_from_butler = Butler(data_path+'test_from', writeable=True)\n",
    "test_from_butler_registry = test_from_butler.registry"
   ]
  },
  {
   "cell_type": "code",
   "execution_count": 4,
   "id": "88b15102-6cfd-4579-a790-c43fd043a7a1",
   "metadata": {
    "execution": {
     "iopub.execute_input": "2023-11-09T21:52:15.001749Z",
     "iopub.status.busy": "2023-11-09T21:52:15.001618Z",
     "iopub.status.idle": "2023-11-09T21:52:15.004001Z",
     "shell.execute_reply": "2023-11-09T21:52:15.003659Z",
     "shell.execute_reply.started": "2023-11-09T21:52:15.001735Z"
    },
    "tags": []
   },
   "outputs": [],
   "source": [
    "datasetType = 'calexp'\n",
    "collections = 'LATISS/runs/AUXTEL_DRP_IMAGING_2022-11A/w_2022_46/PREOPS-1616'\n",
    "dataId = {'instrument':'LATISS'}"
   ]
  },
  {
   "cell_type": "code",
   "execution_count": 5,
   "id": "fe207fdf-6328-4fd1-afd2-d07133502783",
   "metadata": {
    "execution": {
     "iopub.execute_input": "2023-11-09T21:52:15.008167Z",
     "iopub.status.busy": "2023-11-09T21:52:15.008052Z",
     "iopub.status.idle": "2023-11-09T21:52:15.009912Z",
     "shell.execute_reply": "2023-11-09T21:52:15.009589Z",
     "shell.execute_reply.started": "2023-11-09T21:52:15.008157Z"
    },
    "tags": []
   },
   "outputs": [],
   "source": [
    "# testrefs = test_from_butler_registry.queryDatasets(datasetType, dataId=dataId, collections=collections)\n",
    "# testrefs = test_from_butler_registry.queryDatasets(datasetType, dataId=dataId, collections=...)\n",
    "\n",
    "# for i, ref in enumerate(testrefs):\n",
    "#     print(ref.dataId.full)"
   ]
  },
  {
   "cell_type": "code",
   "execution_count": 6,
   "id": "ccb4aead-c4e7-4f74-b25c-3ae8ec2929a4",
   "metadata": {
    "execution": {
     "iopub.execute_input": "2023-11-09T21:52:15.010473Z",
     "iopub.status.busy": "2023-11-09T21:52:15.010364Z",
     "iopub.status.idle": "2023-11-09T21:52:15.023532Z",
     "shell.execute_reply": "2023-11-09T21:52:15.023168Z",
     "shell.execute_reply.started": "2023-11-09T21:52:15.010463Z"
    },
    "tags": []
   },
   "outputs": [],
   "source": [
    "now = astropy.time.Time.now().tai\n",
    "embargo_hours = 80.0\n",
    "embargo_period = astropy.time.TimeDelta(\n",
    "        embargo_hours * 3600.0, format=\"sec\"\n",
    "    )\n",
    "timespan_embargo = Timespan(now - embargo_period, None)"
   ]
  },
  {
   "cell_type": "code",
   "execution_count": 7,
   "id": "521df2c6-bb2e-45ca-9417-0216a965d7be",
   "metadata": {
    "execution": {
     "iopub.execute_input": "2023-11-09T21:52:15.024109Z",
     "iopub.status.busy": "2023-11-09T21:52:15.023996Z",
     "iopub.status.idle": "2023-11-09T21:52:15.045926Z",
     "shell.execute_reply": "2023-11-09T21:52:15.045587Z",
     "shell.execute_reply.started": "2023-11-09T21:52:15.024099Z"
    },
    "tags": []
   },
   "outputs": [],
   "source": [
    "datarefs = registry.queryDimensionRecords(\n",
    "            \"exposure\",\n",
    "            dataId=dataId,\n",
    "            datasets=datasetType,\n",
    "            collections=collections,\n",
    "            where=\"NOT exposure.timespan OVERLAPS timespan_embargo\",\n",
    "            bind={\"timespan_embargo\": timespan_embargo},\n",
    "        )"
   ]
  },
  {
   "cell_type": "code",
   "execution_count": 8,
   "id": "1820ed4d-e38b-4d3a-8ad3-a21beab97ea4",
   "metadata": {
    "execution": {
     "iopub.execute_input": "2023-11-09T21:52:15.047124Z",
     "iopub.status.busy": "2023-11-09T21:52:15.047006Z",
     "iopub.status.idle": "2023-11-09T21:52:15.085226Z",
     "shell.execute_reply": "2023-11-09T21:52:15.084798Z",
     "shell.execute_reply.started": "2023-11-09T21:52:15.047113Z"
    },
    "tags": []
   },
   "outputs": [
    {
     "name": "stdout",
     "output_type": "stream",
     "text": [
      "{instrument: 'LATISS', exposure: 2022110900640}\n",
      "{instrument: 'LATISS', exposure: 2022110900620}\n",
      "{instrument: 'LATISS', exposure: 2022110900761}\n",
      "{instrument: 'LATISS', exposure: 2022110800658}\n",
      "{instrument: 'LATISS', exposure: 2022110800699}\n",
      "{instrument: 'LATISS', exposure: 2022110900454}\n",
      "{instrument: 'LATISS', exposure: 2022110900438}\n",
      "{instrument: 'LATISS', exposure: 2022111000436}\n",
      "{instrument: 'LATISS', exposure: 2022110900673}\n",
      "{instrument: 'LATISS', exposure: 2022110800580}\n",
      "{instrument: 'LATISS', exposure: 2022110800312}\n",
      "{instrument: 'LATISS', exposure: 2022110800341}\n"
     ]
    }
   ],
   "source": [
    "for i, ref in enumerate(datarefs):\n",
    "    print(ref.dataId)\n",
    "    if i > 10:\n",
    "        break"
   ]
  },
  {
   "cell_type": "code",
   "execution_count": 9,
   "id": "dd8c91e6-91e4-4c29-bcdf-8c2631c823a0",
   "metadata": {
    "execution": {
     "iopub.execute_input": "2023-11-09T21:52:15.085867Z",
     "iopub.status.busy": "2023-11-09T21:52:15.085745Z",
     "iopub.status.idle": "2023-11-09T21:52:15.087997Z",
     "shell.execute_reply": "2023-11-09T21:52:15.087619Z",
     "shell.execute_reply.started": "2023-11-09T21:52:15.085855Z"
    },
    "tags": []
   },
   "outputs": [],
   "source": [
    "exposure_ids = [2022111000436, 2022110900673, 2022110800580]"
   ]
  },
  {
   "cell_type": "code",
   "execution_count": 10,
   "id": "a03ad011-806b-42fb-86f8-48964a7cd5c1",
   "metadata": {
    "execution": {
     "iopub.execute_input": "2023-11-09T21:52:15.088644Z",
     "iopub.status.busy": "2023-11-09T21:52:15.088526Z",
     "iopub.status.idle": "2023-11-09T21:52:15.122735Z",
     "shell.execute_reply": "2023-11-09T21:52:15.122366Z",
     "shell.execute_reply.started": "2023-11-09T21:52:15.088633Z"
    },
    "tags": []
   },
   "outputs": [],
   "source": [
    "datasetRefs = registry.queryDatasets(datasetType, dataId=dataId, collections=collections,\n",
    "                                     where=\"exposure.id IN (exposure_ids)\",\n",
    "                                     bind={\"exposure_ids\": exposure_ids}).expanded()"
   ]
  },
  {
   "cell_type": "code",
   "execution_count": 11,
   "id": "7ab16b5f-dfb6-417f-9418-781b495b05b4",
   "metadata": {
    "execution": {
     "iopub.execute_input": "2023-11-09T21:52:15.147642Z",
     "iopub.status.busy": "2023-11-09T21:52:15.147519Z",
     "iopub.status.idle": "2023-11-09T21:52:15.169955Z",
     "shell.execute_reply": "2023-11-09T21:52:15.169574Z",
     "shell.execute_reply.started": "2023-11-09T21:52:15.147631Z"
    },
    "tags": []
   },
   "outputs": [
    {
     "name": "stdout",
     "output_type": "stream",
     "text": [
      "{instrument: 'LATISS', detector: 0, visit: 2022110800580, ...}\n",
      "{instrument: 'LATISS', detector: 0, visit: 2022110900673, ...}\n",
      "{instrument: 'LATISS', detector: 0, visit: 2022111000436, ...}\n"
     ]
    }
   ],
   "source": [
    "for i,ref in enumerate(datasetRefs):\n",
    "    print(ref.dataId)"
   ]
  },
  {
   "cell_type": "code",
   "execution_count": 18,
   "id": "1db5e46a-8b05-414d-a337-cabf04320f8d",
   "metadata": {
    "execution": {
     "iopub.execute_input": "2023-11-09T22:02:47.954335Z",
     "iopub.status.busy": "2023-11-09T22:02:47.954038Z",
     "iopub.status.idle": "2023-11-09T22:02:47.968965Z",
     "shell.execute_reply": "2023-11-09T22:02:47.968617Z",
     "shell.execute_reply.started": "2023-11-09T22:02:47.954323Z"
    },
    "tags": []
   },
   "outputs": [
    {
     "name": "stdout",
     "output_type": "stream",
     "text": [
      "calexp@{instrument: 'LATISS', detector: 0, visit: 2022110800580, ...} [sc=ExposureF] (run=LATISS/runs/AUXTEL_DRP_IMAGING_2022-11A/w_2022_46/PREOPS-1616/20221111T182132Z id=38721027-6eee-4dcf-a78c-f0a6b15f1611)\n",
      "calexp@{instrument: 'LATISS', detector: 0, visit: 2022110900673, ...} [sc=ExposureF] (run=LATISS/runs/AUXTEL_DRP_IMAGING_2022-11A/w_2022_46/PREOPS-1616/20221111T182132Z id=18997382-c91c-4ec1-bb6b-24046f500de5)\n",
      "calexp@{instrument: 'LATISS', detector: 0, visit: 2022111000436, ...} [sc=ExposureF] (run=LATISS/runs/AUXTEL_DRP_IMAGING_2022-11A/w_2022_46/PREOPS-1616/20221111T182132Z id=1b6977ab-fdab-4d5e-aa46-cda684ae9717)\n"
     ]
    }
   ],
   "source": [
    "for i,ref in enumerate(datasetRefs):\n",
    "    print(ref)"
   ]
  },
  {
   "cell_type": "code",
   "execution_count": null,
   "id": "9185768b-6208-4094-a177-9dfc2098ec34",
   "metadata": {},
   "outputs": [],
   "source": [
    "ref"
   ]
  },
  {
   "cell_type": "code",
   "execution_count": 12,
   "id": "41c66109-2937-426b-925d-7b2f1befa564",
   "metadata": {
    "execution": {
     "iopub.execute_input": "2023-11-09T21:52:53.306066Z",
     "iopub.status.busy": "2023-11-09T21:52:53.305805Z",
     "iopub.status.idle": "2023-11-09T21:52:53.381657Z",
     "shell.execute_reply": "2023-11-09T21:52:53.381288Z",
     "shell.execute_reply.started": "2023-11-09T21:52:53.306053Z"
    },
    "tags": []
   },
   "outputs": [
    {
     "data": {
      "text/html": [
       "<pre style=\"margin: 0.1em;\n",
       "padding-left: 0.25em;\n",
       "border-left-style: solid;\n",
       "font-family: var(--jp-code-font-family);\n",
       "font-size: var(--jp-code-font-size);\n",
       "line-height: var(--jp-code-line-height);\n",
       "\"><span style=\"color: var(--jp-warn-color2)\">lsst.daf.butler._butler</span> <span style=\"color: var(--jp-info-color0)\">INFO</span>: Transferring 3 datasets into Butler(collections=(), run=None, datastore=&#x27;file:///home/j/jarugula/DM-37690/transfer_embargo/tests/data/test_from/&#x27;, registry=&#x27;SQLite3@/home/j/jarugula/DM-37690/transfer_embargo/tests/data/test_from/gen3.sqlite3&#x27;)</pre>"
      ],
      "text/plain": [
       "<IPython.core.display.HTML object>"
      ]
     },
     "metadata": {},
     "output_type": "display_data"
    },
    {
     "data": {
      "text/html": [
       "<pre style=\"margin: 0.1em;\n",
       "padding-left: 0.25em;\n",
       "border-left-style: solid;\n",
       "font-family: var(--jp-code-font-family);\n",
       "font-size: var(--jp-code-font-size);\n",
       "line-height: var(--jp-code-line-height);\n",
       "\"><span style=\"color: var(--jp-warn-color2)\">lsst.daf.butler.datastores.fileDatastore</span> <span style=\"color: var(--jp-info-color0)\">INFO</span>: Skipped transfer of 3 datasets already present in datastore</pre>"
      ],
      "text/plain": [
       "<IPython.core.display.HTML object>"
      ]
     },
     "metadata": {},
     "output_type": "display_data"
    },
    {
     "data": {
      "text/plain": [
       "[DatasetRef(DatasetType('calexp', {band, instrument, detector, physical_filter, visit}, ExposureF), {instrument: 'LATISS', detector: 0, visit: 2022110800580, ...}, run='LATISS/runs/AUXTEL_DRP_IMAGING_2022-11A/w_2022_46/PREOPS-1616/20221111T182132Z', id=38721027-6eee-4dcf-a78c-f0a6b15f1611),\n",
       " DatasetRef(DatasetType('calexp', {band, instrument, detector, physical_filter, visit}, ExposureF), {instrument: 'LATISS', detector: 0, visit: 2022111000436, ...}, run='LATISS/runs/AUXTEL_DRP_IMAGING_2022-11A/w_2022_46/PREOPS-1616/20221111T182132Z', id=1b6977ab-fdab-4d5e-aa46-cda684ae9717),\n",
       " DatasetRef(DatasetType('calexp', {band, instrument, detector, physical_filter, visit}, ExposureF), {instrument: 'LATISS', detector: 0, visit: 2022110900673, ...}, run='LATISS/runs/AUXTEL_DRP_IMAGING_2022-11A/w_2022_46/PREOPS-1616/20221111T182132Z', id=18997382-c91c-4ec1-bb6b-24046f500de5)]"
      ]
     },
     "execution_count": 12,
     "metadata": {},
     "output_type": "execute_result"
    }
   ],
   "source": [
    "test_from_butler.transfer_from(butler, source_refs=datasetRefs, transfer='copy',\n",
    "                               skip_missing=True, register_dataset_types=True,\n",
    "                               transfer_dimensions=True)"
   ]
  },
  {
   "cell_type": "code",
   "execution_count": 13,
   "id": "ae8158bd-f592-4f49-bb58-df31eea5a95b",
   "metadata": {
    "execution": {
     "iopub.execute_input": "2023-11-09T21:55:30.925995Z",
     "iopub.status.busy": "2023-11-09T21:55:30.925663Z",
     "iopub.status.idle": "2023-11-09T21:55:30.928127Z",
     "shell.execute_reply": "2023-11-09T21:55:30.927778Z",
     "shell.execute_reply.started": "2023-11-09T21:55:30.925981Z"
    },
    "tags": []
   },
   "outputs": [],
   "source": [
    "#get chained collection\n",
    "collection_chain = registry.getCollectionChain(collections)"
   ]
  },
  {
   "cell_type": "code",
   "execution_count": 14,
   "id": "cb15ff5e-558e-41c5-98b5-26e5b4ee9699",
   "metadata": {
    "execution": {
     "iopub.execute_input": "2023-11-09T21:55:35.855557Z",
     "iopub.status.busy": "2023-11-09T21:55:35.855076Z",
     "iopub.status.idle": "2023-11-09T21:55:35.858391Z",
     "shell.execute_reply": "2023-11-09T21:55:35.858048Z",
     "shell.execute_reply.started": "2023-11-09T21:55:35.855543Z"
    },
    "tags": []
   },
   "outputs": [
    {
     "data": {
      "text/plain": [
       "('LATISS/runs/AUXTEL_DRP_IMAGING_2022-11A/w_2022_46/PREOPS-1616/20221111T182132Z',\n",
       " 'LATISS/raw/all',\n",
       " 'LATISS/calib/DM-36719/bias.20221107',\n",
       " 'LATISS/calib/DM-36719/dark.20221107',\n",
       " 'LATISS/calib/DM-36719/flat-SDSSi.20221107',\n",
       " 'LATISS/calib/DM-36719/flat-SDSSr.20221107',\n",
       " 'LATISS/calib/DM-36719/flat-SDSSg.20221107',\n",
       " 'LATISS/calib/DM-36484/bias.20221005a',\n",
       " 'LATISS/calib/DM-36484/dark.20221006a',\n",
       " 'LATISS/calib/DM-36484/flat-SDSSg.20221006a',\n",
       " 'LATISS/calib/DM-36484/flat-SDSSr.20221006a',\n",
       " 'LATISS/calib/DM-36484/flat-SDSSi.20221006a',\n",
       " 'u/czw/defects.20220608',\n",
       " 'LATISS/calib/DM-33875',\n",
       " 'u/czw/DM-28920/calib/bias.20210720',\n",
       " 'u/czw/DM-28920/calib/dark.20210720a',\n",
       " 'u/calib/DM-32209-20211013a-g',\n",
       " 'u/calib/DM-32209-20211013a-felh',\n",
       " 'u/czw/DM-28920/calib/flat.20210720',\n",
       " 'u/czw/DM-28920/calib/defect.20210720a',\n",
       " 'LATISS/calib/DM-28636',\n",
       " 'LATISS/calib/DM-28636/unbounded',\n",
       " 'refcats/DM-28636',\n",
       " 'refcats/DM-33444',\n",
       " 'skymaps')"
      ]
     },
     "execution_count": 14,
     "metadata": {},
     "output_type": "execute_result"
    }
   ],
   "source": [
    "collection_chain"
   ]
  },
  {
   "cell_type": "code",
   "execution_count": 53,
   "id": "84459598-c7eb-417d-b246-fc87da7ab7bf",
   "metadata": {
    "execution": {
     "iopub.execute_input": "2023-11-09T22:44:15.873533Z",
     "iopub.status.busy": "2023-11-09T22:44:15.873101Z",
     "iopub.status.idle": "2023-11-09T22:44:15.875880Z",
     "shell.execute_reply": "2023-11-09T22:44:15.875482Z",
     "shell.execute_reply.started": "2023-11-09T22:44:15.873519Z"
    },
    "tags": []
   },
   "outputs": [
    {
     "name": "stdout",
     "output_type": "stream",
     "text": [
      "LATISS/runs/AUXTEL_DRP_IMAGING_2022-11A/w_2022_46/PREOPS-1616/20221111T182132Z\n",
      "LATISS/raw/all\n",
      "LATISS/calib/DM-36719/bias.20221107\n",
      "LATISS/calib/DM-36719/dark.20221107\n",
      "LATISS/calib/DM-36719/flat-SDSSi.20221107\n",
      "LATISS/calib/DM-36719/flat-SDSSr.20221107\n",
      "LATISS/calib/DM-36719/flat-SDSSg.20221107\n",
      "LATISS/calib/DM-36484/bias.20221005a\n",
      "LATISS/calib/DM-36484/dark.20221006a\n",
      "LATISS/calib/DM-36484/flat-SDSSg.20221006a\n",
      "LATISS/calib/DM-36484/flat-SDSSr.20221006a\n",
      "LATISS/calib/DM-36484/flat-SDSSi.20221006a\n",
      "u/czw/defects.20220608\n",
      "LATISS/calib/DM-33875\n",
      "u/czw/DM-28920/calib/bias.20210720\n",
      "u/czw/DM-28920/calib/dark.20210720a\n",
      "u/calib/DM-32209-20211013a-g\n",
      "u/calib/DM-32209-20211013a-felh\n",
      "u/czw/DM-28920/calib/flat.20210720\n",
      "u/czw/DM-28920/calib/defect.20210720a\n",
      "LATISS/calib/DM-28636\n",
      "LATISS/calib/DM-28636/unbounded\n",
      "refcats/DM-28636\n",
      "refcats/DM-33444\n",
      "skymaps\n"
     ]
    }
   ],
   "source": [
    "for c in collection_chain:\n",
    "    print(c)"
   ]
  },
  {
   "cell_type": "code",
   "execution_count": 21,
   "id": "f85e7900-0f95-47bc-aa61-5eac912209d0",
   "metadata": {
    "execution": {
     "iopub.execute_input": "2023-11-09T22:10:19.757011Z",
     "iopub.status.busy": "2023-11-09T22:10:19.756695Z",
     "iopub.status.idle": "2023-11-09T22:10:19.759753Z",
     "shell.execute_reply": "2023-11-09T22:10:19.759476Z",
     "shell.execute_reply.started": "2023-11-09T22:10:19.756999Z"
    },
    "tags": []
   },
   "outputs": [
    {
     "data": {
      "text/plain": [
       "CollectionSummary(dataset_types=NamedValueSet({DatasetType('transformSourceTable_metadata', {band, instrument, detector, physical_filter, visit}, TaskMetadata), DatasetType('consolidateSourceTable_metadata', {band, instrument, physical_filter, visit}, TaskMetadata), DatasetType('isr_log', {band, instrument, detector, physical_filter, exposure}, ButlerLogRecords), DatasetType('isr_metadata', {band, instrument, detector, physical_filter, exposure}, TaskMetadata), DatasetType('sourceTable_visit', {band, instrument, physical_filter, visit}, DataFrame), DatasetType('transformSourceTable_log', {band, instrument, detector, physical_filter, visit}, ButlerLogRecords), DatasetType('characterizeImage_log', {band, instrument, detector, physical_filter, visit}, ButlerLogRecords), DatasetType('calibrate_log', {band, instrument, detector, physical_filter, visit}, ButlerLogRecords), DatasetType('icExp', {band, instrument, detector, physical_filter, visit}, ExposureF), DatasetType('src', {band, instrument, detector, physical_filter, visit}, SourceCatalog), DatasetType('writeSourceTable_metadata', {band, instrument, detector, physical_filter, visit}, TaskMetadata), DatasetType('srcMatchFull', {band, instrument, detector, physical_filter, visit}, Catalog), DatasetType('source', {band, instrument, detector, physical_filter, visit}, DataFrame), DatasetType('calibrate_metadata', {band, instrument, detector, physical_filter, visit}, TaskMetadata), DatasetType('srcMatch', {band, instrument, detector, physical_filter, visit}, Catalog), DatasetType('characterizeImage_metadata', {band, instrument, detector, physical_filter, visit}, TaskMetadata), DatasetType('postISRCCD', {band, instrument, detector, physical_filter, exposure}, Exposure), DatasetType('consolidateSourceTable_log', {band, instrument, physical_filter, visit}, ButlerLogRecords), DatasetType('sourceTable', {band, instrument, detector, physical_filter, visit}, DataFrame), DatasetType('calexp', {band, instrument, detector, physical_filter, visit}, ExposureF), DatasetType('writeSourceTable_log', {band, instrument, detector, physical_filter, visit}, ButlerLogRecords), DatasetType('icSrc', {band, instrument, detector, physical_filter, visit}, SourceCatalog), DatasetType('icExpBackground', {band, instrument, detector, physical_filter, visit}, Background), DatasetType('calexpBackground', {band, instrument, detector, physical_filter, visit}, Background), DatasetType('isr_config', {}, Config), DatasetType('icSrc_schema', {}, SourceCatalog), DatasetType('characterizeImage_config', {}, Config), DatasetType('transformSourceTable_config', {}, Config), DatasetType('calibrate_config', {}, Config), DatasetType('packages', {}, Packages), DatasetType('writeSourceTable_config', {}, Config), DatasetType('consolidateSourceTable_config', {}, Config), DatasetType('src_schema', {}, SourceCatalog), DatasetType('raw', {band, instrument, detector, physical_filter, exposure}, Exposure), DatasetType('bias', {instrument, detector}, ExposureF, isCalibration=True), DatasetType('dark', {instrument, detector}, ExposureF, isCalibration=True), DatasetType('flat', {band, instrument, detector, physical_filter}, ExposureF, isCalibration=True), DatasetType('defects', {instrument, detector}, Defects, isCalibration=True), DatasetType('camera', {instrument}, Camera, isCalibration=True), DatasetType('gaia_dr2_20200414', {htm7}, SimpleCatalog), DatasetType('atlas_refcat2_20220201', {htm7}, SimpleCatalog), DatasetType('skyMap', {skymap}, SkyMap)}), governors={'instrument': {'LATISS'}, 'skymap': {'latiss_v1', 'hsc_rings_v1', 'lsst_cells_v1'}})"
      ]
     },
     "execution_count": 21,
     "metadata": {},
     "output_type": "execute_result"
    }
   ],
   "source": [
    "registry.getCollectionSummary(collections)"
   ]
  },
  {
   "cell_type": "code",
   "execution_count": 24,
   "id": "8ec5b8a1-dc12-45c0-a0f6-23c5725d0ac1",
   "metadata": {
    "execution": {
     "iopub.execute_input": "2023-11-09T22:14:18.569786Z",
     "iopub.status.busy": "2023-11-09T22:14:18.569475Z",
     "iopub.status.idle": "2023-11-09T22:14:18.572475Z",
     "shell.execute_reply": "2023-11-09T22:14:18.572192Z",
     "shell.execute_reply.started": "2023-11-09T22:14:18.569771Z"
    },
    "tags": []
   },
   "outputs": [
    {
     "data": {
      "text/plain": [
       "CollectionSummary(dataset_types=NamedValueSet({DatasetType('calexp', {band, instrument, detector, physical_filter, visit}, ExposureF)}), governors={'instrument': {'LATISS'}})"
      ]
     },
     "execution_count": 24,
     "metadata": {},
     "output_type": "execute_result"
    }
   ],
   "source": [
    "test_from_butler_registry.getCollectionSummary('LATISS/runs/AUXTEL_DRP_IMAGING_2022-11A/w_2022_46/PREOPS-1616/20221111T182132Z')"
   ]
  },
  {
   "cell_type": "code",
   "execution_count": 54,
   "id": "cb3df440-0aed-4da2-86f5-4b5a765a7271",
   "metadata": {
    "execution": {
     "iopub.execute_input": "2023-11-09T22:44:43.451160Z",
     "iopub.status.busy": "2023-11-09T22:44:43.450642Z",
     "iopub.status.idle": "2023-11-09T22:44:43.548453Z",
     "shell.execute_reply": "2023-11-09T22:44:43.548058Z",
     "shell.execute_reply.started": "2023-11-09T22:44:43.451145Z"
    },
    "tags": []
   },
   "outputs": [],
   "source": [
    "# register all the collections from the chain\n",
    "for c in collection_chain:\n",
    "    test_from_butler_registry.registerCollection(c, CollectionType(3))"
   ]
  },
  {
   "cell_type": "code",
   "execution_count": 47,
   "id": "1cade7ad-814a-4eea-9a3d-33ef51e60d75",
   "metadata": {
    "execution": {
     "iopub.execute_input": "2023-11-09T22:39:04.174484Z",
     "iopub.status.busy": "2023-11-09T22:39:04.174306Z",
     "iopub.status.idle": "2023-11-09T22:39:04.176610Z",
     "shell.execute_reply": "2023-11-09T22:39:04.176270Z",
     "shell.execute_reply.started": "2023-11-09T22:39:04.174471Z"
    },
    "tags": []
   },
   "outputs": [],
   "source": [
    "# test_from_butler_registry.removeCollection('test_chained_collection')"
   ]
  },
  {
   "cell_type": "code",
   "execution_count": 55,
   "id": "9e723aec-490c-44f2-8dfd-9fc2bf7e723e",
   "metadata": {
    "execution": {
     "iopub.execute_input": "2023-11-09T22:44:47.141257Z",
     "iopub.status.busy": "2023-11-09T22:44:47.140749Z",
     "iopub.status.idle": "2023-11-09T22:44:47.143685Z",
     "shell.execute_reply": "2023-11-09T22:44:47.143335Z",
     "shell.execute_reply.started": "2023-11-09T22:44:47.141242Z"
    },
    "tags": []
   },
   "outputs": [
    {
     "name": "stdout",
     "output_type": "stream",
     "text": [
      "LATISS/calib/DM-28636\n",
      "LATISS/calib/DM-28636/unbounded\n",
      "LATISS/calib/DM-33875\n",
      "LATISS/calib/DM-36484/bias.20221005a\n",
      "LATISS/calib/DM-36484/dark.20221006a\n",
      "LATISS/calib/DM-36484/flat-SDSSg.20221006a\n",
      "LATISS/calib/DM-36484/flat-SDSSi.20221006a\n",
      "LATISS/calib/DM-36484/flat-SDSSr.20221006a\n",
      "LATISS/calib/DM-36719/bias.20221107\n",
      "LATISS/calib/DM-36719/dark.20221107\n",
      "LATISS/calib/DM-36719/flat-SDSSg.20221107\n",
      "LATISS/calib/DM-36719/flat-SDSSi.20221107\n",
      "LATISS/calib/DM-36719/flat-SDSSr.20221107\n",
      "LATISS/raw/all\n",
      "LATISS/runs/AUXTEL_DRP_IMAGING_2022-11A/w_2022_46/PREOPS-1616\n",
      "LATISS/runs/AUXTEL_DRP_IMAGING_2022-11A/w_2022_46/PREOPS-1616/20221111T182132Z\n",
      "refcats/DM-28636\n",
      "refcats/DM-33444\n",
      "skymaps\n",
      "u/calib/DM-32209-20211013a-felh\n",
      "u/calib/DM-32209-20211013a-g\n",
      "u/czw/DM-28920/calib/bias.20210720\n",
      "u/czw/DM-28920/calib/dark.20210720a\n",
      "u/czw/DM-28920/calib/defect.20210720a\n",
      "u/czw/DM-28920/calib/flat.20210720\n",
      "u/czw/defects.20220608\n"
     ]
    }
   ],
   "source": [
    "for c in sorted(test_from_butler_registry.queryCollections(datasetType='calexp')):\n",
    "    print(c)"
   ]
  },
  {
   "cell_type": "code",
   "execution_count": 56,
   "id": "cbe138ed-e558-414c-8a6e-b43e7206c7d1",
   "metadata": {
    "execution": {
     "iopub.execute_input": "2023-11-09T22:44:50.419127Z",
     "iopub.status.busy": "2023-11-09T22:44:50.418623Z",
     "iopub.status.idle": "2023-11-09T22:44:50.421930Z",
     "shell.execute_reply": "2023-11-09T22:44:50.421549Z",
     "shell.execute_reply.started": "2023-11-09T22:44:50.419113Z"
    },
    "tags": []
   },
   "outputs": [
    {
     "data": {
      "text/plain": [
       "()"
      ]
     },
     "execution_count": 56,
     "metadata": {},
     "output_type": "execute_result"
    }
   ],
   "source": [
    "test_from_butler_registry.getCollectionChain(collections)"
   ]
  },
  {
   "cell_type": "code",
   "execution_count": 57,
   "id": "c78b3d2f-8d7a-4442-a0e0-7bda404e4347",
   "metadata": {
    "execution": {
     "iopub.execute_input": "2023-11-09T22:44:53.206486Z",
     "iopub.status.busy": "2023-11-09T22:44:53.206306Z",
     "iopub.status.idle": "2023-11-09T22:44:53.215143Z",
     "shell.execute_reply": "2023-11-09T22:44:53.214794Z",
     "shell.execute_reply.started": "2023-11-09T22:44:53.206473Z"
    },
    "tags": []
   },
   "outputs": [],
   "source": [
    "# add chained collection to the destination butler\n",
    "test_from_butler_registry.setCollectionChain(parent=collections, children=collection_chain)"
   ]
  },
  {
   "cell_type": "code",
   "execution_count": 66,
   "id": "f67b7c78-737e-482f-a77a-3e71688a90e2",
   "metadata": {
    "execution": {
     "iopub.execute_input": "2023-11-09T22:47:01.152214Z",
     "iopub.status.busy": "2023-11-09T22:47:01.151900Z",
     "iopub.status.idle": "2023-11-09T22:47:01.154862Z",
     "shell.execute_reply": "2023-11-09T22:47:01.154551Z",
     "shell.execute_reply.started": "2023-11-09T22:47:01.152200Z"
    },
    "tags": []
   },
   "outputs": [
    {
     "data": {
      "text/plain": [
       "('LATISS/runs/AUXTEL_DRP_IMAGING_2022-11A/w_2022_46/PREOPS-1616/20221111T182132Z',\n",
       " 'LATISS/raw/all',\n",
       " 'LATISS/calib/DM-36719/bias.20221107',\n",
       " 'LATISS/calib/DM-36719/dark.20221107',\n",
       " 'LATISS/calib/DM-36719/flat-SDSSi.20221107',\n",
       " 'LATISS/calib/DM-36719/flat-SDSSr.20221107',\n",
       " 'LATISS/calib/DM-36719/flat-SDSSg.20221107',\n",
       " 'LATISS/calib/DM-36484/bias.20221005a',\n",
       " 'LATISS/calib/DM-36484/dark.20221006a',\n",
       " 'LATISS/calib/DM-36484/flat-SDSSg.20221006a',\n",
       " 'LATISS/calib/DM-36484/flat-SDSSr.20221006a',\n",
       " 'LATISS/calib/DM-36484/flat-SDSSi.20221006a',\n",
       " 'u/czw/defects.20220608',\n",
       " 'LATISS/calib/DM-33875',\n",
       " 'u/czw/DM-28920/calib/bias.20210720',\n",
       " 'u/czw/DM-28920/calib/dark.20210720a',\n",
       " 'u/calib/DM-32209-20211013a-g',\n",
       " 'u/calib/DM-32209-20211013a-felh',\n",
       " 'u/czw/DM-28920/calib/flat.20210720',\n",
       " 'u/czw/DM-28920/calib/defect.20210720a',\n",
       " 'LATISS/calib/DM-28636',\n",
       " 'LATISS/calib/DM-28636/unbounded',\n",
       " 'refcats/DM-28636',\n",
       " 'refcats/DM-33444',\n",
       " 'skymaps')"
      ]
     },
     "execution_count": 66,
     "metadata": {},
     "output_type": "execute_result"
    }
   ],
   "source": [
    "test_from_butler_registry.getCollectionChain(collections)"
   ]
  },
  {
   "cell_type": "code",
   "execution_count": 67,
   "id": "5eca7532-603f-411d-aa43-97a0a249fee8",
   "metadata": {
    "execution": {
     "iopub.execute_input": "2023-11-09T22:51:37.039386Z",
     "iopub.status.busy": "2023-11-09T22:51:37.039196Z",
     "iopub.status.idle": "2023-11-09T22:51:37.042222Z",
     "shell.execute_reply": "2023-11-09T22:51:37.041940Z",
     "shell.execute_reply.started": "2023-11-09T22:51:37.039373Z"
    },
    "tags": []
   },
   "outputs": [
    {
     "data": {
      "text/plain": [
       "CollectionSummary(dataset_types=NamedValueSet({DatasetType('calexp', {band, instrument, detector, physical_filter, visit}, ExposureF), DatasetType('raw', {band, instrument, detector, physical_filter, exposure}, Exposure)}), governors={'instrument': {'LATISS'}})"
      ]
     },
     "execution_count": 67,
     "metadata": {},
     "output_type": "execute_result"
    }
   ],
   "source": [
    "test_from_butler_registry.getCollectionSummary(collections)"
   ]
  },
  {
   "cell_type": "code",
   "execution_count": 58,
   "id": "2b20845a-83ba-461d-bdba-19a551d405fa",
   "metadata": {
    "execution": {
     "iopub.execute_input": "2023-11-09T22:44:58.661971Z",
     "iopub.status.busy": "2023-11-09T22:44:58.661605Z",
     "iopub.status.idle": "2023-11-09T22:44:58.671252Z",
     "shell.execute_reply": "2023-11-09T22:44:58.670945Z",
     "shell.execute_reply.started": "2023-11-09T22:44:58.661958Z"
    },
    "tags": []
   },
   "outputs": [
    {
     "name": "stdout",
     "output_type": "stream",
     "text": [
      "{band: 'i', instrument: 'LATISS', detector: 0, physical_filter: 'SDSSi_65mm~empty', visit: 2022110800580}\n",
      "{band: 'g', instrument: 'LATISS', detector: 0, physical_filter: 'SDSSg_65mm~empty', visit: 2022110900673}\n",
      "{band: 'i', instrument: 'LATISS', detector: 0, physical_filter: 'SDSSi_65mm~empty', visit: 2022111000436}\n"
     ]
    }
   ],
   "source": [
    "testrefs = test_from_butler_registry.queryDatasets(datasetType, dataId=dataId, collections=collections)\n",
    "for i, ref in enumerate(testrefs):\n",
    "    print(ref.dataId.full)"
   ]
  },
  {
   "cell_type": "code",
   "execution_count": 59,
   "id": "67fe9792-0802-4eae-b8fd-5e300d633dd5",
   "metadata": {
    "execution": {
     "iopub.execute_input": "2023-11-09T22:45:03.165389Z",
     "iopub.status.busy": "2023-11-09T22:45:03.165005Z",
     "iopub.status.idle": "2023-11-09T22:45:03.171274Z",
     "shell.execute_reply": "2023-11-09T22:45:03.170898Z",
     "shell.execute_reply.started": "2023-11-09T22:45:03.165373Z"
    },
    "tags": []
   },
   "outputs": [
    {
     "name": "stdout",
     "output_type": "stream",
     "text": [
      "{band: 'i', instrument: 'LATISS', detector: 0, physical_filter: 'SDSSi_65mm~empty', visit: 2022110800580}\n",
      "{band: 'g', instrument: 'LATISS', detector: 0, physical_filter: 'SDSSg_65mm~empty', visit: 2022110900673}\n",
      "{band: 'i', instrument: 'LATISS', detector: 0, physical_filter: 'SDSSi_65mm~empty', visit: 2022111000436}\n"
     ]
    }
   ],
   "source": [
    "testrefs = test_from_butler_registry.queryDatasets(datasetType, dataId=dataId, collections=...)\n",
    "for i, ref in enumerate(testrefs):\n",
    "    print(ref.dataId.full)"
   ]
  },
  {
   "cell_type": "code",
   "execution_count": 64,
   "id": "5e479fbf-d1d6-4871-ad52-29ead5a707c8",
   "metadata": {
    "execution": {
     "iopub.execute_input": "2023-11-09T22:45:28.989202Z",
     "iopub.status.busy": "2023-11-09T22:45:28.988775Z",
     "iopub.status.idle": "2023-11-09T22:45:28.997460Z",
     "shell.execute_reply": "2023-11-09T22:45:28.997103Z",
     "shell.execute_reply.started": "2023-11-09T22:45:28.989185Z"
    },
    "tags": []
   },
   "outputs": [
    {
     "name": "stdout",
     "output_type": "stream",
     "text": [
      "visit:\n",
      "  instrument: 'LATISS'\n",
      "  id: 2022110800580\n",
      "  physical_filter: 'SDSSi_65mm~empty'\n",
      "  name: 'AT_O_20221108_000580'\n",
      "  day_obs: 20221108\n",
      "  seq_num: 580\n",
      "  exposure_time: 30.0\n",
      "  target_name: 'SPT-CL-J0559-5249_063'\n",
      "  observation_reason: 'object'\n",
      "  science_program: 'AUXTEL_DRP_IMAGING'\n",
      "  azimuth: 139.27777238604904\n",
      "  zenith_angle: 36.25017562667199\n",
      "  region: ConvexPolygon([UnitVector3d(-0.0014031665810288064, 0.6073223384722833, -0.7944542833392637), UnitVector3d(-0.0035242917214096405, 0.6073137483105336, -0.7944542721144321), UnitVector3d(-0.003530996614655318, 0.6089710242215567, -0.7931846088531064), UnitVector3d(-0.0014098714605740878, 0.608979614297738, -0.7931846201435344)])\n",
      "  timespan: Timespan(begin=astropy.time.Time('2022-11-09 04:54:12.359010', scale='tai', format='iso'), end=astropy.time.Time('2022-11-09 04:54:42.592000', scale='tai', format='iso'))\n",
      "visit:\n",
      "  instrument: 'LATISS'\n",
      "  id: 2022110900673\n",
      "  physical_filter: 'SDSSg_65mm~empty'\n",
      "  name: 'AT_O_20221109_000673'\n",
      "  day_obs: 20221109\n",
      "  seq_num: 673\n",
      "  exposure_time: 30.0\n",
      "  target_name: 'SPT-CL-J0559-5249_060'\n",
      "  observation_reason: 'object'\n",
      "  science_program: 'AUXTEL_DRP_IMAGING'\n",
      "  azimuth: 141.8306801509607\n",
      "  zenith_angle: 33.19597506681748\n",
      "  region: ConvexPolygon([UnitVector3d(0.0035152383143990584, 0.6073148284693342, -0.7944534865055702), UnitVector3d(0.001394113166435736, 0.6073234167581535, -0.7944534749786681), UnitVector3d(0.001400830301217226, 0.6089806909534257, -0.7931838095425016), UnitVector3d(0.0035219554621876803, 0.6089721025789298, -0.7931838211350001)])\n",
      "  timespan: Timespan(begin=astropy.time.Time('2022-11-10 05:10:38.071990', scale='tai', format='iso'), end=astropy.time.Time('2022-11-10 05:11:08.315000', scale='tai', format='iso'))\n",
      "visit:\n",
      "  instrument: 'LATISS'\n",
      "  id: 2022111000436\n",
      "  physical_filter: 'SDSSi_65mm~empty'\n",
      "  name: 'AT_O_20221110_000436'\n",
      "  day_obs: 20221110\n",
      "  seq_num: 436\n",
      "  exposure_time: 30.0\n",
      "  target_name: 'SMC_002'\n",
      "  observation_reason: 'object'\n",
      "  science_program: 'AUXTEL_DRP_IMAGING'\n",
      "  azimuth: 188.51554461265914\n",
      "  zenith_angle: 44.13260185877152\n",
      "  region: ConvexPolygon([UnitVector3d(0.2823282694485467, 0.05902208493845825, -0.9575004656707516), UnitVector3d(0.2818862655161742, 0.061096663971940815, -0.9575005644723373), UnitVector3d(0.28384077341050895, 0.06151311461736977, -0.9568963120839136), UnitVector3d(0.2842827772446855, 0.059438535549310355, -0.9568962133135452)])\n",
      "  timespan: Timespan(begin=astropy.time.Time('2022-11-11 03:35:12.836981', scale='tai', format='iso'), end=astropy.time.Time('2022-11-11 03:35:43.067000', scale='tai', format='iso'))\n"
     ]
    }
   ],
   "source": [
    "# testrefs = test_from_butler_registry.queryDimensionRecords(\"exposure\",  dataId=dataId, datasets=datasetType,collections=...)\n",
    "testrefs = test_from_butler_registry.queryDimensionRecords(\"visit\",  dataId=dataId, datasets=datasetType,collections=collections)\n",
    "for i, ref in enumerate(testrefs):\n",
    "    print(ref)"
   ]
  },
  {
   "cell_type": "code",
   "execution_count": 65,
   "id": "39152695-7a6d-453b-8ae9-067283e485f0",
   "metadata": {
    "execution": {
     "iopub.execute_input": "2023-11-09T22:45:50.977617Z",
     "iopub.status.busy": "2023-11-09T22:45:50.977217Z",
     "iopub.status.idle": "2023-11-09T22:45:50.983460Z",
     "shell.execute_reply": "2023-11-09T22:45:50.983072Z",
     "shell.execute_reply.started": "2023-11-09T22:45:50.977602Z"
    }
   },
   "outputs": [],
   "source": [
    "testrefs = test_from_butler_registry.queryDimensionRecords(\"exposure\",  dataId=dataId, datasets=datasetType,collections=collections)\n",
    "for i, ref in enumerate(testrefs):\n",
    "    print(ref)"
   ]
  },
  {
   "cell_type": "code",
   "execution_count": 18,
   "id": "002e2510-7346-4972-afd8-f7b68c946c08",
   "metadata": {
    "execution": {
     "iopub.execute_input": "2023-10-24T13:35:12.405267Z",
     "iopub.status.busy": "2023-10-24T13:35:12.404996Z",
     "iopub.status.idle": "2023-10-24T13:35:12.411027Z",
     "shell.execute_reply": "2023-10-24T13:35:12.410669Z",
     "shell.execute_reply.started": "2023-10-24T13:35:12.405254Z"
    },
    "tags": []
   },
   "outputs": [],
   "source": [
    "outside_embargo = [\n",
    "            dt.id\n",
    "            for dt in test_from_butler_registry.queryDimensionRecords(\n",
    "                \"exposure\",\n",
    "                dataId=dataId,\n",
    "                datasets=datasetType,\n",
    "                # collections=collections_exposure,\n",
    "                collections=...,)]"
   ]
  },
  {
   "cell_type": "code",
   "execution_count": 19,
   "id": "49a11cfe-f6f8-4694-bc3d-528cfc56f038",
   "metadata": {
    "execution": {
     "iopub.execute_input": "2023-10-24T13:35:13.573587Z",
     "iopub.status.busy": "2023-10-24T13:35:13.573296Z",
     "iopub.status.idle": "2023-10-24T13:35:13.576925Z",
     "shell.execute_reply": "2023-10-24T13:35:13.576470Z",
     "shell.execute_reply.started": "2023-10-24T13:35:13.573573Z"
    },
    "tags": []
   },
   "outputs": [
    {
     "data": {
      "text/plain": [
       "[]"
      ]
     },
     "execution_count": 19,
     "metadata": {},
     "output_type": "execute_result"
    }
   ],
   "source": [
    "outside_embargo"
   ]
  },
  {
   "cell_type": "code",
   "execution_count": 20,
   "id": "df092cc8-e121-4b62-8769-e053b3dd6ba5",
   "metadata": {
    "execution": {
     "iopub.execute_input": "2023-10-18T22:17:37.851752Z",
     "iopub.status.busy": "2023-10-18T22:17:37.851483Z",
     "iopub.status.idle": "2023-10-18T22:17:37.870994Z",
     "shell.execute_reply": "2023-10-18T22:17:37.870663Z",
     "shell.execute_reply.started": "2023-10-18T22:17:37.851735Z"
    },
    "tags": []
   },
   "outputs": [],
   "source": [
    "outside_embargo = [\n",
    "            dt.id\n",
    "            for dt in test_from_butler_registry.queryDimensionRecords(\n",
    "                \"exposure\",\n",
    "                dataId=dataId,\n",
    "                datasets=datasetType,\n",
    "                # collections=collections_exposure,\n",
    "                collections=...,\n",
    "                where=\"NOT exposure.timespan OVERLAPS\\\n",
    "                                                        timespan_embargo\",\n",
    "                bind={\"timespan_embargo\": timespan_embargo},\n",
    "            )\n",
    "        ]"
   ]
  },
  {
   "cell_type": "code",
   "execution_count": 21,
   "id": "81fea114-ef51-4855-a4ce-e09c9c4265cc",
   "metadata": {
    "execution": {
     "iopub.execute_input": "2023-10-18T22:17:42.204524Z",
     "iopub.status.busy": "2023-10-18T22:17:42.204192Z",
     "iopub.status.idle": "2023-10-18T22:17:42.207086Z",
     "shell.execute_reply": "2023-10-18T22:17:42.206800Z",
     "shell.execute_reply.started": "2023-10-18T22:17:42.204511Z"
    },
    "tags": []
   },
   "outputs": [
    {
     "data": {
      "text/plain": [
       "[]"
      ]
     },
     "execution_count": 21,
     "metadata": {},
     "output_type": "execute_result"
    }
   ],
   "source": [
    "outside_embargo"
   ]
  },
  {
   "cell_type": "code",
   "execution_count": null,
   "id": "6270e6fb-0db0-4758-b998-6a1289af490e",
   "metadata": {},
   "outputs": [],
   "source": []
  }
 ],
 "metadata": {
  "kernelspec": {
   "display_name": "LSST",
   "language": "python",
   "name": "lsst"
  },
  "language_info": {
   "codemirror_mode": {
    "name": "ipython",
    "version": 3
   },
   "file_extension": ".py",
   "mimetype": "text/x-python",
   "name": "python",
   "nbconvert_exporter": "python",
   "pygments_lexer": "ipython3",
   "version": "3.11.4"
  }
 },
 "nbformat": 4,
 "nbformat_minor": 5
}
