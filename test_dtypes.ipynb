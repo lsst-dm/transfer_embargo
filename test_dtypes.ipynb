{
 "cells": [
  {
   "cell_type": "code",
   "execution_count": 1,
   "id": "11b73659-0460-4116-8ba8-275c76f49bcd",
   "metadata": {
    "execution": {
     "iopub.execute_input": "2023-10-13T17:42:50.096229Z",
     "iopub.status.busy": "2023-10-13T17:42:50.096109Z",
     "iopub.status.idle": "2023-10-13T17:42:50.568789Z",
     "shell.execute_reply": "2023-10-13T17:42:50.568322Z",
     "shell.execute_reply.started": "2023-10-13T17:42:50.096217Z"
    },
    "tags": []
   },
   "outputs": [],
   "source": [
    "import astropy.time\n",
    "from lsst.daf.butler import Butler, Timespan"
   ]
  },
  {
   "cell_type": "code",
   "execution_count": 2,
   "id": "f6c07dfc-c94a-45c8-9615-1547831d08ca",
   "metadata": {
    "execution": {
     "iopub.execute_input": "2023-10-13T17:42:50.569860Z",
     "iopub.status.busy": "2023-10-13T17:42:50.569729Z",
     "iopub.status.idle": "2023-10-13T17:42:53.007855Z",
     "shell.execute_reply": "2023-10-13T17:42:53.007331Z",
     "shell.execute_reply.started": "2023-10-13T17:42:50.569847Z"
    },
    "tags": []
   },
   "outputs": [],
   "source": [
    "butler = Butler('/repo/embargo')\n",
    "registry = butler.registry"
   ]
  },
  {
   "cell_type": "code",
   "execution_count": 3,
   "id": "5cd18f2b-fc22-4772-b6a1-0843b874cdfc",
   "metadata": {
    "execution": {
     "iopub.execute_input": "2023-10-13T17:42:53.008588Z",
     "iopub.status.busy": "2023-10-13T17:42:53.008453Z",
     "iopub.status.idle": "2023-10-13T17:42:53.086090Z",
     "shell.execute_reply": "2023-10-13T17:42:53.085663Z",
     "shell.execute_reply.started": "2023-10-13T17:42:53.008576Z"
    },
    "tags": []
   },
   "outputs": [],
   "source": [
    "scratch_butler = Butler('/home/j/jarugula/scratch', writeable=True)\n",
    "scratch_registry = scratch_butler.registry"
   ]
  },
  {
   "cell_type": "code",
   "execution_count": 4,
   "id": "e71008a4-c7a9-4e23-be09-5b72360313fe",
   "metadata": {
    "execution": {
     "iopub.execute_input": "2023-10-13T17:42:53.086764Z",
     "iopub.status.busy": "2023-10-13T17:42:53.086639Z",
     "iopub.status.idle": "2023-10-13T17:42:53.088973Z",
     "shell.execute_reply": "2023-10-13T17:42:53.088632Z",
     "shell.execute_reply.started": "2023-10-13T17:42:53.086751Z"
    },
    "tags": []
   },
   "outputs": [],
   "source": [
    "datasetType = ['raw', 'goodSeeingCoadd', 'calexp']\n",
    "collections = ['LATISS/raw/all/', 'LATISS/runs/AUXTEL_DRP_IMAGING_2023-08ABC-07AB-05AB/w_2023_35/PREOPS-3726/20230912T151732Z', \n",
    "               'LATISS/runs/AUXTEL_DRP_IMAGING_2022-11A/w_2022_46/PREOPS-1616']\n",
    "dataId = {'band':'i'}"
   ]
  },
  {
   "cell_type": "markdown",
   "id": "87784db5-fdb8-4325-9d1d-a0561ed257cd",
   "metadata": {},
   "source": [
    "## run queryDatasetTypes with a list of datasettypes as input"
   ]
  },
  {
   "cell_type": "code",
   "execution_count": 5,
   "id": "41833a94-ca98-44e8-866d-b4f0ab7de265",
   "metadata": {
    "execution": {
     "iopub.execute_input": "2023-10-13T17:42:53.089596Z",
     "iopub.status.busy": "2023-10-13T17:42:53.089479Z",
     "iopub.status.idle": "2023-10-13T17:42:53.092459Z",
     "shell.execute_reply": "2023-10-13T17:42:53.092113Z",
     "shell.execute_reply.started": "2023-10-13T17:42:53.089585Z"
    },
    "tags": []
   },
   "outputs": [],
   "source": [
    "dataset_dims = registry.queryDatasetTypes(datasetType)"
   ]
  },
  {
   "cell_type": "code",
   "execution_count": 6,
   "id": "7b9859eb-daae-4378-b2d4-dbe112f59a27",
   "metadata": {
    "execution": {
     "iopub.execute_input": "2023-10-13T17:42:53.093112Z",
     "iopub.status.busy": "2023-10-13T17:42:53.092991Z",
     "iopub.status.idle": "2023-10-13T17:42:53.097709Z",
     "shell.execute_reply": "2023-10-13T17:42:53.097360Z",
     "shell.execute_reply.started": "2023-10-13T17:42:53.093100Z"
    },
    "tags": []
   },
   "outputs": [
    {
     "data": {
      "text/plain": [
       "[DatasetType('raw', {band, instrument, detector, physical_filter, exposure}, Exposure),\n",
       " DatasetType('goodSeeingCoadd', {band, skymap, tract, patch}, ExposureF),\n",
       " DatasetType('calexp', {band, instrument, detector, physical_filter, visit}, ExposureF)]"
      ]
     },
     "execution_count": 6,
     "metadata": {},
     "output_type": "execute_result"
    }
   ],
   "source": [
    "dataset_dims"
   ]
  },
  {
   "cell_type": "code",
   "execution_count": 7,
   "id": "8b35ffce-2ca7-4116-934b-33fd40e41b32",
   "metadata": {
    "execution": {
     "iopub.execute_input": "2023-10-13T17:42:53.113046Z",
     "iopub.status.busy": "2023-10-13T17:42:53.112939Z",
     "iopub.status.idle": "2023-10-13T17:42:53.115425Z",
     "shell.execute_reply": "2023-10-13T17:42:53.115043Z",
     "shell.execute_reply.started": "2023-10-13T17:42:53.113037Z"
    },
    "tags": []
   },
   "outputs": [
    {
     "name": "stdout",
     "output_type": "stream",
     "text": [
      "{band, instrument, detector, physical_filter, exposure}\n",
      "{band, skymap, tract, patch}\n"
     ]
    }
   ],
   "source": [
    "print(dataset_dims[0].dimensions)\n",
    "print(dataset_dims[1].dimensions)"
   ]
  },
  {
   "cell_type": "code",
   "execution_count": 8,
   "id": "f243850d-eaa6-41b8-b54f-a3a7c714c3e9",
   "metadata": {
    "execution": {
     "iopub.execute_input": "2023-10-13T17:42:53.191590Z",
     "iopub.status.busy": "2023-10-13T17:42:53.191465Z",
     "iopub.status.idle": "2023-10-13T17:42:53.194530Z",
     "shell.execute_reply": "2023-10-13T17:42:53.194151Z",
     "shell.execute_reply.started": "2023-10-13T17:42:53.191577Z"
    },
    "tags": []
   },
   "outputs": [],
   "source": [
    "dtype_exposure = []\n",
    "dtype_ingest = []\n",
    "for dtype in datasetType:\n",
    "    if any(\n",
    "        dim in [\"exposure\", \"visit\"]\n",
    "        for dim in [\n",
    "            d.name for d in registry.queryDatasetTypes(dtype)[0].dimensions\n",
    "        ]\n",
    "    ):\n",
    "        dtype_exposure.append(dtype)\n",
    "    else:\n",
    "        dtype_ingest.append(dtype)"
   ]
  },
  {
   "cell_type": "code",
   "execution_count": 9,
   "id": "e98508a8-098c-4bd9-8e61-ef4d985186b8",
   "metadata": {
    "execution": {
     "iopub.execute_input": "2023-10-13T17:42:54.016431Z",
     "iopub.status.busy": "2023-10-13T17:42:54.016260Z",
     "iopub.status.idle": "2023-10-13T17:42:54.019372Z",
     "shell.execute_reply": "2023-10-13T17:42:54.018994Z",
     "shell.execute_reply.started": "2023-10-13T17:42:54.016417Z"
    },
    "tags": []
   },
   "outputs": [
    {
     "data": {
      "text/plain": [
       "['raw', 'calexp']"
      ]
     },
     "execution_count": 9,
     "metadata": {},
     "output_type": "execute_result"
    }
   ],
   "source": [
    "dtype_exposure"
   ]
  },
  {
   "cell_type": "code",
   "execution_count": 10,
   "id": "37436265-aa31-4be2-906d-8535c3c4173c",
   "metadata": {
    "execution": {
     "iopub.execute_input": "2023-10-13T17:42:54.546868Z",
     "iopub.status.busy": "2023-10-13T17:42:54.546630Z",
     "iopub.status.idle": "2023-10-13T17:42:54.549766Z",
     "shell.execute_reply": "2023-10-13T17:42:54.549435Z",
     "shell.execute_reply.started": "2023-10-13T17:42:54.546848Z"
    },
    "tags": []
   },
   "outputs": [
    {
     "data": {
      "text/plain": [
       "['goodSeeingCoadd']"
      ]
     },
     "execution_count": 10,
     "metadata": {},
     "output_type": "execute_result"
    }
   ],
   "source": [
    "dtype_ingest"
   ]
  },
  {
   "cell_type": "code",
   "execution_count": null,
   "id": "c50ea8fc-5584-493b-bf14-0ee7f565f913",
   "metadata": {},
   "outputs": [],
   "source": []
  },
  {
   "cell_type": "code",
   "execution_count": null,
   "id": "14b3200f-3969-4a0f-9cac-78985a509ba1",
   "metadata": {},
   "outputs": [],
   "source": [
    "if any(\n",
    "        dim in [\"exposure\", \"visit\"]\n",
    "        for dim in [\n",
    "            d.name for d in registry.queryDatasetTypes(datasetType)[0].dimensions\n",
    "        ]\n",
    "    ):\n",
    "        outside_embargo = [\n",
    "            dt.id\n",
    "            for dt in registry.queryDimensionRecords(\n",
    "                \"exposure\",\n",
    "                dataId=dataId,\n",
    "                datasets=datasetType,\n",
    "                collections=collections,\n",
    "                where=\"NOT exposure.timespan OVERLAPS\\\n",
    "                                                        timespan_embargo\",\n",
    "                bind={\"timespan_embargo\": timespan_embargo},\n",
    "            )\n",
    "        ]"
   ]
  },
  {
   "cell_type": "code",
   "execution_count": null,
   "id": "df6839ac-1275-4afa-9156-782f7cfa496d",
   "metadata": {},
   "outputs": [],
   "source": []
  },
  {
   "cell_type": "code",
   "execution_count": null,
   "id": "aee96a52-b4b4-4ad9-9297-247d191d37b6",
   "metadata": {},
   "outputs": [],
   "source": []
  },
  {
   "cell_type": "code",
   "execution_count": null,
   "id": "b49efced-a2d8-4554-bc3d-fa8c666a86fe",
   "metadata": {},
   "outputs": [],
   "source": []
  },
  {
   "cell_type": "code",
   "execution_count": 67,
   "id": "197ace89-dca9-4b07-9935-bb88f1a7b847",
   "metadata": {
    "execution": {
     "iopub.execute_input": "2023-09-28T19:41:09.373348Z",
     "iopub.status.busy": "2023-09-28T19:41:09.373078Z",
     "iopub.status.idle": "2023-09-28T19:41:09.377036Z",
     "shell.execute_reply": "2023-09-28T19:41:09.376661Z",
     "shell.execute_reply.started": "2023-09-28T19:41:09.373334Z"
    },
    "tags": []
   },
   "outputs": [],
   "source": [
    "now = astropy.time.Time.now().tai\n",
    "embargo_hours = 1000.0\n",
    "embargo_period = astropy.time.TimeDelta(\n",
    "        embargo_hours * 3600.0, format=\"sec\"\n",
    "    )\n",
    "timespan_embargo = Timespan(now - embargo_period, None)\n",
    "# timespan_embargo = Timespan(now - embargo_period, now)"
   ]
  },
  {
   "cell_type": "code",
   "execution_count": 66,
   "id": "043011f2-2fd8-4ede-9f43-4ff856922de3",
   "metadata": {
    "execution": {
     "iopub.execute_input": "2023-09-28T19:41:03.599441Z",
     "iopub.status.busy": "2023-09-28T19:41:03.599268Z",
     "iopub.status.idle": "2023-09-28T19:41:03.602411Z",
     "shell.execute_reply": "2023-09-28T19:41:03.602089Z",
     "shell.execute_reply.started": "2023-09-28T19:41:03.599428Z"
    },
    "tags": []
   },
   "outputs": [
    {
     "data": {
      "text/plain": [
       "<Time object: scale='tai' format='datetime' value=2023-09-28 19:41:39.378966>"
      ]
     },
     "execution_count": 66,
     "metadata": {},
     "output_type": "execute_result"
    }
   ],
   "source": [
    "now"
   ]
  },
  {
   "cell_type": "code",
   "execution_count": 7,
   "id": "611b4873-322b-4708-9e43-55506c4fa721",
   "metadata": {
    "execution": {
     "iopub.execute_input": "2023-09-28T18:45:49.086691Z",
     "iopub.status.busy": "2023-09-28T18:45:49.086566Z",
     "iopub.status.idle": "2023-09-28T18:45:49.090079Z",
     "shell.execute_reply": "2023-09-28T18:45:49.089730Z",
     "shell.execute_reply.started": "2023-09-28T18:45:49.086681Z"
    },
    "tags": []
   },
   "outputs": [
    {
     "data": {
      "text/plain": [
       "Timespan(begin=astropy.time.Time('2023-08-18 02:46:26.072299', scale='tai', format='iso'), end=astropy.time.Time('2023-09-28 18:46:26.072299', scale='tai', format='iso'))"
      ]
     },
     "execution_count": 7,
     "metadata": {},
     "output_type": "execute_result"
    }
   ],
   "source": [
    "timespan_embargo"
   ]
  },
  {
   "cell_type": "code",
   "execution_count": 8,
   "id": "c06aaf3e-8eaf-43d8-ac27-2596168bbe6c",
   "metadata": {
    "execution": {
     "iopub.execute_input": "2023-09-28T18:45:49.091551Z",
     "iopub.status.busy": "2023-09-28T18:45:49.091434Z",
     "iopub.status.idle": "2023-09-28T18:45:49.095025Z",
     "shell.execute_reply": "2023-09-28T18:45:49.094671Z",
     "shell.execute_reply.started": "2023-09-28T18:45:49.091540Z"
    },
    "tags": []
   },
   "outputs": [
    {
     "data": {
      "text/plain": [
       "<Time object: scale='tai' format='iso' value=2023-08-18 02:46:26.072299>"
      ]
     },
     "execution_count": 8,
     "metadata": {},
     "output_type": "execute_result"
    }
   ],
   "source": [
    "timespan_embargo.begin"
   ]
  },
  {
   "cell_type": "code",
   "execution_count": 9,
   "id": "dc2be694-6022-422a-812b-a094d43806fd",
   "metadata": {
    "execution": {
     "iopub.execute_input": "2023-09-28T18:45:49.095594Z",
     "iopub.status.busy": "2023-09-28T18:45:49.095482Z",
     "iopub.status.idle": "2023-09-28T18:45:49.128558Z",
     "shell.execute_reply": "2023-09-28T18:45:49.128049Z",
     "shell.execute_reply.started": "2023-09-28T18:45:49.095584Z"
    },
    "tags": []
   },
   "outputs": [
    {
     "name": "stdout",
     "output_type": "stream",
     "text": [
      "63c693ec-271f-41c6-bb7c-4facdd0751de\n",
      "f4c285f6-7a5b-42a8-b5ef-9f31a420cb49\n",
      "15c3e38c-7778-4ca8-9d45-881899e63af8\n",
      "04e758f1-4b36-4093-ac1d-ee73fc967bbe\n",
      "13056557-0010-4e69-9c66-ba62298b2cf8\n",
      "1c0bad05-ed9a-4169-8055-7e4616dff5bd\n",
      "3fa58bf1-0653-4ddc-bcd4-e1f84df6b1df\n",
      "74f4fd11-855d-47c6-b087-dd1188b881b4\n",
      "fd60c3f0-aefa-4810-981b-02231679dfb2\n",
      "50ee54df-da7a-44fa-8941-46942de8b8a3\n",
      "3a990fbd-27b3-476c-af59-88f2ff78c59f\n",
      "c3c3f2a1-b470-4105-b0fe-111e252fd8ca\n"
     ]
    }
   ],
   "source": [
    "for i, dt in enumerate(registry.queryDatasets(datasetType=datasetType, collections=collections, \n",
    "                                                      where=\"ingest_date < T'2023-09-28 18:26:02.626054'\",\n",
    "                                                     )):\n",
    "    print(dt.id)\n",
    "    if i > 10:\n",
    "        break"
   ]
  },
  {
   "cell_type": "code",
   "execution_count": 10,
   "id": "f336c081-f42f-42cd-ba87-70811bbccc45",
   "metadata": {
    "execution": {
     "iopub.execute_input": "2023-09-28T18:45:49.129290Z",
     "iopub.status.busy": "2023-09-28T18:45:49.129165Z",
     "iopub.status.idle": "2023-09-28T18:45:49.149475Z",
     "shell.execute_reply": "2023-09-28T18:45:49.149041Z",
     "shell.execute_reply.started": "2023-09-28T18:45:49.129278Z"
    },
    "tags": []
   },
   "outputs": [
    {
     "name": "stdout",
     "output_type": "stream",
     "text": [
      "63c693ec-271f-41c6-bb7c-4facdd0751de\n",
      "f4c285f6-7a5b-42a8-b5ef-9f31a420cb49\n",
      "15c3e38c-7778-4ca8-9d45-881899e63af8\n",
      "04e758f1-4b36-4093-ac1d-ee73fc967bbe\n",
      "13056557-0010-4e69-9c66-ba62298b2cf8\n",
      "1c0bad05-ed9a-4169-8055-7e4616dff5bd\n",
      "3fa58bf1-0653-4ddc-bcd4-e1f84df6b1df\n",
      "74f4fd11-855d-47c6-b087-dd1188b881b4\n",
      "fd60c3f0-aefa-4810-981b-02231679dfb2\n",
      "50ee54df-da7a-44fa-8941-46942de8b8a3\n",
      "3a990fbd-27b3-476c-af59-88f2ff78c59f\n",
      "c3c3f2a1-b470-4105-b0fe-111e252fd8ca\n"
     ]
    }
   ],
   "source": [
    "for i, dt in enumerate(registry.queryDatasets(datasetType=datasetType, collections=collections, \n",
    "                                                      where=\"ingest_date < T'2023-09-28 18:26:02.626054' AND ingest_date > T'2023-08-18 02:45:53.173467'\",\n",
    "                                                     )):\n",
    "    print(dt.id)\n",
    "    if i > 10:\n",
    "        break"
   ]
  },
  {
   "cell_type": "code",
   "execution_count": 68,
   "id": "46b2f3b9-d250-4b41-bda1-a273ea725807",
   "metadata": {
    "execution": {
     "iopub.execute_input": "2023-09-28T19:41:48.781892Z",
     "iopub.status.busy": "2023-09-28T19:41:48.781623Z",
     "iopub.status.idle": "2023-09-28T19:41:48.785163Z",
     "shell.execute_reply": "2023-09-28T19:41:48.784810Z",
     "shell.execute_reply.started": "2023-09-28T19:41:48.781879Z"
    },
    "tags": []
   },
   "outputs": [
    {
     "data": {
      "text/plain": [
       "Timespan(begin=astropy.time.Time('2023-08-18 03:41:46.374257', scale='tai', format='iso'), end=None)"
      ]
     },
     "execution_count": 68,
     "metadata": {},
     "output_type": "execute_result"
    }
   ],
   "source": [
    "timespan_embargo"
   ]
  },
  {
   "cell_type": "code",
   "execution_count": 70,
   "id": "4c06c65a-5337-458a-889d-9568c73fc65b",
   "metadata": {
    "execution": {
     "iopub.execute_input": "2023-09-28T19:42:42.577482Z",
     "iopub.status.busy": "2023-09-28T19:42:42.577299Z",
     "iopub.status.idle": "2023-09-28T19:42:42.600850Z",
     "shell.execute_reply": "2023-09-28T19:42:42.600463Z",
     "shell.execute_reply.started": "2023-09-28T19:42:42.577470Z"
    },
    "tags": []
   },
   "outputs": [],
   "source": [
    "for i, dt in enumerate(registry.queryDatasets(datasetType=datasetType, collections=collections, \n",
    "                                                      where=\"ingest_date < timespan_embargo_begin\",\n",
    "                                                     bind={\"timespan_embargo_begin\": timespan_embargo.begin},\n",
    "                                             )):\n",
    "    print(dt)\n",
    "    if i > 10:\n",
    "        break"
   ]
  },
  {
   "cell_type": "code",
   "execution_count": 13,
   "id": "60110a4e-08fe-4360-aed7-24d377944fae",
   "metadata": {
    "execution": {
     "iopub.execute_input": "2023-09-28T18:48:26.639813Z",
     "iopub.status.busy": "2023-09-28T18:48:26.639386Z",
     "iopub.status.idle": "2023-09-28T18:48:26.660775Z",
     "shell.execute_reply": "2023-09-28T18:48:26.660411Z",
     "shell.execute_reply.started": "2023-09-28T18:48:26.639799Z"
    },
    "tags": []
   },
   "outputs": [
    {
     "name": "stdout",
     "output_type": "stream",
     "text": [
      "goodSeeingCoadd@{band: 'r', skymap: 'latiss_v1', tract: 8188, patch: 66} [sc=ExposureF] (run=LATISS/runs/AUXTEL_DRP_IMAGING_2023-08ABC-07AB-05AB/w_2023_35/PREOPS-3726/20230912T151732Z id=63c693ec-271f-41c6-bb7c-4facdd0751de)\n",
      "goodSeeingCoadd@{band: 'i', skymap: 'latiss_v1', tract: 8188, patch: 41} [sc=ExposureF] (run=LATISS/runs/AUXTEL_DRP_IMAGING_2023-08ABC-07AB-05AB/w_2023_35/PREOPS-3726/20230912T151732Z id=f4c285f6-7a5b-42a8-b5ef-9f31a420cb49)\n",
      "goodSeeingCoadd@{band: 'g', skymap: 'latiss_v1', tract: 5839, patch: 8} [sc=ExposureF] (run=LATISS/runs/AUXTEL_DRP_IMAGING_2023-08ABC-07AB-05AB/w_2023_35/PREOPS-3726/20230912T151732Z id=15c3e38c-7778-4ca8-9d45-881899e63af8)\n",
      "goodSeeingCoadd@{band: 'i', skymap: 'latiss_v1', tract: 8188, patch: 58} [sc=ExposureF] (run=LATISS/runs/AUXTEL_DRP_IMAGING_2023-08ABC-07AB-05AB/w_2023_35/PREOPS-3726/20230912T151732Z id=04e758f1-4b36-4093-ac1d-ee73fc967bbe)\n",
      "goodSeeingCoadd@{band: 'r', skymap: 'latiss_v1', tract: 5616, patch: 355} [sc=ExposureF] (run=LATISS/runs/AUXTEL_DRP_IMAGING_2023-08ABC-07AB-05AB/w_2023_35/PREOPS-3726/20230912T151732Z id=13056557-0010-4e69-9c66-ba62298b2cf8)\n",
      "goodSeeingCoadd@{band: 'g', skymap: 'latiss_v1', tract: 10643, patch: 190} [sc=ExposureF] (run=LATISS/runs/AUXTEL_DRP_IMAGING_2023-08ABC-07AB-05AB/w_2023_35/PREOPS-3726/20230912T151732Z id=1c0bad05-ed9a-4169-8055-7e4616dff5bd)\n",
      "goodSeeingCoadd@{band: 'i', skymap: 'latiss_v1', tract: 5616, patch: 315} [sc=ExposureF] (run=LATISS/runs/AUXTEL_DRP_IMAGING_2023-08ABC-07AB-05AB/w_2023_35/PREOPS-3726/20230912T151732Z id=3fa58bf1-0653-4ddc-bcd4-e1f84df6b1df)\n",
      "goodSeeingCoadd@{band: 'r', skymap: 'latiss_v1', tract: 8188, patch: 58} [sc=ExposureF] (run=LATISS/runs/AUXTEL_DRP_IMAGING_2023-08ABC-07AB-05AB/w_2023_35/PREOPS-3726/20230912T151732Z id=74f4fd11-855d-47c6-b087-dd1188b881b4)\n",
      "goodSeeingCoadd@{band: 'g', skymap: 'latiss_v1', tract: 8188, patch: 64} [sc=ExposureF] (run=LATISS/runs/AUXTEL_DRP_IMAGING_2023-08ABC-07AB-05AB/w_2023_35/PREOPS-3726/20230912T151732Z id=fd60c3f0-aefa-4810-981b-02231679dfb2)\n",
      "goodSeeingCoadd@{band: 'r', skymap: 'latiss_v1', tract: 10644, patch: 161} [sc=ExposureF] (run=LATISS/runs/AUXTEL_DRP_IMAGING_2023-08ABC-07AB-05AB/w_2023_35/PREOPS-3726/20230912T151732Z id=50ee54df-da7a-44fa-8941-46942de8b8a3)\n",
      "goodSeeingCoadd@{band: 'i', skymap: 'latiss_v1', tract: 5614, patch: 212} [sc=ExposureF] (run=LATISS/runs/AUXTEL_DRP_IMAGING_2023-08ABC-07AB-05AB/w_2023_35/PREOPS-3726/20230912T151732Z id=3a990fbd-27b3-476c-af59-88f2ff78c59f)\n",
      "goodSeeingCoadd@{band: 'r', skymap: 'latiss_v1', tract: 5614, patch: 250} [sc=ExposureF] (run=LATISS/runs/AUXTEL_DRP_IMAGING_2023-08ABC-07AB-05AB/w_2023_35/PREOPS-3726/20230912T151732Z id=c3c3f2a1-b470-4105-b0fe-111e252fd8ca)\n"
     ]
    }
   ],
   "source": [
    "for i, dt in enumerate(registry.queryDatasets(datasetType=datasetType, collections=collections, \n",
    "                                                      where=\"ingest_date < timespan_embargo_end AND ingest_date > timespan_embargo_begin\",\n",
    "                                                     bind={\"timespan_embargo_begin\": timespan_embargo.begin, \"timespan_embargo_end\": timespan_embargo.end},\n",
    "                                             )):\n",
    "    print(dt)\n",
    "    if i > 10:\n",
    "        break"
   ]
  },
  {
   "cell_type": "code",
   "execution_count": null,
   "id": "176e2c37-87b3-47bd-836a-f6ae6518539b",
   "metadata": {},
   "outputs": [],
   "source": [
    "now = astropy.time.Time.now().tai\n",
    "embargo_hours = 1000.0\n",
    "embargo_period = astropy.time.TimeDelta(\n",
    "        embargo_hours * 3600.0, format=\"sec\"\n",
    "    )\n",
    "timespan_embargo = Timespan(now - embargo_period, None)\n",
    "# timespan_embargo = Timespan(now - embargo_period, now)"
   ]
  },
  {
   "cell_type": "code",
   "execution_count": 12,
   "id": "8aa25c4c-35e6-4313-b142-1112b6ab3561",
   "metadata": {
    "execution": {
     "iopub.execute_input": "2023-09-28T18:46:12.599585Z",
     "iopub.status.busy": "2023-09-28T18:46:12.599029Z",
     "iopub.status.idle": "2023-09-28T18:46:12.620198Z",
     "shell.execute_reply": "2023-09-28T18:46:12.619822Z",
     "shell.execute_reply.started": "2023-09-28T18:46:12.599570Z"
    },
    "tags": []
   },
   "outputs": [
    {
     "name": "stdout",
     "output_type": "stream",
     "text": [
      "63c693ec-271f-41c6-bb7c-4facdd0751de\n",
      "f4c285f6-7a5b-42a8-b5ef-9f31a420cb49\n",
      "15c3e38c-7778-4ca8-9d45-881899e63af8\n",
      "04e758f1-4b36-4093-ac1d-ee73fc967bbe\n",
      "13056557-0010-4e69-9c66-ba62298b2cf8\n",
      "1c0bad05-ed9a-4169-8055-7e4616dff5bd\n",
      "3fa58bf1-0653-4ddc-bcd4-e1f84df6b1df\n",
      "74f4fd11-855d-47c6-b087-dd1188b881b4\n",
      "fd60c3f0-aefa-4810-981b-02231679dfb2\n",
      "50ee54df-da7a-44fa-8941-46942de8b8a3\n",
      "3a990fbd-27b3-476c-af59-88f2ff78c59f\n",
      "c3c3f2a1-b470-4105-b0fe-111e252fd8ca\n"
     ]
    }
   ],
   "source": [
    "for i, dt in enumerate(registry.queryDatasets(datasetType=datasetType, collections=collections, \n",
    "                                                      where=\"ingest_date < timespan_embargo_end AND ingest_date > timespan_embargo_begin\",\n",
    "                                                     bind={\"timespan_embargo_begin\": timespan_embargo.begin, \"timespan_embargo_end\": timespan_embargo.end},\n",
    "                                             )):\n",
    "    print(dt.id)\n",
    "    if i > 10:\n",
    "        break"
   ]
  },
  {
   "cell_type": "code",
   "execution_count": 40,
   "id": "9be0d3d3-394c-4b73-b237-8744dec108d3",
   "metadata": {
    "execution": {
     "iopub.execute_input": "2023-09-28T19:20:56.142102Z",
     "iopub.status.busy": "2023-09-28T19:20:56.141616Z",
     "iopub.status.idle": "2023-09-28T19:20:56.144116Z",
     "shell.execute_reply": "2023-09-28T19:20:56.143747Z",
     "shell.execute_reply.started": "2023-09-28T19:20:56.142088Z"
    },
    "tags": []
   },
   "outputs": [],
   "source": [
    "# for dt in registry.queryDimensionRecords(\"exposure\",datasets=datasetType,collections=collections,\n",
    "#             where=\"exposure.timespan OVERLAPS timespan_embargo\",\n",
    "#             bind={\"timespan_embargo\": timespan_embargo},\n",
    "#         ):\n",
    "#     print(dt.id)\n",
    "#     if i > 10:\n",
    "#         break"
   ]
  },
  {
   "cell_type": "markdown",
   "id": "0d137743-15a6-464e-9dc0-9e3941145d4e",
   "metadata": {},
   "source": [
    "## check if exposure and vist dimension exist"
   ]
  },
  {
   "cell_type": "code",
   "execution_count": 41,
   "id": "5326a27d-8ef5-4731-a56b-e53e27572eea",
   "metadata": {
    "execution": {
     "iopub.execute_input": "2023-09-28T19:20:57.977941Z",
     "iopub.status.busy": "2023-09-28T19:20:57.977386Z",
     "iopub.status.idle": "2023-09-28T19:20:57.979931Z",
     "shell.execute_reply": "2023-09-28T19:20:57.979579Z",
     "shell.execute_reply.started": "2023-09-28T19:20:57.977926Z"
    },
    "tags": []
   },
   "outputs": [],
   "source": [
    "datasetType = 'goodSeeingCoadd'\n",
    "collections = 'LATISS/runs/AUXTEL_DRP_IMAGING_2023-08ABC-07AB-05AB/w_2023_35/PREOPS-3726/20230912T151732Z'"
   ]
  },
  {
   "cell_type": "code",
   "execution_count": 42,
   "id": "29a8734f-8a2b-49d9-a892-7ab0759b34d7",
   "metadata": {
    "execution": {
     "iopub.execute_input": "2023-09-28T19:20:58.738081Z",
     "iopub.status.busy": "2023-09-28T19:20:58.737855Z",
     "iopub.status.idle": "2023-09-28T19:20:58.741144Z",
     "shell.execute_reply": "2023-09-28T19:20:58.740754Z",
     "shell.execute_reply.started": "2023-09-28T19:20:58.738063Z"
    },
    "tags": []
   },
   "outputs": [
    {
     "name": "stdout",
     "output_type": "stream",
     "text": [
      "DatasetType('goodSeeingCoadd', {band, skymap, tract, patch}, ExposureF)\n"
     ]
    }
   ],
   "source": [
    "for dt in sorted(registry.queryDatasetTypes(datasetType)):\n",
    "    print(dt)"
   ]
  },
  {
   "cell_type": "code",
   "execution_count": 48,
   "id": "349d975a-7689-422a-a059-eba555b61cfa",
   "metadata": {
    "execution": {
     "iopub.execute_input": "2023-09-28T19:23:19.109903Z",
     "iopub.status.busy": "2023-09-28T19:23:19.109592Z",
     "iopub.status.idle": "2023-09-28T19:23:19.111940Z",
     "shell.execute_reply": "2023-09-28T19:23:19.111595Z",
     "shell.execute_reply.started": "2023-09-28T19:23:19.109890Z"
    },
    "tags": []
   },
   "outputs": [],
   "source": [
    "datasetType = 'raw'\n",
    "collections = 'LATISS/raw/all/'"
   ]
  },
  {
   "cell_type": "code",
   "execution_count": 49,
   "id": "5933e370-49f6-4dc8-b9a8-dfd4902decda",
   "metadata": {
    "execution": {
     "iopub.execute_input": "2023-09-28T19:23:19.271099Z",
     "iopub.status.busy": "2023-09-28T19:23:19.270766Z",
     "iopub.status.idle": "2023-09-28T19:23:19.273583Z",
     "shell.execute_reply": "2023-09-28T19:23:19.273148Z",
     "shell.execute_reply.started": "2023-09-28T19:23:19.271082Z"
    },
    "tags": []
   },
   "outputs": [
    {
     "name": "stdout",
     "output_type": "stream",
     "text": [
      "DatasetType('raw', {band, instrument, detector, physical_filter, exposure}, Exposure)\n"
     ]
    }
   ],
   "source": [
    "for dt in sorted(registry.queryDatasetTypes(datasetType)):\n",
    "    print(dt)"
   ]
  },
  {
   "cell_type": "code",
   "execution_count": 45,
   "id": "240475ab-1f3f-42f9-84f7-0b326c6fcd13",
   "metadata": {
    "execution": {
     "iopub.execute_input": "2023-09-28T19:22:20.897551Z",
     "iopub.status.busy": "2023-09-28T19:22:20.897362Z",
     "iopub.status.idle": "2023-09-28T19:22:20.899852Z",
     "shell.execute_reply": "2023-09-28T19:22:20.899439Z",
     "shell.execute_reply.started": "2023-09-28T19:22:20.897537Z"
    },
    "tags": []
   },
   "outputs": [],
   "source": [
    "# for c in sorted(registry.queryCollections(datasetType='calexp')):\n",
    "#     print(c)"
   ]
  },
  {
   "cell_type": "code",
   "execution_count": 60,
   "id": "f298c042-5711-45bd-a3d0-d4ead3ed06ce",
   "metadata": {
    "execution": {
     "iopub.execute_input": "2023-09-28T19:33:40.681465Z",
     "iopub.status.busy": "2023-09-28T19:33:40.681178Z",
     "iopub.status.idle": "2023-09-28T19:33:40.684186Z",
     "shell.execute_reply": "2023-09-28T19:33:40.683896Z",
     "shell.execute_reply.started": "2023-09-28T19:33:40.681450Z"
    },
    "tags": []
   },
   "outputs": [
    {
     "name": "stdout",
     "output_type": "stream",
     "text": [
      "DatasetType('calexp', {band, instrument, detector, physical_filter, visit}, ExposureF)\n"
     ]
    }
   ],
   "source": [
    "datasetType = 'calexp'\n",
    "collections = 'LATISS/runs/AUXTEL_DRP_IMAGING_2022-11A/w_2022_46/PREOPS-1616'\n",
    "for dt in sorted(registry.queryDatasetTypes(datasetType)):\n",
    "    print(dt)"
   ]
  },
  {
   "cell_type": "code",
   "execution_count": 55,
   "id": "d32da0a0-ab46-427a-a530-72b14e619de3",
   "metadata": {
    "execution": {
     "iopub.execute_input": "2023-09-28T19:27:31.224074Z",
     "iopub.status.busy": "2023-09-28T19:27:31.223557Z",
     "iopub.status.idle": "2023-09-28T19:27:31.226521Z",
     "shell.execute_reply": "2023-09-28T19:27:31.226140Z",
     "shell.execute_reply.started": "2023-09-28T19:27:31.224059Z"
    },
    "tags": []
   },
   "outputs": [
    {
     "name": "stdout",
     "output_type": "stream",
     "text": [
      "DatasetType('calexp', {band, instrument, detector, physical_filter, visit}, ExposureF)\n"
     ]
    }
   ],
   "source": [
    "for dt in sorted(registry.queryDatasetTypes(datasetType)):\n",
    "    print(dt)"
   ]
  },
  {
   "cell_type": "code",
   "execution_count": 56,
   "id": "9dcb0e39-7ed9-4368-ab81-e0882eaf9ef3",
   "metadata": {
    "execution": {
     "iopub.execute_input": "2023-09-28T19:27:32.398913Z",
     "iopub.status.busy": "2023-09-28T19:27:32.398318Z",
     "iopub.status.idle": "2023-09-28T19:27:32.400775Z",
     "shell.execute_reply": "2023-09-28T19:27:32.400478Z",
     "shell.execute_reply.started": "2023-09-28T19:27:32.398893Z"
    },
    "tags": []
   },
   "outputs": [],
   "source": [
    "# for dt in sorted(registry.queryDatasetTypes()):\n",
    "#     print(dt)"
   ]
  },
  {
   "cell_type": "code",
   "execution_count": 57,
   "id": "460c91f4-60d5-440c-8b08-326830c54c16",
   "metadata": {
    "execution": {
     "iopub.execute_input": "2023-09-28T19:27:32.571312Z",
     "iopub.status.busy": "2023-09-28T19:27:32.570937Z",
     "iopub.status.idle": "2023-09-28T19:27:32.573374Z",
     "shell.execute_reply": "2023-09-28T19:27:32.573084Z",
     "shell.execute_reply.started": "2023-09-28T19:27:32.571297Z"
    },
    "tags": []
   },
   "outputs": [
    {
     "name": "stdout",
     "output_type": "stream",
     "text": [
      "DatasetType('calexp', {band, instrument, detector, physical_filter, visit}, ExposureF)\n"
     ]
    }
   ],
   "source": [
    "for dt in sorted(registry.queryDatasetTypes('calexp')):\n",
    "    print(dt)"
   ]
  },
  {
   "cell_type": "code",
   "execution_count": 58,
   "id": "b4e1c249-06bf-48ec-a6ee-d269ca6cf2f1",
   "metadata": {
    "execution": {
     "iopub.execute_input": "2023-09-28T19:27:34.930719Z",
     "iopub.status.busy": "2023-09-28T19:27:34.930446Z",
     "iopub.status.idle": "2023-09-28T19:27:34.949846Z",
     "shell.execute_reply": "2023-09-28T19:27:34.949556Z",
     "shell.execute_reply.started": "2023-09-28T19:27:34.930705Z"
    },
    "tags": []
   },
   "outputs": [
    {
     "name": "stderr",
     "output_type": "stream",
     "text": [
      "/opt/lsst/software/stack/conda/miniconda3-py38_4.9.2/envs/lsst-scipipe-7.0.1/lib/python3.11/site-packages/IPython/core/interactiveshell.py:3526: FutureWarning: Querying for component datasets via Registry query methods is deprecated in favor of using DatasetRef and DatasetType methods on parent datasets. Only components=False will be supported after v26, and the components argument will be removed after v27.\n",
      "  exec(code_obj, self.user_global_ns, self.user_ns)\n"
     ]
    },
    {
     "data": {
      "text/html": [
       "<pre style=\"margin: 0.1em;\n",
       "padding-left: 0.25em;\n",
       "border-left-style: solid;\n",
       "font-family: var(--jp-code-font-family);\n",
       "font-size: var(--jp-code-font-size);\n",
       "line-height: var(--jp-code-line-height);\n",
       "\"><span style=\"color: var(--jp-warn-color2)\">lsst.daf.butler.registry.datasets.byDimensions._manager</span> <span style=\"color: var(--jp-warn-color0)\">WARNING</span>: Could not load storage class &#x27;Spectraction&#x27; for spectraction; if it has components they will not be included in query results.</pre>"
      ],
      "text/plain": [
       "<IPython.core.display.HTML object>"
      ]
     },
     "metadata": {},
     "output_type": "display_data"
    },
    {
     "name": "stdout",
     "output_type": "stream",
     "text": [
      "DatasetType('calexp.apCorrMap', {band, instrument, detector, physical_filter, visit}, ApCorr, parentStorageClass=ExposureF)\n",
      "DatasetType('calexp.bbox', {band, instrument, detector, physical_filter, visit}, Box2I, parentStorageClass=ExposureF)\n",
      "DatasetType('calexp.coaddInputs', {band, instrument, detector, physical_filter, visit}, CoaddInputs, parentStorageClass=ExposureF)\n",
      "DatasetType('calexp.detector', {band, instrument, detector, physical_filter, visit}, Detector, parentStorageClass=ExposureF)\n",
      "DatasetType('calexp.dimensions', {band, instrument, detector, physical_filter, visit}, Extent2I, parentStorageClass=ExposureF)\n",
      "DatasetType('calexp.filter', {band, instrument, detector, physical_filter, visit}, FilterLabel, parentStorageClass=ExposureF)\n",
      "DatasetType('calexp.id', {band, instrument, detector, physical_filter, visit}, int, parentStorageClass=ExposureF)\n",
      "DatasetType('calexp.image', {band, instrument, detector, physical_filter, visit}, ImageF, parentStorageClass=ExposureF)\n",
      "DatasetType('calexp.mask', {band, instrument, detector, physical_filter, visit}, MaskX, parentStorageClass=ExposureF)\n",
      "DatasetType('calexp.metadata', {band, instrument, detector, physical_filter, visit}, PropertyList, parentStorageClass=ExposureF)\n",
      "DatasetType('calexp.photoCalib', {band, instrument, detector, physical_filter, visit}, PhotoCalib, parentStorageClass=ExposureF)\n",
      "DatasetType('calexp.psf', {band, instrument, detector, physical_filter, visit}, Psf, parentStorageClass=ExposureF)\n",
      "DatasetType('calexp.summaryStats', {band, instrument, detector, physical_filter, visit}, ExposureSummaryStats, parentStorageClass=ExposureF)\n",
      "DatasetType('calexp.transmissionCurve', {band, instrument, detector, physical_filter, visit}, TransmissionCurve, parentStorageClass=ExposureF)\n",
      "DatasetType('calexp.validPolygon', {band, instrument, detector, physical_filter, visit}, Polygon, parentStorageClass=ExposureF)\n",
      "DatasetType('calexp.variance', {band, instrument, detector, physical_filter, visit}, ImageF, parentStorageClass=ExposureF)\n",
      "DatasetType('calexp.visitInfo', {band, instrument, detector, physical_filter, visit}, VisitInfo, parentStorageClass=ExposureF)\n",
      "DatasetType('calexp.wcs', {band, instrument, detector, physical_filter, visit}, Wcs, parentStorageClass=ExposureF)\n",
      "DatasetType('calexp.xy0', {band, instrument, detector, physical_filter, visit}, Point2I, parentStorageClass=ExposureF)\n"
     ]
    }
   ],
   "source": [
    "for dt in sorted(registry.queryDatasetTypes('calexp.*')):\n",
    "    print(dt)"
   ]
  },
  {
   "cell_type": "code",
   "execution_count": 59,
   "id": "3a035355-115a-476f-8906-dbb95c57ae8f",
   "metadata": {
    "execution": {
     "iopub.execute_input": "2023-09-28T19:27:36.998608Z",
     "iopub.status.busy": "2023-09-28T19:27:36.998216Z",
     "iopub.status.idle": "2023-09-28T19:27:37.030901Z",
     "shell.execute_reply": "2023-09-28T19:27:37.030382Z",
     "shell.execute_reply.started": "2023-09-28T19:27:36.998593Z"
    },
    "tags": []
   },
   "outputs": [
    {
     "name": "stdout",
     "output_type": "stream",
     "text": [
      "exposure:\n",
      "  instrument: 'LATISS'\n",
      "  id: 2022110900640\n",
      "  physical_filter: 'SDSSg_65mm~empty'\n",
      "  obs_id: 'AT_O_20221109_000640'\n",
      "  exposure_time: 30.0\n",
      "  dark_time: 30.2287\n",
      "  observation_type: 'science'\n",
      "  observation_reason: 'object'\n",
      "  day_obs: 20221109\n",
      "  seq_num: 640\n",
      "  seq_start: 640\n",
      "  seq_end: 641\n",
      "  group_name: '2022-11-10T04:47:54.142'\n",
      "  group_id: 2479852741420000\n",
      "  target_name: 'SPT-CL-J0559-5249_053'\n",
      "  science_program: 'AUXTEL_DRP_IMAGING'\n",
      "  tracking_ra: 89.9253975584863\n",
      "  tracking_dec: -52.63775801969686\n",
      "  sky_angle: 359.997616534617\n",
      "  azimuth: 139.4582676183927\n",
      "  zenith_angle: 36.239877732194145\n",
      "  has_simulated: False\n",
      "  timespan: Timespan(begin=astropy.time.Time('2022-11-10 04:49:23.525011', scale='tai', format='iso'), end=astropy.time.Time('2022-11-10 04:49:53.754000', scale='tai', format='iso'))\n",
      "exposure:\n",
      "  instrument: 'LATISS'\n",
      "  id: 2022110900620\n",
      "  physical_filter: 'SDSSi_65mm~empty'\n",
      "  obs_id: 'AT_O_20221109_000620'\n",
      "  exposure_time: 30.0\n",
      "  dark_time: 30.2287\n",
      "  observation_type: 'science'\n",
      "  observation_reason: 'object'\n",
      "  day_obs: 20221109\n",
      "  seq_num: 620\n",
      "  seq_start: 620\n",
      "  seq_end: 621\n",
      "  group_name: '2022-11-10T04:34:53.502'\n",
      "  group_id: 2479844935020000\n",
      "  target_name: 'SPT-CL-J0559-5249_044'\n",
      "  science_program: 'AUXTEL_DRP_IMAGING'\n",
      "  tracking_ra: 89.76984760172736\n",
      "  tracking_dec: -52.731758014428365\n",
      "  sky_angle: 359.9996616648562\n",
      "  azimuth: 138.4981883358705\n",
      "  zenith_angle: 38.02867958108254\n",
      "  has_simulated: False\n",
      "  timespan: Timespan(begin=astropy.time.Time('2022-11-10 04:36:23.771002', scale='tai', format='iso'), end=astropy.time.Time('2022-11-10 04:36:53.999000', scale='tai', format='iso'))\n",
      "exposure:\n",
      "  instrument: 'LATISS'\n",
      "  id: 2022110900761\n",
      "  physical_filter: 'SDSSg_65mm~empty'\n",
      "  obs_id: 'AT_O_20221109_000761'\n",
      "  exposure_time: 30.0\n",
      "  dark_time: 30.2323\n",
      "  observation_type: 'science'\n",
      "  observation_reason: 'object'\n",
      "  day_obs: 20221109\n",
      "  seq_num: 761\n",
      "  seq_start: 760\n",
      "  seq_end: 761\n",
      "  group_name: '2022-11-10T06:07:46.078'\n",
      "  group_id: 2479900660780000\n",
      "  target_name: 'SPT-CL-J0559-5249_056'\n",
      "  science_program: 'AUXTEL_DRP_IMAGING'\n",
      "  tracking_ra: 90.39068557285371\n",
      "  tracking_dec: -52.63768735446215\n",
      "  sky_angle: 359.9980632103995\n",
      "  azimuth: 152.89971642609453\n",
      "  zenith_angle: 26.54849150935479\n",
      "  has_simulated: False\n",
      "  timespan: Timespan(begin=astropy.time.Time('2022-11-10 06:09:46.466986', scale='tai', format='iso'), end=astropy.time.Time('2022-11-10 06:10:16.699000', scale='tai', format='iso'))\n",
      "exposure:\n",
      "  instrument: 'LATISS'\n",
      "  id: 2022110800658\n",
      "  physical_filter: 'SDSSg_65mm~empty'\n",
      "  obs_id: 'AT_O_20221108_000658'\n",
      "  exposure_time: 30.0\n",
      "  dark_time: 30.2355\n",
      "  observation_type: 'science'\n",
      "  observation_reason: 'object'\n",
      "  day_obs: 20221108\n",
      "  seq_num: 658\n",
      "  seq_start: 657\n",
      "  seq_end: 658\n",
      "  group_name: '2022-11-09T05:42:34.774'\n",
      "  group_id: 2479021547740000\n",
      "  target_name: 'SPT-CL-J0559-5249_032'\n",
      "  science_program: 'AUXTEL_DRP_IMAGING'\n",
      "  tracking_ra: 90.39349079632457\n",
      "  tracking_dec: -52.91989176051661\n",
      "  sky_angle: 359.9977754132886\n",
      "  azimuth: 146.84708737250185\n",
      "  zenith_angle: 29.91697499314614\n",
      "  has_simulated: False\n",
      "  timespan: Timespan(begin=astropy.time.Time('2022-11-09 05:44:35.549009', scale='tai', format='iso'), end=astropy.time.Time('2022-11-09 05:45:05.784000', scale='tai', format='iso'))\n",
      "exposure:\n",
      "  instrument: 'LATISS'\n",
      "  id: 2022110800699\n",
      "  physical_filter: 'SDSSg_65mm~empty'\n",
      "  obs_id: 'AT_O_20221108_000699'\n",
      "  exposure_time: 30.0\n",
      "  dark_time: 30.2283\n",
      "  observation_type: 'science'\n",
      "  observation_reason: 'object'\n",
      "  day_obs: 20221108\n",
      "  seq_num: 699\n",
      "  seq_start: 699\n",
      "  seq_end: 700\n",
      "  group_name: '2022-11-09T06:10:10.274'\n",
      "  group_id: 2479038102740000\n",
      "  target_name: 'SDSS-J081508_061'\n",
      "  science_program: 'AUXTEL_DRP_IMAGING'\n",
      "  tracking_ra: 123.7868680395952\n",
      "  tracking_dec: 7.8114325283815225\n",
      "  sky_angle: 315.1252632546796\n",
      "  azimuth: 62.23956846121291\n",
      "  zenith_angle: 63.41870257415576\n",
      "  has_simulated: False\n",
      "  timespan: Timespan(begin=astropy.time.Time('2022-11-09 06:14:05.782980', scale='tai', format='iso'), end=astropy.time.Time('2022-11-09 06:14:36.011000', scale='tai', format='iso'))\n",
      "exposure:\n",
      "  instrument: 'LATISS'\n",
      "  id: 2022110900454\n",
      "  physical_filter: 'SDSSg_65mm~empty'\n",
      "  obs_id: 'AT_O_20221109_000454'\n",
      "  exposure_time: 30.0\n",
      "  dark_time: 30.2248\n",
      "  observation_type: 'science'\n",
      "  observation_reason: 'object'\n",
      "  day_obs: 20221109\n",
      "  seq_num: 454\n",
      "  seq_start: 453\n",
      "  seq_end: 454\n",
      "  group_name: '2022-11-10T02:15:38.669'\n",
      "  group_id: 2479761386690000\n",
      "  target_name: 'SMC_012'\n",
      "  science_program: 'AUXTEL_DRP_IMAGING'\n",
      "  tracking_ra: 12.677061265046158\n",
      "  tracking_dec: -73.08193922529492\n",
      "  sky_angle: 359.99937142919066\n",
      "  azimuth: 179.86557789560175\n",
      "  zenith_angle: 42.66105303326913\n",
      "  has_simulated: False\n",
      "  timespan: Timespan(begin=astropy.time.Time('2022-11-10 02:17:39.903015', scale='tai', format='iso'), end=astropy.time.Time('2022-11-10 02:18:10.128000', scale='tai', format='iso'))\n",
      "exposure:\n",
      "  instrument: 'LATISS'\n",
      "  id: 2022110900438\n",
      "  physical_filter: 'SDSSg_65mm~empty'\n",
      "  obs_id: 'AT_O_20221109_000438'\n",
      "  exposure_time: 30.0\n",
      "  dark_time: 30.2301\n",
      "  observation_type: 'science'\n",
      "  observation_reason: 'object'\n",
      "  day_obs: 20221109\n",
      "  seq_num: 438\n",
      "  seq_start: 437\n",
      "  seq_end: 438\n",
      "  group_name: '2022-11-10T02:05:17.388'\n",
      "  group_id: 2479755173880000\n",
      "  target_name: 'SMC_007'\n",
      "  science_program: 'AUXTEL_DRP_IMAGING'\n",
      "  tracking_ra: 13.651756505327686\n",
      "  tracking_dec: -73.17599711164627\n",
      "  sky_angle: 359.99869903399264\n",
      "  azimuth: 178.34112652059412\n",
      "  zenith_angle: 42.80094587961503\n",
      "  has_simulated: False\n",
      "  timespan: Timespan(begin=astropy.time.Time('2022-11-10 02:07:18.700993', scale='tai', format='iso'), end=astropy.time.Time('2022-11-10 02:07:48.931000', scale='tai', format='iso'))\n",
      "exposure:\n",
      "  instrument: 'LATISS'\n",
      "  id: 2022111000436\n",
      "  physical_filter: 'SDSSi_65mm~empty'\n",
      "  obs_id: 'AT_O_20221110_000436'\n",
      "  exposure_time: 30.0\n",
      "  dark_time: 30.2303\n",
      "  observation_type: 'science'\n",
      "  observation_reason: 'object'\n",
      "  day_obs: 20221110\n",
      "  seq_num: 436\n",
      "  seq_start: 436\n",
      "  seq_end: 437\n",
      "  group_name: '2022-11-11T03:33:43.422'\n",
      "  group_id: 2480672234220000\n",
      "  target_name: 'SMC_002'\n",
      "  science_program: 'AUXTEL_DRP_IMAGING'\n",
      "  tracking_ra: 12.023435441912813\n",
      "  tracking_dec: -73.17604604046049\n",
      "  sky_angle: 0.004604064928796171\n",
      "  azimuth: 188.51554461265914\n",
      "  zenith_angle: 44.13260185877152\n",
      "  has_simulated: False\n",
      "  timespan: Timespan(begin=astropy.time.Time('2022-11-11 03:35:12.836981', scale='tai', format='iso'), end=astropy.time.Time('2022-11-11 03:35:43.067000', scale='tai', format='iso'))\n",
      "exposure:\n",
      "  instrument: 'LATISS'\n",
      "  id: 2022110900673\n",
      "  physical_filter: 'SDSSg_65mm~empty'\n",
      "  obs_id: 'AT_O_20221109_000673'\n",
      "  exposure_time: 30.0\n",
      "  dark_time: 30.2422\n",
      "  observation_type: 'science'\n",
      "  observation_reason: 'object'\n",
      "  day_obs: 20221109\n",
      "  seq_num: 673\n",
      "  seq_start: 672\n",
      "  seq_end: 673\n",
      "  group_name: '2022-11-10T05:08:37.115'\n",
      "  group_id: 2479865171150000\n",
      "  target_name: 'SPT-CL-J0559-5249_060'\n",
      "  science_program: 'AUXTEL_DRP_IMAGING'\n",
      "  tracking_ra: 89.77071576394613\n",
      "  tracking_dec: -52.54372594751951\n",
      "  sky_angle: 359.9976649703424\n",
      "  azimuth: 141.8306801509607\n",
      "  zenith_angle: 33.19597506681748\n",
      "  has_simulated: False\n",
      "  timespan: Timespan(begin=astropy.time.Time('2022-11-10 05:10:38.071990', scale='tai', format='iso'), end=astropy.time.Time('2022-11-10 05:11:08.315000', scale='tai', format='iso'))\n",
      "exposure:\n",
      "  instrument: 'LATISS'\n",
      "  id: 2022110800580\n",
      "  physical_filter: 'SDSSi_65mm~empty'\n",
      "  obs_id: 'AT_O_20221108_000580'\n",
      "  exposure_time: 30.0\n",
      "  dark_time: 30.2334\n",
      "  observation_type: 'science'\n",
      "  observation_reason: 'object'\n",
      "  day_obs: 20221108\n",
      "  seq_num: 580\n",
      "  seq_start: 579\n",
      "  seq_end: 580\n",
      "  group_name: '2022-11-09T04:52:10.547'\n",
      "  group_id: 2478991305470000\n",
      "  target_name: 'SPT-CL-J0559-5249_063'\n",
      "  science_program: 'AUXTEL_DRP_IMAGING'\n",
      "  tracking_ra: 90.23472646078932\n",
      "  tracking_dec: -52.543801136533226\n",
      "  sky_angle: 359.9976783812514\n",
      "  azimuth: 139.27777238604904\n",
      "  zenith_angle: 36.25017562667199\n",
      "  has_simulated: False\n",
      "  timespan: Timespan(begin=astropy.time.Time('2022-11-09 04:54:12.359010', scale='tai', format='iso'), end=astropy.time.Time('2022-11-09 04:54:42.592000', scale='tai', format='iso'))\n",
      "exposure:\n",
      "  instrument: 'LATISS'\n",
      "  id: 2022110800312\n",
      "  physical_filter: 'SDSSg_65mm~empty'\n",
      "  obs_id: 'AT_O_20221108_000312'\n",
      "  exposure_time: 30.0\n",
      "  dark_time: 30.2428\n",
      "  observation_type: 'science'\n",
      "  observation_reason: 'object'\n",
      "  day_obs: 20221108\n",
      "  seq_num: 312\n",
      "  seq_start: 311\n",
      "  seq_end: 312\n",
      "  group_name: '2022-11-09T01:52:28.614'\n",
      "  group_id: 2478883486140000\n",
      "  target_name: 'SMC_002'\n",
      "  science_program: 'AUXTEL_DRP_IMAGING'\n",
      "  tracking_ra: 12.023726357370053\n",
      "  tracking_dec: -73.17600463360229\n",
      "  sky_angle: 359.998504229651\n",
      "  azimuth: 177.24749960418558\n",
      "  zenith_angle: 42.88302058138652\n",
      "  has_simulated: False\n",
      "  timespan: Timespan(begin=astropy.time.Time('2022-11-09 01:54:28.421003', scale='tai', format='iso'), end=astropy.time.Time('2022-11-09 01:54:58.663000', scale='tai', format='iso'))\n",
      "exposure:\n",
      "  instrument: 'LATISS'\n",
      "  id: 2022110800341\n",
      "  physical_filter: 'SDSSi_65mm~empty'\n",
      "  obs_id: 'AT_O_20221108_000341'\n",
      "  exposure_time: 30.0\n",
      "  dark_time: 30.2277\n",
      "  observation_type: 'science'\n",
      "  observation_reason: 'object'\n",
      "  day_obs: 20221108\n",
      "  seq_num: 341\n",
      "  seq_start: 341\n",
      "  seq_end: 342\n",
      "  group_name: '2022-11-09T02:11:56.049'\n",
      "  group_id: 2478895160490000\n",
      "  target_name: 'SMC_013'\n",
      "  science_program: 'AUXTEL_DRP_IMAGING'\n",
      "  tracking_ra: 13.000329003971562\n",
      "  tracking_dec: -73.08189850146685\n",
      "  sky_angle: 359.9994423751599\n",
      "  azimuth: 178.8485606801114\n",
      "  zenith_angle: 42.6813703195221\n",
      "  has_simulated: False\n",
      "  timespan: Timespan(begin=astropy.time.Time('2022-11-09 02:13:24.636003', scale='tai', format='iso'), end=astropy.time.Time('2022-11-09 02:13:54.864000', scale='tai', format='iso'))\n"
     ]
    }
   ],
   "source": [
    "for i, dt in enumerate(registry.queryDimensionRecords('exposure',datasets=datasetType, collections=collections,\n",
    "                                             )):\n",
    "    print(dt)\n",
    "    if i > 10:\n",
    "        break"
   ]
  },
  {
   "cell_type": "code",
   "execution_count": 33,
   "id": "85b4f5b2-9fb8-4dee-8f32-48835f4fbe4e",
   "metadata": {
    "execution": {
     "iopub.execute_input": "2023-09-28T19:03:32.326741Z",
     "iopub.status.busy": "2023-09-28T19:03:32.326214Z",
     "iopub.status.idle": "2023-09-28T19:03:32.351979Z",
     "shell.execute_reply": "2023-09-28T19:03:32.351516Z",
     "shell.execute_reply.started": "2023-09-28T19:03:32.326726Z"
    },
    "tags": []
   },
   "outputs": [
    {
     "name": "stdout",
     "output_type": "stream",
     "text": [
      "visit:\n",
      "  instrument: 'LATISS'\n",
      "  id: 2022110900640\n",
      "  physical_filter: 'SDSSg_65mm~empty'\n",
      "  name: 'AT_O_20221109_000640'\n",
      "  day_obs: 20221109\n",
      "  seq_num: 640\n",
      "  exposure_time: 30.0\n",
      "  target_name: 'SPT-CL-J0559-5249_053'\n",
      "  observation_reason: 'object'\n",
      "  science_program: 'AUXTEL_DRP_IMAGING'\n",
      "  azimuth: 139.4582676183927\n",
      "  zenith_angle: 36.239877732194145\n",
      "  region: ConvexPolygon([UnitVector3d(0.0018739560247543958, 0.6060174558168964, -0.7954491382445726), UnitVector3d(-0.00024718457727055927, 0.6060203191097887, -0.7954491257936328), UnitVector3d(-0.00024493714049570467, 0.6076796868988159, -0.7941821819559756), UnitVector3d(0.0018762034747673365, 0.6076768235201749, -0.7941821944723714)])\n",
      "  timespan: Timespan(begin=astropy.time.Time('2022-11-10 04:49:23.525011', scale='tai', format='iso'), end=astropy.time.Time('2022-11-10 04:49:53.754000', scale='tai', format='iso'))\n",
      "visit:\n",
      "  instrument: 'LATISS'\n",
      "  id: 2022110900620\n",
      "  physical_filter: 'SDSSi_65mm~empty'\n",
      "  name: 'AT_O_20221109_000620'\n",
      "  day_obs: 20221109\n",
      "  seq_num: 620\n",
      "  exposure_time: 30.0\n",
      "  target_name: 'SPT-CL-J0559-5249_044'\n",
      "  observation_reason: 'object'\n",
      "  science_program: 'AUXTEL_DRP_IMAGING'\n",
      "  azimuth: 138.4981883358705\n",
      "  zenith_angle: 38.02867958108254\n",
      "  region: ConvexPolygon([UnitVector3d(0.0035139910492474336, 0.6047043398550437, -0.796442284931797), UnitVector3d(0.0013928657937893423, 0.6047129014957372, -0.7964423184948721), UnitVector3d(0.0013995519868834668, 0.6063743336780142, -0.7951780987368681), UnitVector3d(0.0035206772553502915, 0.6063657719514294, -0.7951780652391078)])\n",
      "  timespan: Timespan(begin=astropy.time.Time('2022-11-10 04:36:23.771002', scale='tai', format='iso'), end=astropy.time.Time('2022-11-10 04:36:53.999000', scale='tai', format='iso'))\n",
      "visit:\n",
      "  instrument: 'LATISS'\n",
      "  id: 2022110900761\n",
      "  physical_filter: 'SDSSg_65mm~empty'\n",
      "  name: 'AT_O_20221109_000761'\n",
      "  day_obs: 20221109\n",
      "  seq_num: 761\n",
      "  exposure_time: 30.0\n",
      "  target_name: 'SPT-CL-J0559-5249_056'\n",
      "  observation_reason: 'object'\n",
      "  science_program: 'AUXTEL_DRP_IMAGING'\n",
      "  azimuth: 152.89971642609453\n",
      "  zenith_angle: 26.54849150935479\n",
      "  region: ConvexPolygon([UnitVector3d(-0.0030474015431468855, 0.6060136789367624, -0.7954483856827955), UnitVector3d(-0.00516849536657384, 0.6059993038063445, -0.7954483832668664), UnitVector3d(-0.0051797395276172225, 0.6076586334578474, -0.7941814373822694), UnitVector3d(-0.0030586456902553984, 0.607673008502627, -0.7941814398636546)])\n",
      "  timespan: Timespan(begin=astropy.time.Time('2022-11-10 06:09:46.466986', scale='tai', format='iso'), end=astropy.time.Time('2022-11-10 06:10:16.699000', scale='tai', format='iso'))\n",
      "visit:\n",
      "  instrument: 'LATISS'\n",
      "  id: 2022110800658\n",
      "  physical_filter: 'SDSSg_65mm~empty'\n",
      "  name: 'AT_O_20221108_000658'\n",
      "  day_obs: 20221108\n",
      "  seq_num: 658\n",
      "  exposure_time: 30.0\n",
      "  target_name: 'SPT-CL-J0559-5249_032'\n",
      "  observation_reason: 'object'\n",
      "  science_program: 'AUXTEL_DRP_IMAGING'\n",
      "  azimuth: 146.84708737250185\n",
      "  zenith_angle: 29.91697499314614\n",
      "  region: ConvexPolygon([UnitVector3d(-0.003050120279336148, 0.6020883838283786, -0.7984236186544161), UnitVector3d(-0.0051712134544723235, 0.6020739133591364, -0.7984236102494862), UnitVector3d(-0.005182571087654491, 0.603739462440489, -0.7971648527431392), UnitVector3d(-0.0030614778985775973, 0.6037539328237724, -0.797164861213102)])\n",
      "  timespan: Timespan(begin=astropy.time.Time('2022-11-09 05:44:35.549009', scale='tai', format='iso'), end=astropy.time.Time('2022-11-09 05:45:05.784000', scale='tai', format='iso'))\n",
      "visit:\n",
      "  instrument: 'LATISS'\n",
      "  id: 2022110800699\n",
      "  physical_filter: 'SDSSg_65mm~empty'\n",
      "  name: 'AT_O_20221108_000699'\n",
      "  day_obs: 20221108\n",
      "  seq_num: 699\n",
      "  exposure_time: 30.0\n",
      "  target_name: 'SDSS-J081508_061'\n",
      "  observation_reason: 'object'\n",
      "  science_program: 'AUXTEL_DRP_IMAGING'\n",
      "  azimuth: 62.23956846121291\n",
      "  zenith_angle: 63.41870257415576\n",
      "  region: ConvexPolygon([UnitVector3d(-0.55103310540823, 0.823585971067281, 0.1344197344340706), UnitVector3d(-0.5521693041813701, 0.822581050573808, 0.13590244573499), UnitVector3d(-0.5508332384178446, 0.8232330909858827, 0.13736819631901429), UnitVector3d(-0.5496970397065787, 0.8242380114519947, 0.13588548493303265)])\n",
      "  timespan: Timespan(begin=astropy.time.Time('2022-11-09 06:14:05.782980', scale='tai', format='iso'), end=astropy.time.Time('2022-11-09 06:14:36.011000', scale='tai', format='iso'))\n",
      "visit:\n",
      "  instrument: 'LATISS'\n",
      "  id: 2022110900454\n",
      "  physical_filter: 'SDSSg_65mm~empty'\n",
      "  name: 'AT_O_20221109_000454'\n",
      "  day_obs: 20221109\n",
      "  seq_num: 454\n",
      "  exposure_time: 30.0\n",
      "  target_name: 'SMC_012'\n",
      "  observation_reason: 'object'\n",
      "  science_program: 'AUXTEL_DRP_IMAGING'\n",
      "  azimuth: 179.86557789560175\n",
      "  zenith_angle: 42.66105303326913\n",
      "  region: ConvexPolygon([UnitVector3d(0.28317043157267396, 0.06258407168767106, -0.9570254649976342), UnitVector3d(0.28270497124980926, 0.06465351420636486, -0.9570255076702041), UnitVector3d(0.2846536721760952, 0.06509182973356466, -0.9564179738057), UnitVector3d(0.2851191324012116, 0.06302238717919671, -0.9564179311645176)])\n",
      "  timespan: Timespan(begin=astropy.time.Time('2022-11-10 02:17:39.903015', scale='tai', format='iso'), end=astropy.time.Time('2022-11-10 02:18:10.128000', scale='tai', format='iso'))\n",
      "visit:\n",
      "  instrument: 'LATISS'\n",
      "  id: 2022110900438\n",
      "  physical_filter: 'SDSSg_65mm~empty'\n",
      "  name: 'AT_O_20221109_000438'\n",
      "  day_obs: 20221109\n",
      "  seq_num: 438\n",
      "  exposure_time: 30.0\n",
      "  target_name: 'SMC_007'\n",
      "  observation_reason: 'object'\n",
      "  science_program: 'AUXTEL_DRP_IMAGING'\n",
      "  azimuth: 178.34112652059412\n",
      "  zenith_angle: 42.80094587961503\n",
      "  region: ConvexPolygon([UnitVector3d(0.280537771836148, 0.06702109012193662, -0.9575002517242889), UnitVector3d(0.28003719903336305, 0.06908232094841135, -0.9575002872531837), UnitVector3d(0.28197913421602216, 0.06955393300391155, -0.9568960331564083), UnitVector3d(0.2824797069216288, 0.06749270214009401, -0.9568959976587316)])\n",
      "  timespan: Timespan(begin=astropy.time.Time('2022-11-10 02:07:18.700993', scale='tai', format='iso'), end=astropy.time.Time('2022-11-10 02:07:48.931000', scale='tai', format='iso'))\n",
      "visit:\n",
      "  instrument: 'LATISS'\n",
      "  id: 2022111000436\n",
      "  physical_filter: 'SDSSi_65mm~empty'\n",
      "  name: 'AT_O_20221110_000436'\n",
      "  day_obs: 20221110\n",
      "  seq_num: 436\n",
      "  exposure_time: 30.0\n",
      "  target_name: 'SMC_002'\n",
      "  observation_reason: 'object'\n",
      "  science_program: 'AUXTEL_DRP_IMAGING'\n",
      "  azimuth: 188.51554461265914\n",
      "  zenith_angle: 44.13260185877152\n",
      "  region: ConvexPolygon([UnitVector3d(0.2823282694485467, 0.05902208493845825, -0.9575004656707516), UnitVector3d(0.2818862655161742, 0.061096663971940815, -0.9575005644723373), UnitVector3d(0.28384077341050895, 0.06151311461736977, -0.9568963120839136), UnitVector3d(0.2842827772446855, 0.059438535549310355, -0.9568962133135452)])\n",
      "  timespan: Timespan(begin=astropy.time.Time('2022-11-11 03:35:12.836981', scale='tai', format='iso'), end=astropy.time.Time('2022-11-11 03:35:43.067000', scale='tai', format='iso'))\n",
      "visit:\n",
      "  instrument: 'LATISS'\n",
      "  id: 2022110900673\n",
      "  physical_filter: 'SDSSg_65mm~empty'\n",
      "  name: 'AT_O_20221109_000673'\n",
      "  day_obs: 20221109\n",
      "  seq_num: 673\n",
      "  exposure_time: 30.0\n",
      "  target_name: 'SPT-CL-J0559-5249_060'\n",
      "  observation_reason: 'object'\n",
      "  science_program: 'AUXTEL_DRP_IMAGING'\n",
      "  azimuth: 141.8306801509607\n",
      "  zenith_angle: 33.19597506681748\n",
      "  region: ConvexPolygon([UnitVector3d(0.0035152383143990584, 0.6073148284693342, -0.7944534865055702), UnitVector3d(0.001394113166435736, 0.6073234167581535, -0.7944534749786681), UnitVector3d(0.001400830301217226, 0.6089806909534257, -0.7931838095425016), UnitVector3d(0.0035219554621876803, 0.6089721025789298, -0.7931838211350001)])\n",
      "  timespan: Timespan(begin=astropy.time.Time('2022-11-10 05:10:38.071990', scale='tai', format='iso'), end=astropy.time.Time('2022-11-10 05:11:08.315000', scale='tai', format='iso'))\n",
      "visit:\n",
      "  instrument: 'LATISS'\n",
      "  id: 2022110800580\n",
      "  physical_filter: 'SDSSi_65mm~empty'\n",
      "  name: 'AT_O_20221108_000580'\n",
      "  day_obs: 20221108\n",
      "  seq_num: 580\n",
      "  exposure_time: 30.0\n",
      "  target_name: 'SPT-CL-J0559-5249_063'\n",
      "  observation_reason: 'object'\n",
      "  science_program: 'AUXTEL_DRP_IMAGING'\n",
      "  azimuth: 139.27777238604904\n",
      "  zenith_angle: 36.25017562667199\n",
      "  region: ConvexPolygon([UnitVector3d(-0.0014031665810288064, 0.6073223384722833, -0.7944542833392637), UnitVector3d(-0.0035242917214096405, 0.6073137483105336, -0.7944542721144321), UnitVector3d(-0.003530996614655318, 0.6089710242215567, -0.7931846088531064), UnitVector3d(-0.0014098714605740878, 0.608979614297738, -0.7931846201435344)])\n",
      "  timespan: Timespan(begin=astropy.time.Time('2022-11-09 04:54:12.359010', scale='tai', format='iso'), end=astropy.time.Time('2022-11-09 04:54:42.592000', scale='tai', format='iso'))\n",
      "visit:\n",
      "  instrument: 'LATISS'\n",
      "  id: 2022110800312\n",
      "  physical_filter: 'SDSSg_65mm~empty'\n",
      "  name: 'AT_O_20221108_000312'\n",
      "  day_obs: 20221108\n",
      "  seq_num: 312\n",
      "  exposure_time: 30.0\n",
      "  target_name: 'SMC_002'\n",
      "  observation_reason: 'object'\n",
      "  science_program: 'AUXTEL_DRP_IMAGING'\n",
      "  azimuth: 177.24749960418558\n",
      "  zenith_angle: 42.88302058138652\n",
      "  region: ConvexPolygon([UnitVector3d(0.28232851520106794, 0.05902374856317968, -0.9575002906578728), UnitVector3d(0.2818867121477936, 0.061098370387310336, -0.9575003240994344), UnitVector3d(0.2838412638077194, 0.061514613477751515, -0.9568960702650625), UnitVector3d(0.2842830667627937, 0.059439991619054396, -0.956896036854719)])\n",
      "  timespan: Timespan(begin=astropy.time.Time('2022-11-09 01:54:28.421003', scale='tai', format='iso'), end=astropy.time.Time('2022-11-09 01:54:58.663000', scale='tai', format='iso'))\n",
      "visit:\n",
      "  instrument: 'LATISS'\n",
      "  id: 2022110800341\n",
      "  physical_filter: 'SDSSi_65mm~empty'\n",
      "  name: 'AT_O_20221108_000341'\n",
      "  day_obs: 20221108\n",
      "  seq_num: 341\n",
      "  exposure_time: 30.0\n",
      "  target_name: 'SMC_013'\n",
      "  observation_reason: 'object'\n",
      "  science_program: 'AUXTEL_DRP_IMAGING'\n",
      "  azimuth: 178.8485606801114\n",
      "  zenith_angle: 42.6813703195221\n",
      "  region: ConvexPolygon([UnitVector3d(0.2828134859449024, 0.0641808911797833, -0.9570252584833178), UnitVector3d(0.28233635467060103, 0.06624767404146877, -0.9570253019201801), UnitVector3d(0.28428255057711493, 0.06669697969461719, -0.9564177666359956), UnitVector3d(0.2847596817538708, 0.06463019679670652, -0.9564177232305209)])\n",
      "  timespan: Timespan(begin=astropy.time.Time('2022-11-09 02:13:24.636003', scale='tai', format='iso'), end=astropy.time.Time('2022-11-09 02:13:54.864000', scale='tai', format='iso'))\n"
     ]
    }
   ],
   "source": [
    "for i, dt in enumerate(registry.queryDimensionRecords('visit',datasets=datasetType, collections=collections,\n",
    "                                             )):\n",
    "    print(dt)\n",
    "    if i > 10:\n",
    "        break"
   ]
  },
  {
   "cell_type": "code",
   "execution_count": null,
   "id": "3704c0d2-35f2-4bd1-bf2b-d033854a3e36",
   "metadata": {},
   "outputs": [],
   "source": [
    "for i, dt in enumerate(registry.queryDimensionRecords('visit',datasets=='calexp', collections=collections, \n",
    "                                                      where=\"visit.time < timespan_embargo_end AND ingest_date > timespan_embargo_begin\",\n",
    "                                                     bind={\"timespan_embargo_begin\": timespan_embargo.begin, \"timespan_embargo_end\": timespan_embargo.end},\n",
    "                                             )):\n",
    "    print(dt.id)\n",
    "    if i > 10:\n",
    "        break"
   ]
  }
 ],
 "metadata": {
  "kernelspec": {
   "display_name": "LSST",
   "language": "python",
   "name": "lsst"
  },
  "language_info": {
   "codemirror_mode": {
    "name": "ipython",
    "version": 3
   },
   "file_extension": ".py",
   "mimetype": "text/x-python",
   "name": "python",
   "nbconvert_exporter": "python",
   "pygments_lexer": "ipython3",
   "version": "3.11.4"
  }
 },
 "nbformat": 4,
 "nbformat_minor": 5
}
