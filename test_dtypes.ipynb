{
 "cells": [
  {
   "cell_type": "code",
   "execution_count": 1,
   "id": "11b73659-0460-4116-8ba8-275c76f49bcd",
   "metadata": {
    "execution": {
     "iopub.execute_input": "2023-10-06T16:40:18.226148Z",
     "iopub.status.busy": "2023-10-06T16:40:18.226013Z",
     "iopub.status.idle": "2023-10-06T16:40:18.716489Z",
     "shell.execute_reply": "2023-10-06T16:40:18.716156Z",
     "shell.execute_reply.started": "2023-10-06T16:40:18.226135Z"
    },
    "tags": []
   },
   "outputs": [
    {
     "data": {
      "text/plain": [
       "18"
      ]
     },
     "execution_count": 1,
     "metadata": {},
     "output_type": "execute_result"
    }
   ],
   "source": [
    "import astropy.time\n",
    "from lsst.daf.butler import Butler, Timespan\n",
    "import os\n",
    "os.umask(222)"
   ]
  },
  {
   "cell_type": "code",
   "execution_count": 2,
   "id": "f6c07dfc-c94a-45c8-9615-1547831d08ca",
   "metadata": {
    "execution": {
     "iopub.execute_input": "2023-10-06T16:40:20.534324Z",
     "iopub.status.busy": "2023-10-06T16:40:20.533823Z",
     "iopub.status.idle": "2023-10-06T16:40:23.323830Z",
     "shell.execute_reply": "2023-10-06T16:40:23.323397Z",
     "shell.execute_reply.started": "2023-10-06T16:40:20.534291Z"
    },
    "tags": []
   },
   "outputs": [],
   "source": [
    "butler = Butler('/repo/embargo')\n",
    "registry = butler.registry"
   ]
  },
  {
   "cell_type": "code",
   "execution_count": 3,
   "id": "5cd18f2b-fc22-4772-b6a1-0843b874cdfc",
   "metadata": {
    "execution": {
     "iopub.execute_input": "2023-10-06T16:40:28.682688Z",
     "iopub.status.busy": "2023-10-06T16:40:28.682226Z",
     "iopub.status.idle": "2023-10-06T16:40:28.767442Z",
     "shell.execute_reply": "2023-10-06T16:40:28.767071Z",
     "shell.execute_reply.started": "2023-10-06T16:40:28.682671Z"
    },
    "tags": []
   },
   "outputs": [],
   "source": [
    "scratch_butler = Butler('/home/r/rnevin/scratch', writeable=True)\n",
    "scratch_registry = scratch_butler.registry"
   ]
  },
  {
   "cell_type": "code",
   "execution_count": 4,
   "id": "e71008a4-c7a9-4e23-be09-5b72360313fe",
   "metadata": {
    "execution": {
     "iopub.execute_input": "2023-10-06T16:41:22.182026Z",
     "iopub.status.busy": "2023-10-06T16:41:22.181808Z",
     "iopub.status.idle": "2023-10-06T16:41:22.184656Z",
     "shell.execute_reply": "2023-10-06T16:41:22.184251Z",
     "shell.execute_reply.started": "2023-10-06T16:41:22.182011Z"
    },
    "tags": []
   },
   "outputs": [],
   "source": [
    "datasetType = 'deepCoadd'\n",
    "collections = 'LATISS/runs/AUXTEL_DRP_IMAGING_2023-08A-07AB-05AB/w_2023_33/PREOPS-3613'\n",
    "dataId = {'band':'i'}"
   ]
  },
  {
   "cell_type": "code",
   "execution_count": 5,
   "id": "197ace89-dca9-4b07-9935-bb88f1a7b847",
   "metadata": {
    "execution": {
     "iopub.execute_input": "2023-10-06T16:41:53.159883Z",
     "iopub.status.busy": "2023-10-06T16:41:53.159310Z",
     "iopub.status.idle": "2023-10-06T16:41:53.173340Z",
     "shell.execute_reply": "2023-10-06T16:41:53.172933Z",
     "shell.execute_reply.started": "2023-10-06T16:41:53.159869Z"
    },
    "tags": []
   },
   "outputs": [],
   "source": [
    "now = astropy.time.Time.now().tai\n",
    "#now_raw = \"2023-09-16 01:35:30.002737\" #01:35:48.002737\n",
    "#now = astropy.time.Time(now_raw, scale=\"tai\", format=\"iso\")\n",
    "embargo_hours = 80.0\n",
    "embargo_period = astropy.time.TimeDelta(\n",
    "        embargo_hours * 3600.0, format=\"sec\"\n",
    "    )\n",
    "timespan_embargo = Timespan(now - embargo_period, None)\n",
    "# timespan_embargo = Timespan(now - embargo_period, now)"
   ]
  },
  {
   "cell_type": "code",
   "execution_count": 6,
   "id": "043011f2-2fd8-4ede-9f43-4ff856922de3",
   "metadata": {
    "execution": {
     "iopub.execute_input": "2023-10-06T16:41:55.577396Z",
     "iopub.status.busy": "2023-10-06T16:41:55.577108Z",
     "iopub.status.idle": "2023-10-06T16:41:55.580454Z",
     "shell.execute_reply": "2023-10-06T16:41:55.580111Z",
     "shell.execute_reply.started": "2023-10-06T16:41:55.577381Z"
    },
    "tags": []
   },
   "outputs": [
    {
     "data": {
      "text/plain": [
       "<Time object: scale='tai' format='datetime' value=2023-10-06 16:42:30.160825>"
      ]
     },
     "execution_count": 6,
     "metadata": {},
     "output_type": "execute_result"
    }
   ],
   "source": [
    "now"
   ]
  },
  {
   "cell_type": "code",
   "execution_count": 7,
   "id": "611b4873-322b-4708-9e43-55506c4fa721",
   "metadata": {
    "execution": {
     "iopub.execute_input": "2023-10-06T16:42:00.821785Z",
     "iopub.status.busy": "2023-10-06T16:42:00.821598Z",
     "iopub.status.idle": "2023-10-06T16:42:00.824937Z",
     "shell.execute_reply": "2023-10-06T16:42:00.824589Z",
     "shell.execute_reply.started": "2023-10-06T16:42:00.821772Z"
    },
    "tags": []
   },
   "outputs": [
    {
     "data": {
      "text/plain": [
       "Timespan(begin=astropy.time.Time('2023-10-03 08:42:30.160825', scale='tai', format='iso'), end=None)"
      ]
     },
     "execution_count": 7,
     "metadata": {},
     "output_type": "execute_result"
    }
   ],
   "source": [
    "timespan_embargo"
   ]
  },
  {
   "cell_type": "code",
   "execution_count": 8,
   "id": "c06aaf3e-8eaf-43d8-ac27-2596168bbe6c",
   "metadata": {
    "execution": {
     "iopub.execute_input": "2023-10-06T16:42:05.971875Z",
     "iopub.status.busy": "2023-10-06T16:42:05.971414Z",
     "iopub.status.idle": "2023-10-06T16:42:05.974674Z",
     "shell.execute_reply": "2023-10-06T16:42:05.974392Z",
     "shell.execute_reply.started": "2023-10-06T16:42:05.971859Z"
    },
    "tags": []
   },
   "outputs": [
    {
     "data": {
      "text/plain": [
       "<Time object: scale='tai' format='iso' value=2023-10-03 08:42:30.160825>"
      ]
     },
     "execution_count": 8,
     "metadata": {},
     "output_type": "execute_result"
    }
   ],
   "source": [
    "timespan_embargo.begin"
   ]
  },
  {
   "cell_type": "code",
   "execution_count": 9,
   "id": "ab4bc4ad-ef73-4474-a4d9-7153d3f986fd",
   "metadata": {
    "execution": {
     "iopub.execute_input": "2023-10-06T16:43:32.831214Z",
     "iopub.status.busy": "2023-10-06T16:43:32.830940Z",
     "iopub.status.idle": "2023-10-06T16:43:32.852558Z",
     "shell.execute_reply": "2023-10-06T16:43:32.852257Z",
     "shell.execute_reply.started": "2023-10-06T16:43:32.831200Z"
    },
    "tags": []
   },
   "outputs": [],
   "source": [
    "datasetRefs = registry.queryDatasets(\n",
    "            datasetType=datasetType,\n",
    "            collections=collections,\n",
    "            where=\"ingest_date <= timespan_embargo_begin\",\n",
    "            bind={\"timespan_embargo_begin\": timespan_embargo.begin},\n",
    "        )"
   ]
  },
  {
   "cell_type": "code",
   "execution_count": 10,
   "id": "1f83aa1d-9253-4725-9775-9d58fc570f7f",
   "metadata": {
    "execution": {
     "iopub.execute_input": "2023-10-06T16:43:34.812717Z",
     "iopub.status.busy": "2023-10-06T16:43:34.812403Z",
     "iopub.status.idle": "2023-10-06T16:43:34.844782Z",
     "shell.execute_reply": "2023-10-06T16:43:34.844424Z",
     "shell.execute_reply.started": "2023-10-06T16:43:34.812701Z"
    },
    "tags": []
   },
   "outputs": [
    {
     "name": "stdout",
     "output_type": "stream",
     "text": [
      "363\n",
      "[UUID('e5c9aa36-3634-4aa7-b4fa-214f5a72ad4b'), UUID('d772e2f9-0741-4c00-b8d9-3d9bdd7da305'), UUID('c5fffb5e-b166-43b1-bad1-d5afcc916657'), UUID('72744dfb-eef5-47e6-9fed-ea3e255846d7'), UUID('5232cbaa-25a8-4ddb-b98c-d3983c0e184a'), UUID('d99bdf5b-f818-4c3e-a073-3705c787a8de'), UUID('f66da4ff-00e5-4b50-98d6-024a6fa3b121'), UUID('5e4dfb0d-aba9-4131-9f5d-e39e25d487e5'), UUID('0c38dcb5-9e76-4b9a-9f65-344d27fdb8aa'), UUID('cb263364-0034-4786-b9de-2b90c9c0d91f')]\n"
     ]
    }
   ],
   "source": [
    "ids_to_move = [dt.id for dt in datasetRefs]\n",
    "print(len(ids_to_move))\n",
    "print(ids_to_move[0:10])"
   ]
  },
  {
   "cell_type": "code",
   "execution_count": null,
   "id": "e129eb51-3fbf-4e66-bab1-c7da3e439a68",
   "metadata": {},
   "outputs": [],
   "source": []
  },
  {
   "cell_type": "code",
   "execution_count": null,
   "id": "ff950141-6e9f-457d-8336-6b3c050c892e",
   "metadata": {},
   "outputs": [],
   "source": []
  },
  {
   "cell_type": "code",
   "execution_count": null,
   "id": "dc2be694-6022-422a-812b-a094d43806fd",
   "metadata": {
    "tags": []
   },
   "outputs": [],
   "source": [
    "for i, dt in enumerate(registry.queryDatasets(datasetType=datasetType, collections=collections, \n",
    "                                                      where=\"ingest_date < T'2023-09-28 18:26:02.626054'\",\n",
    "                                                     )):\n",
    "    print(dt)\n",
    "    if i > 10:\n",
    "        break"
   ]
  },
  {
   "cell_type": "code",
   "execution_count": null,
   "id": "f336c081-f42f-42cd-ba87-70811bbccc45",
   "metadata": {
    "tags": []
   },
   "outputs": [],
   "source": [
    "for i, dt in enumerate(registry.queryDatasets(datasetType=datasetType, collections=collections, \n",
    "                                                      where=\"ingest_date < T'2023-09-28 18:26:02.626054' AND ingest_date > T'2023-08-18 02:45:53.173467'\",\n",
    "                                                     )):\n",
    "    print(dt.id)\n",
    "    if i > 10:\n",
    "        break"
   ]
  },
  {
   "cell_type": "code",
   "execution_count": null,
   "id": "46b2f3b9-d250-4b41-bda1-a273ea725807",
   "metadata": {
    "tags": []
   },
   "outputs": [],
   "source": [
    "timespan_embargo"
   ]
  },
  {
   "cell_type": "code",
   "execution_count": null,
   "id": "4c06c65a-5337-458a-889d-9568c73fc65b",
   "metadata": {
    "tags": []
   },
   "outputs": [],
   "source": [
    "for i, dt in enumerate(registry.queryDatasets(datasetType=datasetType, collections=collections, \n",
    "                                                      where=\"ingest_date < timespan_embargo_begin\",\n",
    "                                                     bind={\"timespan_embargo_begin\": timespan_embargo.begin},\n",
    "                                             )):\n",
    "    print(dt)\n",
    "    if i > 10:\n",
    "        break"
   ]
  },
  {
   "cell_type": "code",
   "execution_count": null,
   "id": "60110a4e-08fe-4360-aed7-24d377944fae",
   "metadata": {
    "tags": []
   },
   "outputs": [],
   "source": [
    "for i, dt in enumerate(registry.queryDatasets(datasetType=datasetType, collections=collections, \n",
    "                                                      where=\"ingest_date < timespan_embargo_end AND ingest_date > timespan_embargo_begin\",\n",
    "                                                     bind={\"timespan_embargo_begin\": timespan_embargo.begin, \"timespan_embargo_end\": timespan_embargo.end},\n",
    "                                             )):\n",
    "    print(dt)\n",
    "    if i > 10:\n",
    "        break"
   ]
  },
  {
   "cell_type": "code",
   "execution_count": null,
   "id": "176e2c37-87b3-47bd-836a-f6ae6518539b",
   "metadata": {},
   "outputs": [],
   "source": [
    "now = astropy.time.Time.now().tai\n",
    "embargo_hours = 1000.0\n",
    "embargo_period = astropy.time.TimeDelta(\n",
    "        embargo_hours * 3600.0, format=\"sec\"\n",
    "    )\n",
    "timespan_embargo = Timespan(now - embargo_period, None)\n",
    "# timespan_embargo = Timespan(now - embargo_period, now)"
   ]
  },
  {
   "cell_type": "code",
   "execution_count": null,
   "id": "8aa25c4c-35e6-4313-b142-1112b6ab3561",
   "metadata": {
    "tags": []
   },
   "outputs": [],
   "source": [
    "for i, dt in enumerate(registry.queryDatasets(datasetType=datasetType, collections=collections, \n",
    "                                                      where=\"ingest_date < timespan_embargo_end AND ingest_date > timespan_embargo_begin\",\n",
    "                                                     bind={\"timespan_embargo_begin\": timespan_embargo.begin, \"timespan_embargo_end\": timespan_embargo.end},\n",
    "                                             )):\n",
    "    print(dt.id)\n",
    "    if i > 10:\n",
    "        break"
   ]
  },
  {
   "cell_type": "code",
   "execution_count": null,
   "id": "9be0d3d3-394c-4b73-b237-8744dec108d3",
   "metadata": {
    "tags": []
   },
   "outputs": [],
   "source": [
    "# for dt in registry.queryDimensionRecords(\"exposure\",datasets=datasetType,collections=collections,\n",
    "#             where=\"exposure.timespan OVERLAPS timespan_embargo\",\n",
    "#             bind={\"timespan_embargo\": timespan_embargo},\n",
    "#         ):\n",
    "#     print(dt.id)\n",
    "#     if i > 10:\n",
    "#         break"
   ]
  },
  {
   "cell_type": "markdown",
   "id": "0d137743-15a6-464e-9dc0-9e3941145d4e",
   "metadata": {},
   "source": [
    "## check if exposure and vist dimension exist"
   ]
  },
  {
   "cell_type": "code",
   "execution_count": null,
   "id": "5326a27d-8ef5-4731-a56b-e53e27572eea",
   "metadata": {
    "tags": []
   },
   "outputs": [],
   "source": [
    "datasetType = 'goodSeeingCoadd'\n",
    "collections = 'LATISS/runs/AUXTEL_DRP_IMAGING_2023-08ABC-07AB-05AB/w_2023_35/PREOPS-3726/20230912T151732Z'"
   ]
  },
  {
   "cell_type": "code",
   "execution_count": null,
   "id": "29a8734f-8a2b-49d9-a892-7ab0759b34d7",
   "metadata": {
    "tags": []
   },
   "outputs": [],
   "source": [
    "for dt in sorted(registry.queryDatasetTypes(datasetType)):\n",
    "    print(dt)"
   ]
  },
  {
   "cell_type": "code",
   "execution_count": null,
   "id": "349d975a-7689-422a-a059-eba555b61cfa",
   "metadata": {
    "tags": []
   },
   "outputs": [],
   "source": [
    "datasetType = 'raw'\n",
    "collections = 'LATISS/raw/all/'"
   ]
  },
  {
   "cell_type": "code",
   "execution_count": null,
   "id": "5933e370-49f6-4dc8-b9a8-dfd4902decda",
   "metadata": {
    "tags": []
   },
   "outputs": [],
   "source": [
    "for dt in sorted(registry.queryDatasetTypes(datasetType)):\n",
    "    print(dt)"
   ]
  },
  {
   "cell_type": "code",
   "execution_count": null,
   "id": "240475ab-1f3f-42f9-84f7-0b326c6fcd13",
   "metadata": {
    "tags": []
   },
   "outputs": [],
   "source": [
    "# for c in sorted(registry.queryCollections(datasetType='calexp')):\n",
    "#     print(c)"
   ]
  },
  {
   "cell_type": "code",
   "execution_count": null,
   "id": "f298c042-5711-45bd-a3d0-d4ead3ed06ce",
   "metadata": {
    "tags": []
   },
   "outputs": [],
   "source": [
    "datasetType = 'calexp'\n",
    "collections = 'LATISS/runs/AUXTEL_DRP_IMAGING_2022-11A/w_2022_46/PREOPS-1616'\n",
    "for dt in sorted(registry.queryDatasetTypes(datasetType)):\n",
    "    print(dt)"
   ]
  },
  {
   "cell_type": "code",
   "execution_count": null,
   "id": "d32da0a0-ab46-427a-a530-72b14e619de3",
   "metadata": {
    "tags": []
   },
   "outputs": [],
   "source": [
    "for dt in sorted(registry.queryDatasetTypes(datasetType)):\n",
    "    print(dt)"
   ]
  },
  {
   "cell_type": "code",
   "execution_count": null,
   "id": "9dcb0e39-7ed9-4368-ab81-e0882eaf9ef3",
   "metadata": {
    "tags": []
   },
   "outputs": [],
   "source": [
    "# for dt in sorted(registry.queryDatasetTypes()):\n",
    "#     print(dt)"
   ]
  },
  {
   "cell_type": "code",
   "execution_count": null,
   "id": "460c91f4-60d5-440c-8b08-326830c54c16",
   "metadata": {
    "tags": []
   },
   "outputs": [],
   "source": [
    "for dt in sorted(registry.queryDatasetTypes('calexp')):\n",
    "    print(dt)"
   ]
  },
  {
   "cell_type": "code",
   "execution_count": null,
   "id": "b4e1c249-06bf-48ec-a6ee-d269ca6cf2f1",
   "metadata": {
    "tags": []
   },
   "outputs": [],
   "source": [
    "for dt in sorted(registry.queryDatasetTypes('calexp.*')):\n",
    "    print(dt)"
   ]
  },
  {
   "cell_type": "code",
   "execution_count": null,
   "id": "3a035355-115a-476f-8906-dbb95c57ae8f",
   "metadata": {
    "tags": []
   },
   "outputs": [],
   "source": [
    "for i, dt in enumerate(registry.queryDimensionRecords('exposure',datasets=datasetType, collections=collections,\n",
    "                                             )):\n",
    "    print(dt)\n",
    "    if i > 10:\n",
    "        break"
   ]
  },
  {
   "cell_type": "code",
   "execution_count": null,
   "id": "85b4f5b2-9fb8-4dee-8f32-48835f4fbe4e",
   "metadata": {
    "tags": []
   },
   "outputs": [],
   "source": [
    "for i, dt in enumerate(registry.queryDimensionRecords('visit',datasets=datasetType, collections=collections,\n",
    "                                             )):\n",
    "    print(dt)\n",
    "    if i > 10:\n",
    "        break"
   ]
  },
  {
   "cell_type": "code",
   "execution_count": null,
   "id": "3704c0d2-35f2-4bd1-bf2b-d033854a3e36",
   "metadata": {},
   "outputs": [],
   "source": [
    "for i, dt in enumerate(registry.queryDimensionRecords('visit',datasets=='calexp', collections=collections, \n",
    "                                                      where=\"visit.time < timespan_embargo_end AND ingest_date > timespan_embargo_begin\",\n",
    "                                                     bind={\"timespan_embargo_begin\": timespan_embargo.begin, \"timespan_embargo_end\": timespan_embargo.end},\n",
    "                                             )):\n",
    "    print(dt.id)\n",
    "    if i > 10:\n",
    "        break"
   ]
  }
 ],
 "metadata": {
  "kernelspec": {
   "display_name": "LSST",
   "language": "python",
   "name": "lsst"
  },
  "language_info": {
   "codemirror_mode": {
    "name": "ipython",
    "version": 3
   },
   "file_extension": ".py",
   "mimetype": "text/x-python",
   "name": "python",
   "nbconvert_exporter": "python",
   "pygments_lexer": "ipython3",
   "version": "3.11.4"
  }
 },
 "nbformat": 4,
 "nbformat_minor": 5
}
