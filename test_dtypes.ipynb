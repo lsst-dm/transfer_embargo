{
 "cells": [
  {
   "cell_type": "code",
   "execution_count": 1,
   "id": "11b73659-0460-4116-8ba8-275c76f49bcd",
   "metadata": {
    "execution": {
     "iopub.execute_input": "2023-11-20T22:47:48.142590Z",
     "iopub.status.busy": "2023-11-20T22:47:48.142392Z",
     "iopub.status.idle": "2023-11-20T22:47:48.627258Z",
     "shell.execute_reply": "2023-11-20T22:47:48.626848Z",
     "shell.execute_reply.started": "2023-11-20T22:47:48.142577Z"
    },
    "tags": []
   },
   "outputs": [
    {
     "data": {
      "text/plain": [
       "18"
      ]
     },
     "execution_count": 1,
     "metadata": {},
     "output_type": "execute_result"
    }
   ],
   "source": [
    "import astropy.time\n",
    "from lsst.daf.butler import Butler, Timespan\n",
    "import os\n",
    "os.umask(222)"
   ]
  },
  {
   "cell_type": "code",
   "execution_count": 2,
   "id": "f6c07dfc-c94a-45c8-9615-1547831d08ca",
   "metadata": {
    "execution": {
     "iopub.execute_input": "2023-11-20T22:47:49.687291Z",
     "iopub.status.busy": "2023-11-20T22:47:49.687111Z",
     "iopub.status.idle": "2023-11-20T22:47:52.271094Z",
     "shell.execute_reply": "2023-11-20T22:47:52.270618Z",
     "shell.execute_reply.started": "2023-11-20T22:47:49.687278Z"
    },
    "tags": []
   },
   "outputs": [],
   "source": [
    "butler = Butler('/repo/embargo')\n",
    "registry = butler.registry"
   ]
  },
  {
   "cell_type": "code",
   "execution_count": 3,
   "id": "5cd18f2b-fc22-4772-b6a1-0843b874cdfc",
   "metadata": {
    "execution": {
     "iopub.execute_input": "2023-11-20T22:47:57.183483Z",
     "iopub.status.busy": "2023-11-20T22:47:57.183304Z",
     "iopub.status.idle": "2023-11-20T22:47:57.267897Z",
     "shell.execute_reply": "2023-11-20T22:47:57.267465Z",
     "shell.execute_reply.started": "2023-11-20T22:47:57.183469Z"
    },
    "tags": []
   },
   "outputs": [],
   "source": [
    "scratch_butler = Butler('/home/j/jarugula/scratch', writeable=True)\n",
    "scratch_registry = scratch_butler.registry"
   ]
  },
  {
   "cell_type": "code",
   "execution_count": 16,
   "id": "e71008a4-c7a9-4e23-be09-5b72360313fe",
   "metadata": {
    "execution": {
     "iopub.execute_input": "2023-11-20T22:50:19.859222Z",
     "iopub.status.busy": "2023-11-20T22:50:19.858583Z",
     "iopub.status.idle": "2023-11-20T22:50:19.861358Z",
     "shell.execute_reply": "2023-11-20T22:50:19.860982Z",
     "shell.execute_reply.started": "2023-11-20T22:50:19.859196Z"
    },
    "tags": []
   },
   "outputs": [],
   "source": [
    "# datasetType = 'deepCoadd'\n",
    "# collections = 'LATISS/runs/AUXTEL_DRP_IMAGING_2023-08A-07AB-05AB/w_2023_33/PREOPS-3613'\n",
    "datasetTypeList = [\"raw\"]\n",
    "collections = 'LATISS/raw/all'\n",
    "dataId = {'band':'i'}"
   ]
  },
  {
   "cell_type": "code",
   "execution_count": 19,
   "id": "890cd318-081a-4925-915c-d787454f8da2",
   "metadata": {
    "execution": {
     "iopub.execute_input": "2023-11-20T22:56:19.239511Z",
     "iopub.status.busy": "2023-11-20T22:56:19.239304Z",
     "iopub.status.idle": "2023-11-20T22:56:19.241504Z",
     "shell.execute_reply": "2023-11-20T22:56:19.241220Z",
     "shell.execute_reply.started": "2023-11-20T22:56:19.239498Z"
    },
    "tags": []
   },
   "outputs": [],
   "source": [
    "import ast"
   ]
  },
  {
   "cell_type": "code",
   "execution_count": 20,
   "id": "6f09c857-3761-4e24-837f-1920ddf7cee5",
   "metadata": {
    "execution": {
     "iopub.execute_input": "2023-11-20T22:56:32.793132Z",
     "iopub.status.busy": "2023-11-20T22:56:32.792702Z",
     "iopub.status.idle": "2023-11-20T22:56:32.795499Z",
     "shell.execute_reply": "2023-11-20T22:56:32.795211Z",
     "shell.execute_reply.started": "2023-11-20T22:56:32.793117Z"
    },
    "tags": []
   },
   "outputs": [
    {
     "name": "stdout",
     "output_type": "stream",
     "text": [
      "['raw']\n"
     ]
    }
   ],
   "source": [
    "input_list = '[\"raw\"]'\n",
    "new_list = ast.literal_eval(input_list)\n",
    "print(new_list)"
   ]
  },
  {
   "cell_type": "code",
   "execution_count": 29,
   "id": "f0e32c4e-4e72-45ff-b108-fb331bd11401",
   "metadata": {
    "execution": {
     "iopub.execute_input": "2023-11-20T23:11:29.138186Z",
     "iopub.status.busy": "2023-11-20T23:11:29.137881Z",
     "iopub.status.idle": "2023-11-20T23:11:29.140350Z",
     "shell.execute_reply": "2023-11-20T23:11:29.140038Z",
     "shell.execute_reply.started": "2023-11-20T23:11:29.138169Z"
    },
    "tags": []
   },
   "outputs": [],
   "source": [
    "import json"
   ]
  },
  {
   "cell_type": "code",
   "execution_count": 30,
   "id": "129eb896-e687-404b-b4fd-1f0f99f0549c",
   "metadata": {
    "execution": {
     "iopub.execute_input": "2023-11-20T23:11:36.620575Z",
     "iopub.status.busy": "2023-11-20T23:11:36.620368Z",
     "iopub.status.idle": "2023-11-20T23:11:36.623410Z",
     "shell.execute_reply": "2023-11-20T23:11:36.623116Z",
     "shell.execute_reply.started": "2023-11-20T23:11:36.620560Z"
    },
    "tags": []
   },
   "outputs": [
    {
     "data": {
      "text/plain": [
       "['raw']"
      ]
     },
     "execution_count": 30,
     "metadata": {},
     "output_type": "execute_result"
    }
   ],
   "source": [
    "json.loads(input_list)"
   ]
  },
  {
   "cell_type": "code",
   "execution_count": 5,
   "id": "197ace89-dca9-4b07-9935-bb88f1a7b847",
   "metadata": {
    "execution": {
     "iopub.execute_input": "2023-11-20T22:48:27.205201Z",
     "iopub.status.busy": "2023-11-20T22:48:27.205030Z",
     "iopub.status.idle": "2023-11-20T22:48:27.216223Z",
     "shell.execute_reply": "2023-11-20T22:48:27.215876Z",
     "shell.execute_reply.started": "2023-11-20T22:48:27.205189Z"
    },
    "tags": []
   },
   "outputs": [],
   "source": [
    "now = astropy.time.Time.now().tai\n",
    "#now_raw = \"2023-09-16 01:35:30.002737\" #01:35:48.002737\n",
    "#now = astropy.time.Time(now_raw, scale=\"tai\", format=\"iso\")\n",
    "embargo_hours = 80.0\n",
    "embargo_period = astropy.time.TimeDelta(\n",
    "        embargo_hours * 3600.0, format=\"sec\"\n",
    "    )\n",
    "timespan_embargo = Timespan(now - embargo_period, None)\n",
    "# timespan_embargo = Timespan(now - embargo_period, now)"
   ]
  },
  {
   "cell_type": "code",
   "execution_count": 6,
   "id": "043011f2-2fd8-4ede-9f43-4ff856922de3",
   "metadata": {
    "execution": {
     "iopub.execute_input": "2023-11-20T22:48:27.765676Z",
     "iopub.status.busy": "2023-11-20T22:48:27.765312Z",
     "iopub.status.idle": "2023-11-20T22:48:27.768354Z",
     "shell.execute_reply": "2023-11-20T22:48:27.768008Z",
     "shell.execute_reply.started": "2023-11-20T22:48:27.765663Z"
    },
    "tags": []
   },
   "outputs": [
    {
     "data": {
      "text/plain": [
       "<Time object: scale='tai' format='datetime' value=2023-11-20 22:49:04.206111>"
      ]
     },
     "execution_count": 6,
     "metadata": {},
     "output_type": "execute_result"
    }
   ],
   "source": [
    "now"
   ]
  },
  {
   "cell_type": "code",
   "execution_count": 7,
   "id": "611b4873-322b-4708-9e43-55506c4fa721",
   "metadata": {
    "execution": {
     "iopub.execute_input": "2023-11-20T22:48:29.237949Z",
     "iopub.status.busy": "2023-11-20T22:48:29.237766Z",
     "iopub.status.idle": "2023-11-20T22:48:29.241028Z",
     "shell.execute_reply": "2023-11-20T22:48:29.240684Z",
     "shell.execute_reply.started": "2023-11-20T22:48:29.237937Z"
    },
    "tags": []
   },
   "outputs": [
    {
     "data": {
      "text/plain": [
       "Timespan(begin=astropy.time.Time('2023-11-17 14:49:04.206111', scale='tai', format='iso'), end=None)"
      ]
     },
     "execution_count": 7,
     "metadata": {},
     "output_type": "execute_result"
    }
   ],
   "source": [
    "timespan_embargo"
   ]
  },
  {
   "cell_type": "code",
   "execution_count": 8,
   "id": "c06aaf3e-8eaf-43d8-ac27-2596168bbe6c",
   "metadata": {
    "execution": {
     "iopub.execute_input": "2023-11-20T22:48:30.477297Z",
     "iopub.status.busy": "2023-11-20T22:48:30.476982Z",
     "iopub.status.idle": "2023-11-20T22:48:30.480247Z",
     "shell.execute_reply": "2023-11-20T22:48:30.479796Z",
     "shell.execute_reply.started": "2023-11-20T22:48:30.477282Z"
    },
    "tags": []
   },
   "outputs": [
    {
     "data": {
      "text/plain": [
       "<Time object: scale='tai' format='iso' value=2023-11-17 14:49:04.206111>"
      ]
     },
     "execution_count": 8,
     "metadata": {},
     "output_type": "execute_result"
    }
   ],
   "source": [
    "timespan_embargo.begin"
   ]
  },
  {
   "cell_type": "code",
   "execution_count": 21,
   "id": "4259e65c-13e8-40f4-837a-7956d0eae1b2",
   "metadata": {
    "execution": {
     "iopub.execute_input": "2023-11-20T22:58:39.508462Z",
     "iopub.status.busy": "2023-11-20T22:58:39.508199Z",
     "iopub.status.idle": "2023-11-20T22:58:39.511020Z",
     "shell.execute_reply": "2023-11-20T22:58:39.510735Z",
     "shell.execute_reply.started": "2023-11-20T22:58:39.508449Z"
    },
    "tags": []
   },
   "outputs": [
    {
     "name": "stdout",
     "output_type": "stream",
     "text": [
      "raw\n"
     ]
    }
   ],
   "source": [
    "for dtype in new_list:\n",
    "    if any(\n",
    "            dim in [\"exposure\", \"visit\"]\n",
    "            for dim in [\n",
    "                d.name for d in registry.queryDatasetTypes(dtype)[0].dimensions\n",
    "            ]\n",
    "        ):\n",
    "            print(dtype)"
   ]
  },
  {
   "cell_type": "code",
   "execution_count": 28,
   "id": "a7558e91-8bdd-4bdd-b00e-f62e7acb401d",
   "metadata": {
    "execution": {
     "iopub.execute_input": "2023-11-20T23:06:31.608089Z",
     "iopub.status.busy": "2023-11-20T23:06:31.607732Z",
     "iopub.status.idle": "2023-11-20T23:06:31.610905Z",
     "shell.execute_reply": "2023-11-20T23:06:31.610526Z",
     "shell.execute_reply.started": "2023-11-20T23:06:31.608073Z"
    },
    "tags": []
   },
   "outputs": [
    {
     "name": "stdout",
     "output_type": "stream",
     "text": [
      "[DatasetType('raw', {band, instrument, detector, physical_filter, exposure}, Exposure)]\n",
      "DatasetType('raw', {band, instrument, detector, physical_filter, exposure}, Exposure)\n",
      "{band, instrument, detector, physical_filter, exposure}\n"
     ]
    }
   ],
   "source": [
    "print(registry.queryDatasetTypes(dtype))\n",
    "# print(registry.queryDatasetTypes(dtype).dimensions)\n",
    "print(registry.queryDatasetTypes(dtype)[0])\n",
    "print(registry.queryDatasetTypes(dtype)[0].dimensions)"
   ]
  },
  {
   "cell_type": "code",
   "execution_count": 22,
   "id": "6e497a86-9da1-4594-861e-4bad53836c20",
   "metadata": {
    "execution": {
     "iopub.execute_input": "2023-11-20T23:03:13.247753Z",
     "iopub.status.busy": "2023-11-20T23:03:13.247454Z",
     "iopub.status.idle": "2023-11-20T23:03:13.250626Z",
     "shell.execute_reply": "2023-11-20T23:03:13.250228Z",
     "shell.execute_reply.started": "2023-11-20T23:03:13.247719Z"
    },
    "tags": []
   },
   "outputs": [
    {
     "name": "stdout",
     "output_type": "stream",
     "text": [
      "band\n",
      "instrument\n",
      "detector\n",
      "physical_filter\n",
      "exposure\n"
     ]
    }
   ],
   "source": [
    "for dim in [d.name for d in registry.queryDatasetTypes(dtype)[0].dimensions]:\n",
    "    print(dim)"
   ]
  },
  {
   "cell_type": "code",
   "execution_count": 9,
   "id": "ab4bc4ad-ef73-4474-a4d9-7153d3f986fd",
   "metadata": {
    "execution": {
     "iopub.execute_input": "2023-11-20T22:48:31.007016Z",
     "iopub.status.busy": "2023-11-20T22:48:31.006543Z",
     "iopub.status.idle": "2023-11-20T22:48:31.029313Z",
     "shell.execute_reply": "2023-11-20T22:48:31.028932Z",
     "shell.execute_reply.started": "2023-11-20T22:48:31.007000Z"
    },
    "tags": []
   },
   "outputs": [],
   "source": [
    "datasetRefs = registry.queryDatasets(\n",
    "            datasetType=datasetType,\n",
    "            collections=collections,\n",
    "            where=\"ingest_date <= timespan_embargo_begin\",\n",
    "            bind={\"timespan_embargo_begin\": timespan_embargo.begin},\n",
    "        )"
   ]
  },
  {
   "cell_type": "code",
   "execution_count": 10,
   "id": "1f83aa1d-9253-4725-9775-9d58fc570f7f",
   "metadata": {
    "execution": {
     "iopub.execute_input": "2023-11-20T22:48:34.833791Z",
     "iopub.status.busy": "2023-11-20T22:48:34.833566Z",
     "iopub.status.idle": "2023-11-20T22:48:36.493193Z",
     "shell.execute_reply": "2023-11-20T22:48:36.492746Z",
     "shell.execute_reply.started": "2023-11-20T22:48:34.833778Z"
    },
    "tags": []
   },
   "outputs": [
    {
     "name": "stdout",
     "output_type": "stream",
     "text": [
      "65258\n",
      "[UUID('cfd59ff4-4991-5093-b499-b3aff2d2089c'), UUID('3f2dbc8c-ef8a-5b8e-a4ec-2e5b0bd34630'), UUID('de83ad4d-85ea-52fe-b4ee-5a7cfeb1d138'), UUID('c21d8455-7095-5e0f-9c76-d2062b332324'), UUID('df01066d-f92c-5cfa-81a2-86bb5bf31233'), UUID('8ae532f2-b1d4-5879-a8f4-3a6282651690'), UUID('e5a423e9-44ee-5a5d-97f4-09f6b176fd29'), UUID('1271fdea-134b-55b5-a0f4-563548d7c1ad'), UUID('d8975b39-6873-53e0-aa7f-d8781ceaaec7'), UUID('1ad91a1c-be3c-54e3-a2f1-c24724e6f7ac')]\n"
     ]
    }
   ],
   "source": [
    "ids_to_move = [dt.id for dt in datasetRefs]\n",
    "print(len(ids_to_move))\n",
    "print(ids_to_move[0:10])"
   ]
  },
  {
   "cell_type": "code",
   "execution_count": null,
   "id": "e129eb51-3fbf-4e66-bab1-c7da3e439a68",
   "metadata": {},
   "outputs": [],
   "source": []
  },
  {
   "cell_type": "code",
   "execution_count": null,
   "id": "ff950141-6e9f-457d-8336-6b3c050c892e",
   "metadata": {},
   "outputs": [],
   "source": []
  },
  {
   "cell_type": "code",
   "execution_count": null,
   "id": "dc2be694-6022-422a-812b-a094d43806fd",
   "metadata": {
    "tags": []
   },
   "outputs": [],
   "source": [
    "for i, dt in enumerate(registry.queryDatasets(datasetType=datasetType, collections=collections, \n",
    "                                                      where=\"ingest_date < T'2023-09-28 18:26:02.626054'\",\n",
    "                                                     )):\n",
    "    print(dt)\n",
    "    if i > 10:\n",
    "        break"
   ]
  },
  {
   "cell_type": "code",
   "execution_count": null,
   "id": "f336c081-f42f-42cd-ba87-70811bbccc45",
   "metadata": {
    "tags": []
   },
   "outputs": [],
   "source": [
    "for i, dt in enumerate(registry.queryDatasets(datasetType=datasetType, collections=collections, \n",
    "                                                      where=\"ingest_date < T'2023-09-28 18:26:02.626054' AND ingest_date > T'2023-08-18 02:45:53.173467'\",\n",
    "                                                     )):\n",
    "    print(dt.id)\n",
    "    if i > 10:\n",
    "        break"
   ]
  },
  {
   "cell_type": "code",
   "execution_count": null,
   "id": "46b2f3b9-d250-4b41-bda1-a273ea725807",
   "metadata": {
    "tags": []
   },
   "outputs": [],
   "source": [
    "timespan_embargo"
   ]
  },
  {
   "cell_type": "code",
   "execution_count": null,
   "id": "4c06c65a-5337-458a-889d-9568c73fc65b",
   "metadata": {
    "tags": []
   },
   "outputs": [],
   "source": [
    "for i, dt in enumerate(registry.queryDatasets(datasetType=datasetType, collections=collections, \n",
    "                                                      where=\"ingest_date < timespan_embargo_begin\",\n",
    "                                                     bind={\"timespan_embargo_begin\": timespan_embargo.begin},\n",
    "                                             )):\n",
    "    print(dt)\n",
    "    if i > 10:\n",
    "        break"
   ]
  },
  {
   "cell_type": "code",
   "execution_count": null,
   "id": "60110a4e-08fe-4360-aed7-24d377944fae",
   "metadata": {
    "tags": []
   },
   "outputs": [],
   "source": [
    "for i, dt in enumerate(registry.queryDatasets(datasetType=datasetType, collections=collections, \n",
    "                                                      where=\"ingest_date < timespan_embargo_end AND ingest_date > timespan_embargo_begin\",\n",
    "                                                     bind={\"timespan_embargo_begin\": timespan_embargo.begin, \"timespan_embargo_end\": timespan_embargo.end},\n",
    "                                             )):\n",
    "    print(dt)\n",
    "    if i > 10:\n",
    "        break"
   ]
  },
  {
   "cell_type": "code",
   "execution_count": null,
   "id": "176e2c37-87b3-47bd-836a-f6ae6518539b",
   "metadata": {},
   "outputs": [],
   "source": [
    "now = astropy.time.Time.now().tai\n",
    "embargo_hours = 1000.0\n",
    "embargo_period = astropy.time.TimeDelta(\n",
    "        embargo_hours * 3600.0, format=\"sec\"\n",
    "    )\n",
    "timespan_embargo = Timespan(now - embargo_period, None)\n",
    "# timespan_embargo = Timespan(now - embargo_period, now)"
   ]
  },
  {
   "cell_type": "code",
   "execution_count": null,
   "id": "8aa25c4c-35e6-4313-b142-1112b6ab3561",
   "metadata": {
    "tags": []
   },
   "outputs": [],
   "source": [
    "for i, dt in enumerate(registry.queryDatasets(datasetType=datasetType, collections=collections, \n",
    "                                                      where=\"ingest_date < timespan_embargo_end AND ingest_date > timespan_embargo_begin\",\n",
    "                                                     bind={\"timespan_embargo_begin\": timespan_embargo.begin, \"timespan_embargo_end\": timespan_embargo.end},\n",
    "                                             )):\n",
    "    print(dt.id)\n",
    "    if i > 10:\n",
    "        break"
   ]
  },
  {
   "cell_type": "code",
   "execution_count": null,
   "id": "9be0d3d3-394c-4b73-b237-8744dec108d3",
   "metadata": {
    "tags": []
   },
   "outputs": [],
   "source": [
    "# for dt in registry.queryDimensionRecords(\"exposure\",datasets=datasetType,collections=collections,\n",
    "#             where=\"exposure.timespan OVERLAPS timespan_embargo\",\n",
    "#             bind={\"timespan_embargo\": timespan_embargo},\n",
    "#         ):\n",
    "#     print(dt.id)\n",
    "#     if i > 10:\n",
    "#         break"
   ]
  },
  {
   "cell_type": "markdown",
   "id": "0d137743-15a6-464e-9dc0-9e3941145d4e",
   "metadata": {},
   "source": [
    "## check if exposure and vist dimension exist"
   ]
  },
  {
   "cell_type": "code",
   "execution_count": null,
   "id": "5326a27d-8ef5-4731-a56b-e53e27572eea",
   "metadata": {
    "tags": []
   },
   "outputs": [],
   "source": [
    "datasetType = 'goodSeeingCoadd'\n",
    "collections = 'LATISS/runs/AUXTEL_DRP_IMAGING_2023-08ABC-07AB-05AB/w_2023_35/PREOPS-3726/20230912T151732Z'"
   ]
  },
  {
   "cell_type": "code",
   "execution_count": null,
   "id": "29a8734f-8a2b-49d9-a892-7ab0759b34d7",
   "metadata": {
    "tags": []
   },
   "outputs": [],
   "source": [
    "for dt in sorted(registry.queryDatasetTypes(datasetType)):\n",
    "    print(dt)"
   ]
  },
  {
   "cell_type": "code",
   "execution_count": null,
   "id": "349d975a-7689-422a-a059-eba555b61cfa",
   "metadata": {
    "tags": []
   },
   "outputs": [],
   "source": [
    "datasetType = 'raw'\n",
    "collections = 'LATISS/raw/all/'"
   ]
  },
  {
   "cell_type": "code",
   "execution_count": null,
   "id": "5933e370-49f6-4dc8-b9a8-dfd4902decda",
   "metadata": {
    "tags": []
   },
   "outputs": [],
   "source": [
    "for dt in sorted(registry.queryDatasetTypes(datasetType)):\n",
    "    print(dt)"
   ]
  },
  {
   "cell_type": "code",
   "execution_count": null,
   "id": "240475ab-1f3f-42f9-84f7-0b326c6fcd13",
   "metadata": {
    "tags": []
   },
   "outputs": [],
   "source": [
    "# for c in sorted(registry.queryCollections(datasetType='calexp')):\n",
    "#     print(c)"
   ]
  },
  {
   "cell_type": "code",
   "execution_count": null,
   "id": "f298c042-5711-45bd-a3d0-d4ead3ed06ce",
   "metadata": {
    "tags": []
   },
   "outputs": [],
   "source": [
    "datasetType = 'calexp'\n",
    "collections = 'LATISS/runs/AUXTEL_DRP_IMAGING_2022-11A/w_2022_46/PREOPS-1616'\n",
    "for dt in sorted(registry.queryDatasetTypes(datasetType)):\n",
    "    print(dt)"
   ]
  },
  {
   "cell_type": "code",
   "execution_count": null,
   "id": "d32da0a0-ab46-427a-a530-72b14e619de3",
   "metadata": {
    "tags": []
   },
   "outputs": [],
   "source": [
    "for dt in sorted(registry.queryDatasetTypes(datasetType)):\n",
    "    print(dt)"
   ]
  },
  {
   "cell_type": "code",
   "execution_count": null,
   "id": "9dcb0e39-7ed9-4368-ab81-e0882eaf9ef3",
   "metadata": {
    "tags": []
   },
   "outputs": [],
   "source": [
    "# for dt in sorted(registry.queryDatasetTypes()):\n",
    "#     print(dt)"
   ]
  },
  {
   "cell_type": "code",
   "execution_count": null,
   "id": "460c91f4-60d5-440c-8b08-326830c54c16",
   "metadata": {
    "tags": []
   },
   "outputs": [],
   "source": [
    "for dt in sorted(registry.queryDatasetTypes('calexp')):\n",
    "    print(dt)"
   ]
  },
  {
   "cell_type": "code",
   "execution_count": null,
   "id": "b4e1c249-06bf-48ec-a6ee-d269ca6cf2f1",
   "metadata": {
    "tags": []
   },
   "outputs": [],
   "source": [
    "for dt in sorted(registry.queryDatasetTypes('calexp.*')):\n",
    "    print(dt)"
   ]
  },
  {
   "cell_type": "code",
   "execution_count": null,
   "id": "3a035355-115a-476f-8906-dbb95c57ae8f",
   "metadata": {
    "tags": []
   },
   "outputs": [],
   "source": [
    "for i, dt in enumerate(registry.queryDimensionRecords('exposure',datasets=datasetType, collections=collections,\n",
    "                                             )):\n",
    "    print(dt)\n",
    "    if i > 10:\n",
    "        break"
   ]
  },
  {
   "cell_type": "code",
   "execution_count": null,
   "id": "85b4f5b2-9fb8-4dee-8f32-48835f4fbe4e",
   "metadata": {
    "tags": []
   },
   "outputs": [],
   "source": [
    "for i, dt in enumerate(registry.queryDimensionRecords('visit',datasets=datasetType, collections=collections,\n",
    "                                             )):\n",
    "    print(dt)\n",
    "    if i > 10:\n",
    "        break"
   ]
  },
  {
   "cell_type": "code",
   "execution_count": null,
   "id": "3704c0d2-35f2-4bd1-bf2b-d033854a3e36",
   "metadata": {},
   "outputs": [],
   "source": [
    "for i, dt in enumerate(registry.queryDimensionRecords('visit',datasets=='calexp', collections=collections, \n",
    "                                                      where=\"visit.time < timespan_embargo_end AND ingest_date > timespan_embargo_begin\",\n",
    "                                                     bind={\"timespan_embargo_begin\": timespan_embargo.begin, \"timespan_embargo_end\": timespan_embargo.end},\n",
    "                                             )):\n",
    "    print(dt.id)\n",
    "    if i > 10:\n",
    "        break"
   ]
  }
 ],
 "metadata": {
  "kernelspec": {
   "display_name": "LSST",
   "language": "python",
   "name": "lsst"
  },
  "language_info": {
   "codemirror_mode": {
    "name": "ipython",
    "version": 3
   },
   "file_extension": ".py",
   "mimetype": "text/x-python",
   "name": "python",
   "nbconvert_exporter": "python",
   "pygments_lexer": "ipython3",
   "version": "3.11.4"
  }
 },
 "nbformat": 4,
 "nbformat_minor": 5
}
