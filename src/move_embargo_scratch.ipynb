{
 "cells": [
  {
   "cell_type": "code",
   "execution_count": 1,
   "id": "05cd074d-2a0d-408e-aecc-9068e79db542",
   "metadata": {
    "execution": {
     "iopub.execute_input": "2023-05-02T14:21:38.205635Z",
     "iopub.status.busy": "2023-05-02T14:21:38.205509Z",
     "iopub.status.idle": "2023-05-02T14:21:38.568581Z",
     "shell.execute_reply": "2023-05-02T14:21:38.568034Z",
     "shell.execute_reply.started": "2023-05-02T14:21:38.205622Z"
    },
    "tags": []
   },
   "outputs": [],
   "source": [
    "import astropy.time\n",
    "from lsst.daf.butler import Butler, Timespan"
   ]
  },
  {
   "cell_type": "code",
   "execution_count": 2,
   "id": "edf77a49-e8df-4d0b-94a0-03dad83cb3e1",
   "metadata": {
    "execution": {
     "iopub.execute_input": "2023-05-02T14:21:38.569811Z",
     "iopub.status.busy": "2023-05-02T14:21:38.569662Z",
     "iopub.status.idle": "2023-05-02T14:21:39.902557Z",
     "shell.execute_reply": "2023-05-02T14:21:39.902088Z",
     "shell.execute_reply.started": "2023-05-02T14:21:38.569797Z"
    },
    "tags": []
   },
   "outputs": [],
   "source": [
    "butler = Butler('/repo/embargo')\n",
    "registry = butler.registry"
   ]
  },
  {
   "cell_type": "code",
   "execution_count": 3,
   "id": "42c41cbc-913c-4644-94d8-945a2fc195ef",
   "metadata": {
    "execution": {
     "iopub.execute_input": "2023-05-02T14:21:39.903245Z",
     "iopub.status.busy": "2023-05-02T14:21:39.903105Z",
     "iopub.status.idle": "2023-05-02T14:21:40.167786Z",
     "shell.execute_reply": "2023-05-02T14:21:40.167247Z",
     "shell.execute_reply.started": "2023-05-02T14:21:39.903231Z"
    },
    "tags": []
   },
   "outputs": [],
   "source": [
    "scratch_butler = Butler('/home/j/jarugula/scratch', writeable=True)\n",
    "scratch_registry = scratch_butler.registry"
   ]
  },
  {
   "cell_type": "code",
   "execution_count": 4,
   "id": "eb6cbd8f-0fb1-49d0-8c1f-905eac8737a1",
   "metadata": {
    "execution": {
     "iopub.execute_input": "2023-05-02T14:21:40.168635Z",
     "iopub.status.busy": "2023-05-02T14:21:40.168486Z",
     "iopub.status.idle": "2023-05-02T14:21:40.170763Z",
     "shell.execute_reply": "2023-05-02T14:21:40.170374Z",
     "shell.execute_reply.started": "2023-05-02T14:21:40.168621Z"
    },
    "tags": []
   },
   "outputs": [],
   "source": [
    "#help(scratch_registry)"
   ]
  },
  {
   "cell_type": "code",
   "execution_count": 58,
   "id": "5431b7f7-cbfb-459d-b32e-ea826b587c0f",
   "metadata": {
    "execution": {
     "iopub.execute_input": "2023-05-02T14:54:15.670219Z",
     "iopub.status.busy": "2023-05-02T14:54:15.669982Z",
     "iopub.status.idle": "2023-05-02T14:54:15.672889Z",
     "shell.execute_reply": "2023-05-02T14:54:15.672547Z",
     "shell.execute_reply.started": "2023-05-02T14:54:15.670204Z"
    },
    "tags": []
   },
   "outputs": [],
   "source": [
    "datasetType = 'raw'\n",
    "collections = 'LATISS/raw/all'\n",
    "instrument = 'LATISS'\n",
    "embargohours = 1 #hour\n",
    "#nowtime = 'now'\n",
    "nowtime = '2022-10-05 18:37:52.232000'"
   ]
  },
  {
   "cell_type": "code",
   "execution_count": 30,
   "id": "4f4dc4ae-5e16-42e4-bad4-c1ddfbbfc2ba",
   "metadata": {
    "execution": {
     "iopub.execute_input": "2023-05-02T14:24:05.242076Z",
     "iopub.status.busy": "2023-05-02T14:24:05.241858Z",
     "iopub.status.idle": "2023-05-02T14:24:05.244563Z",
     "shell.execute_reply": "2023-05-02T14:24:05.244199Z",
     "shell.execute_reply.started": "2023-05-02T14:24:05.242060Z"
    },
    "tags": []
   },
   "outputs": [],
   "source": [
    "dataId = {'instrument': instrument}"
   ]
  },
  {
   "cell_type": "code",
   "execution_count": 59,
   "id": "51724b74-b081-4197-9064-256e37c0a8bc",
   "metadata": {
    "execution": {
     "iopub.execute_input": "2023-05-02T14:54:16.759432Z",
     "iopub.status.busy": "2023-05-02T14:54:16.758790Z",
     "iopub.status.idle": "2023-05-02T14:54:16.762935Z",
     "shell.execute_reply": "2023-05-02T14:54:16.762568Z",
     "shell.execute_reply.started": "2023-05-02T14:54:16.759415Z"
    },
    "tags": []
   },
   "outputs": [],
   "source": [
    "embargo_period = astropy.time.TimeDelta(embargohours*3600., format='sec')\n",
    "if nowtime != 'now':\n",
    "    now = astropy.time.Time(nowtime, scale='tai', format='iso')\n",
    "else:\n",
    "    now = astropy.time.Time.now()\n",
    "timespan_embargo = Timespan(now - embargo_period, now)"
   ]
  },
  {
   "cell_type": "code",
   "execution_count": 60,
   "id": "82eb5133-bedf-4957-a8e1-19cb0468784f",
   "metadata": {
    "execution": {
     "iopub.execute_input": "2023-05-02T14:54:17.001484Z",
     "iopub.status.busy": "2023-05-02T14:54:17.001013Z",
     "iopub.status.idle": "2023-05-02T14:54:17.004690Z",
     "shell.execute_reply": "2023-05-02T14:54:17.004260Z",
     "shell.execute_reply.started": "2023-05-02T14:54:17.001466Z"
    },
    "tags": []
   },
   "outputs": [
    {
     "data": {
      "text/plain": [
       "<Time object: scale='tai' format='iso' value=2022-10-05 17:37:52.232>"
      ]
     },
     "execution_count": 60,
     "metadata": {},
     "output_type": "execute_result"
    }
   ],
   "source": [
    "now - embargo_period"
   ]
  },
  {
   "cell_type": "code",
   "execution_count": 61,
   "id": "b9cfa31b-ae7d-408d-bd09-97f21a08dcd5",
   "metadata": {
    "execution": {
     "iopub.execute_input": "2023-05-02T14:54:17.301587Z",
     "iopub.status.busy": "2023-05-02T14:54:17.301097Z",
     "iopub.status.idle": "2023-05-02T14:54:17.304972Z",
     "shell.execute_reply": "2023-05-02T14:54:17.304506Z",
     "shell.execute_reply.started": "2023-05-02T14:54:17.301568Z"
    },
    "tags": []
   },
   "outputs": [
    {
     "data": {
      "text/plain": [
       "Timespan(begin=astropy.time.Time('2022-10-05 17:37:52.232000', scale='tai', format='iso'), end=astropy.time.Time('2022-10-05 18:37:52.232000', scale='tai', format='iso'))"
      ]
     },
     "execution_count": 61,
     "metadata": {},
     "output_type": "execute_result"
    }
   ],
   "source": [
    "timespan_embargo"
   ]
  },
  {
   "cell_type": "code",
   "execution_count": 65,
   "id": "8f25007f-28da-4ed3-aa29-627a33484ff8",
   "metadata": {
    "execution": {
     "iopub.execute_input": "2023-05-02T14:54:54.022399Z",
     "iopub.status.busy": "2023-05-02T14:54:54.022041Z",
     "iopub.status.idle": "2023-05-02T14:54:54.059053Z",
     "shell.execute_reply": "2023-05-02T14:54:54.058471Z",
     "shell.execute_reply.started": "2023-05-02T14:54:54.022380Z"
    },
    "tags": []
   },
   "outputs": [],
   "source": [
    "after_embargo = []\n",
    "#after_embargo_2 = []\n",
    "\n",
    "for i, dt in enumerate(registry.queryDimensionRecords('exposure', dataId=dataId, datasets=datasetType,\n",
    "                                                          collections=collections,\n",
    "                                                          #where=\"NOT exposure.timespan OVERLAPS timespan_embargo\",\n",
    "                                                          where=\"exposure.timespan OVERLAPS timespan_embargo\",\n",
    "                                                          bind={\"timespan_embargo\": timespan_embargo})):\n",
    "        #print(dt.id, dt.timespan)\n",
    "        after_embargo.append(dt.id)\n",
    "        # end_time = dt.timespan.end\n",
    "        # if now - end_time <= embargo_period:\n",
    "        #     print(dt.id, dt.timespan)\n",
    "        #     after_embargo_2.append(dt.id)\n",
    "        #     print('--------------')"
   ]
  },
  {
   "cell_type": "code",
   "execution_count": 66,
   "id": "134e1e03-b308-4b89-94fd-69c93f17befb",
   "metadata": {
    "execution": {
     "iopub.execute_input": "2023-05-02T14:55:26.907798Z",
     "iopub.status.busy": "2023-05-02T14:55:26.907547Z",
     "iopub.status.idle": "2023-05-02T14:55:26.926283Z",
     "shell.execute_reply": "2023-05-02T14:55:26.925839Z",
     "shell.execute_reply.started": "2023-05-02T14:55:26.907780Z"
    }
   },
   "outputs": [],
   "source": [
    "datasetRefs = registry.queryDatasets(datasetType, dataId=dataId, collections=collections,\n",
    "                                         where=\"exposure.id IN (exposure_ids)\",\n",
    "                                         bind={\"exposure_ids\": after_embargo})"
   ]
  },
  {
   "cell_type": "code",
   "execution_count": 68,
   "id": "897b76e7-075d-4250-b399-e52760600e45",
   "metadata": {
    "execution": {
     "iopub.execute_input": "2023-05-02T14:55:48.742393Z",
     "iopub.status.busy": "2023-05-02T14:55:48.742025Z",
     "iopub.status.idle": "2023-05-02T14:55:52.767093Z",
     "shell.execute_reply": "2023-05-02T14:55:52.766661Z",
     "shell.execute_reply.started": "2023-05-02T14:55:48.742376Z"
    },
    "tags": []
   },
   "outputs": [
    {
     "data": {
      "text/html": [
       "<pre style=\"margin: 0.1em;\n",
       "padding-left: 0.25em;\n",
       "border-left-style: solid;\n",
       "font-family: var(--jp-code-font-family);\n",
       "font-size: var(--jp-code-font-size);\n",
       "line-height: var(--jp-code-line-height);\n",
       "\"><span style=\"color: var(--jp-warn-color2)\">lsst.daf.butler._butler</span> <span style=\"color: var(--jp-info-color0)\">INFO</span>: Transferring 26 datasets into Butler(collections=(), run=None, datastore=&#x27;file:///home/j/jarugula/scratch/&#x27;, registry=&#x27;PostgreSQL@lsstdb1:jarugula_scratch&#x27;)</pre>"
      ],
      "text/plain": [
       "<IPython.core.display.HTML object>"
      ]
     },
     "metadata": {},
     "output_type": "display_data"
    },
    {
     "data": {
      "text/html": [
       "<pre style=\"margin: 0.1em;\n",
       "padding-left: 0.25em;\n",
       "border-left-style: solid;\n",
       "font-family: var(--jp-code-font-family);\n",
       "font-size: var(--jp-code-font-size);\n",
       "line-height: var(--jp-code-line-height);\n",
       "\"><span style=\"color: var(--jp-warn-color2)\">lsst.daf.butler.datastores.fileDatastore</span> <span style=\"color: var(--jp-warn-color0)\">WARNING</span>: Transfer request for an outside-datastore artifact has been found at s3://rubin-summit/LATISS/20221005/AT_O_20221005_000221/AT_O_20221005_000221_R00_S00.fits</pre>"
      ],
      "text/plain": [
       "<IPython.core.display.HTML object>"
      ]
     },
     "metadata": {},
     "output_type": "display_data"
    },
    {
     "data": {
      "text/html": [
       "<pre style=\"margin: 0.1em;\n",
       "padding-left: 0.25em;\n",
       "border-left-style: solid;\n",
       "font-family: var(--jp-code-font-family);\n",
       "font-size: var(--jp-code-font-size);\n",
       "line-height: var(--jp-code-line-height);\n",
       "\"><span style=\"color: var(--jp-warn-color2)\">lsst.daf.butler.datastores.fileDatastore</span> <span style=\"color: var(--jp-warn-color0)\">WARNING</span>: Transfer request for an outside-datastore artifact has been found at s3://rubin-summit/LATISS/20221005/AT_O_20221005_000230/AT_O_20221005_000230_R00_S00.fits</pre>"
      ],
      "text/plain": [
       "<IPython.core.display.HTML object>"
      ]
     },
     "metadata": {},
     "output_type": "display_data"
    },
    {
     "data": {
      "text/html": [
       "<pre style=\"margin: 0.1em;\n",
       "padding-left: 0.25em;\n",
       "border-left-style: solid;\n",
       "font-family: var(--jp-code-font-family);\n",
       "font-size: var(--jp-code-font-size);\n",
       "line-height: var(--jp-code-line-height);\n",
       "\"><span style=\"color: var(--jp-warn-color2)\">lsst.daf.butler.datastores.fileDatastore</span> <span style=\"color: var(--jp-warn-color0)\">WARNING</span>: Transfer request for an outside-datastore artifact has been found at s3://rubin-summit/LATISS/20221005/AT_O_20221005_000210/AT_O_20221005_000210_R00_S00.fits</pre>"
      ],
      "text/plain": [
       "<IPython.core.display.HTML object>"
      ]
     },
     "metadata": {},
     "output_type": "display_data"
    },
    {
     "data": {
      "text/html": [
       "<pre style=\"margin: 0.1em;\n",
       "padding-left: 0.25em;\n",
       "border-left-style: solid;\n",
       "font-family: var(--jp-code-font-family);\n",
       "font-size: var(--jp-code-font-size);\n",
       "line-height: var(--jp-code-line-height);\n",
       "\"><span style=\"color: var(--jp-warn-color2)\">lsst.daf.butler.datastores.fileDatastore</span> <span style=\"color: var(--jp-warn-color0)\">WARNING</span>: Transfer request for an outside-datastore artifact has been found at s3://rubin-summit/LATISS/20221005/AT_O_20221005_000231/AT_O_20221005_000231_R00_S00.fits</pre>"
      ],
      "text/plain": [
       "<IPython.core.display.HTML object>"
      ]
     },
     "metadata": {},
     "output_type": "display_data"
    },
    {
     "data": {
      "text/html": [
       "<pre style=\"margin: 0.1em;\n",
       "padding-left: 0.25em;\n",
       "border-left-style: solid;\n",
       "font-family: var(--jp-code-font-family);\n",
       "font-size: var(--jp-code-font-size);\n",
       "line-height: var(--jp-code-line-height);\n",
       "\"><span style=\"color: var(--jp-warn-color2)\">lsst.daf.butler.datastores.fileDatastore</span> <span style=\"color: var(--jp-warn-color0)\">WARNING</span>: Transfer request for an outside-datastore artifact has been found at s3://rubin-summit/LATISS/20221005/AT_O_20221005_000233/AT_O_20221005_000233_R00_S00.fits</pre>"
      ],
      "text/plain": [
       "<IPython.core.display.HTML object>"
      ]
     },
     "metadata": {},
     "output_type": "display_data"
    },
    {
     "data": {
      "text/html": [
       "<pre style=\"margin: 0.1em;\n",
       "padding-left: 0.25em;\n",
       "border-left-style: solid;\n",
       "font-family: var(--jp-code-font-family);\n",
       "font-size: var(--jp-code-font-size);\n",
       "line-height: var(--jp-code-line-height);\n",
       "\"><span style=\"color: var(--jp-warn-color2)\">lsst.daf.butler.datastores.fileDatastore</span> <span style=\"color: var(--jp-warn-color0)\">WARNING</span>: Transfer request for an outside-datastore artifact has been found at s3://rubin-summit/LATISS/20221005/AT_O_20221005_000214/AT_O_20221005_000214_R00_S00.fits</pre>"
      ],
      "text/plain": [
       "<IPython.core.display.HTML object>"
      ]
     },
     "metadata": {},
     "output_type": "display_data"
    },
    {
     "data": {
      "text/html": [
       "<pre style=\"margin: 0.1em;\n",
       "padding-left: 0.25em;\n",
       "border-left-style: solid;\n",
       "font-family: var(--jp-code-font-family);\n",
       "font-size: var(--jp-code-font-size);\n",
       "line-height: var(--jp-code-line-height);\n",
       "\"><span style=\"color: var(--jp-warn-color2)\">lsst.daf.butler.datastores.fileDatastore</span> <span style=\"color: var(--jp-warn-color0)\">WARNING</span>: Transfer request for an outside-datastore artifact has been found at s3://rubin-summit/LATISS/20221005/AT_O_20221005_000209/AT_O_20221005_000209_R00_S00.fits</pre>"
      ],
      "text/plain": [
       "<IPython.core.display.HTML object>"
      ]
     },
     "metadata": {},
     "output_type": "display_data"
    },
    {
     "data": {
      "text/html": [
       "<pre style=\"margin: 0.1em;\n",
       "padding-left: 0.25em;\n",
       "border-left-style: solid;\n",
       "font-family: var(--jp-code-font-family);\n",
       "font-size: var(--jp-code-font-size);\n",
       "line-height: var(--jp-code-line-height);\n",
       "\"><span style=\"color: var(--jp-warn-color2)\">lsst.daf.butler.datastores.fileDatastore</span> <span style=\"color: var(--jp-warn-color0)\">WARNING</span>: Transfer request for an outside-datastore artifact has been found at s3://rubin-summit/LATISS/20221005/AT_O_20221005_000211/AT_O_20221005_000211_R00_S00.fits</pre>"
      ],
      "text/plain": [
       "<IPython.core.display.HTML object>"
      ]
     },
     "metadata": {},
     "output_type": "display_data"
    },
    {
     "data": {
      "text/html": [
       "<pre style=\"margin: 0.1em;\n",
       "padding-left: 0.25em;\n",
       "border-left-style: solid;\n",
       "font-family: var(--jp-code-font-family);\n",
       "font-size: var(--jp-code-font-size);\n",
       "line-height: var(--jp-code-line-height);\n",
       "\"><span style=\"color: var(--jp-warn-color2)\">lsst.daf.butler.datastores.fileDatastore</span> <span style=\"color: var(--jp-warn-color0)\">WARNING</span>: Transfer request for an outside-datastore artifact has been found at s3://rubin-summit/LATISS/20221005/AT_O_20221005_000217/AT_O_20221005_000217_R00_S00.fits</pre>"
      ],
      "text/plain": [
       "<IPython.core.display.HTML object>"
      ]
     },
     "metadata": {},
     "output_type": "display_data"
    },
    {
     "data": {
      "text/html": [
       "<pre style=\"margin: 0.1em;\n",
       "padding-left: 0.25em;\n",
       "border-left-style: solid;\n",
       "font-family: var(--jp-code-font-family);\n",
       "font-size: var(--jp-code-font-size);\n",
       "line-height: var(--jp-code-line-height);\n",
       "\"><span style=\"color: var(--jp-warn-color2)\">lsst.daf.butler.datastores.fileDatastore</span> <span style=\"color: var(--jp-warn-color0)\">WARNING</span>: Transfer request for an outside-datastore artifact has been found at s3://rubin-summit/LATISS/20221005/AT_O_20221005_000227/AT_O_20221005_000227_R00_S00.fits</pre>"
      ],
      "text/plain": [
       "<IPython.core.display.HTML object>"
      ]
     },
     "metadata": {},
     "output_type": "display_data"
    },
    {
     "data": {
      "text/html": [
       "<pre style=\"margin: 0.1em;\n",
       "padding-left: 0.25em;\n",
       "border-left-style: solid;\n",
       "font-family: var(--jp-code-font-family);\n",
       "font-size: var(--jp-code-font-size);\n",
       "line-height: var(--jp-code-line-height);\n",
       "\"><span style=\"color: var(--jp-warn-color2)\">lsst.daf.butler.datastores.fileDatastore</span> <span style=\"color: var(--jp-warn-color0)\">WARNING</span>: Transfer request for an outside-datastore artifact has been found at s3://rubin-summit/LATISS/20221005/AT_O_20221005_000216/AT_O_20221005_000216_R00_S00.fits</pre>"
      ],
      "text/plain": [
       "<IPython.core.display.HTML object>"
      ]
     },
     "metadata": {},
     "output_type": "display_data"
    },
    {
     "data": {
      "text/html": [
       "<pre style=\"margin: 0.1em;\n",
       "padding-left: 0.25em;\n",
       "border-left-style: solid;\n",
       "font-family: var(--jp-code-font-family);\n",
       "font-size: var(--jp-code-font-size);\n",
       "line-height: var(--jp-code-line-height);\n",
       "\"><span style=\"color: var(--jp-warn-color2)\">lsst.daf.butler.datastores.fileDatastore</span> <span style=\"color: var(--jp-warn-color0)\">WARNING</span>: Transfer request for an outside-datastore artifact has been found at s3://rubin-summit/LATISS/20221005/AT_O_20221005_000222/AT_O_20221005_000222_R00_S00.fits</pre>"
      ],
      "text/plain": [
       "<IPython.core.display.HTML object>"
      ]
     },
     "metadata": {},
     "output_type": "display_data"
    },
    {
     "data": {
      "text/html": [
       "<pre style=\"margin: 0.1em;\n",
       "padding-left: 0.25em;\n",
       "border-left-style: solid;\n",
       "font-family: var(--jp-code-font-family);\n",
       "font-size: var(--jp-code-font-size);\n",
       "line-height: var(--jp-code-line-height);\n",
       "\"><span style=\"color: var(--jp-warn-color2)\">lsst.daf.butler.datastores.fileDatastore</span> <span style=\"color: var(--jp-warn-color0)\">WARNING</span>: Transfer request for an outside-datastore artifact has been found at s3://rubin-summit/LATISS/20221005/AT_O_20221005_000232/AT_O_20221005_000232_R00_S00.fits</pre>"
      ],
      "text/plain": [
       "<IPython.core.display.HTML object>"
      ]
     },
     "metadata": {},
     "output_type": "display_data"
    },
    {
     "data": {
      "text/html": [
       "<pre style=\"margin: 0.1em;\n",
       "padding-left: 0.25em;\n",
       "border-left-style: solid;\n",
       "font-family: var(--jp-code-font-family);\n",
       "font-size: var(--jp-code-font-size);\n",
       "line-height: var(--jp-code-line-height);\n",
       "\"><span style=\"color: var(--jp-warn-color2)\">lsst.daf.butler.datastores.fileDatastore</span> <span style=\"color: var(--jp-warn-color0)\">WARNING</span>: Transfer request for an outside-datastore artifact has been found at s3://rubin-summit/LATISS/20221005/AT_O_20221005_000215/AT_O_20221005_000215_R00_S00.fits</pre>"
      ],
      "text/plain": [
       "<IPython.core.display.HTML object>"
      ]
     },
     "metadata": {},
     "output_type": "display_data"
    },
    {
     "data": {
      "text/html": [
       "<pre style=\"margin: 0.1em;\n",
       "padding-left: 0.25em;\n",
       "border-left-style: solid;\n",
       "font-family: var(--jp-code-font-family);\n",
       "font-size: var(--jp-code-font-size);\n",
       "line-height: var(--jp-code-line-height);\n",
       "\"><span style=\"color: var(--jp-warn-color2)\">lsst.daf.butler.datastores.fileDatastore</span> <span style=\"color: var(--jp-warn-color0)\">WARNING</span>: Transfer request for an outside-datastore artifact has been found at s3://rubin-summit/LATISS/20221005/AT_O_20221005_000224/AT_O_20221005_000224_R00_S00.fits</pre>"
      ],
      "text/plain": [
       "<IPython.core.display.HTML object>"
      ]
     },
     "metadata": {},
     "output_type": "display_data"
    },
    {
     "data": {
      "text/html": [
       "<pre style=\"margin: 0.1em;\n",
       "padding-left: 0.25em;\n",
       "border-left-style: solid;\n",
       "font-family: var(--jp-code-font-family);\n",
       "font-size: var(--jp-code-font-size);\n",
       "line-height: var(--jp-code-line-height);\n",
       "\"><span style=\"color: var(--jp-warn-color2)\">lsst.daf.butler.datastores.fileDatastore</span> <span style=\"color: var(--jp-warn-color0)\">WARNING</span>: Transfer request for an outside-datastore artifact has been found at s3://rubin-summit/LATISS/20221005/AT_O_20221005_000229/AT_O_20221005_000229_R00_S00.fits</pre>"
      ],
      "text/plain": [
       "<IPython.core.display.HTML object>"
      ]
     },
     "metadata": {},
     "output_type": "display_data"
    },
    {
     "data": {
      "text/html": [
       "<pre style=\"margin: 0.1em;\n",
       "padding-left: 0.25em;\n",
       "border-left-style: solid;\n",
       "font-family: var(--jp-code-font-family);\n",
       "font-size: var(--jp-code-font-size);\n",
       "line-height: var(--jp-code-line-height);\n",
       "\"><span style=\"color: var(--jp-warn-color2)\">lsst.daf.butler.datastores.fileDatastore</span> <span style=\"color: var(--jp-warn-color0)\">WARNING</span>: Transfer request for an outside-datastore artifact has been found at s3://rubin-summit/LATISS/20221005/AT_O_20221005_000208/AT_O_20221005_000208_R00_S00.fits</pre>"
      ],
      "text/plain": [
       "<IPython.core.display.HTML object>"
      ]
     },
     "metadata": {},
     "output_type": "display_data"
    },
    {
     "data": {
      "text/html": [
       "<pre style=\"margin: 0.1em;\n",
       "padding-left: 0.25em;\n",
       "border-left-style: solid;\n",
       "font-family: var(--jp-code-font-family);\n",
       "font-size: var(--jp-code-font-size);\n",
       "line-height: var(--jp-code-line-height);\n",
       "\"><span style=\"color: var(--jp-warn-color2)\">lsst.daf.butler.datastores.fileDatastore</span> <span style=\"color: var(--jp-warn-color0)\">WARNING</span>: Transfer request for an outside-datastore artifact has been found at s3://rubin-summit/LATISS/20221005/AT_O_20221005_000226/AT_O_20221005_000226_R00_S00.fits</pre>"
      ],
      "text/plain": [
       "<IPython.core.display.HTML object>"
      ]
     },
     "metadata": {},
     "output_type": "display_data"
    },
    {
     "data": {
      "text/html": [
       "<pre style=\"margin: 0.1em;\n",
       "padding-left: 0.25em;\n",
       "border-left-style: solid;\n",
       "font-family: var(--jp-code-font-family);\n",
       "font-size: var(--jp-code-font-size);\n",
       "line-height: var(--jp-code-line-height);\n",
       "\"><span style=\"color: var(--jp-warn-color2)\">lsst.daf.butler.datastores.fileDatastore</span> <span style=\"color: var(--jp-warn-color0)\">WARNING</span>: Transfer request for an outside-datastore artifact has been found at s3://rubin-summit/LATISS/20221005/AT_O_20221005_000212/AT_O_20221005_000212_R00_S00.fits</pre>"
      ],
      "text/plain": [
       "<IPython.core.display.HTML object>"
      ]
     },
     "metadata": {},
     "output_type": "display_data"
    },
    {
     "data": {
      "text/html": [
       "<pre style=\"margin: 0.1em;\n",
       "padding-left: 0.25em;\n",
       "border-left-style: solid;\n",
       "font-family: var(--jp-code-font-family);\n",
       "font-size: var(--jp-code-font-size);\n",
       "line-height: var(--jp-code-line-height);\n",
       "\"><span style=\"color: var(--jp-warn-color2)\">lsst.daf.butler.datastores.fileDatastore</span> <span style=\"color: var(--jp-warn-color0)\">WARNING</span>: Transfer request for an outside-datastore artifact has been found at s3://rubin-summit/LATISS/20221005/AT_O_20221005_000218/AT_O_20221005_000218_R00_S00.fits</pre>"
      ],
      "text/plain": [
       "<IPython.core.display.HTML object>"
      ]
     },
     "metadata": {},
     "output_type": "display_data"
    },
    {
     "data": {
      "text/html": [
       "<pre style=\"margin: 0.1em;\n",
       "padding-left: 0.25em;\n",
       "border-left-style: solid;\n",
       "font-family: var(--jp-code-font-family);\n",
       "font-size: var(--jp-code-font-size);\n",
       "line-height: var(--jp-code-line-height);\n",
       "\"><span style=\"color: var(--jp-warn-color2)\">lsst.daf.butler.datastores.fileDatastore</span> <span style=\"color: var(--jp-warn-color0)\">WARNING</span>: Transfer request for an outside-datastore artifact has been found at s3://rubin-summit/LATISS/20221005/AT_O_20221005_000228/AT_O_20221005_000228_R00_S00.fits</pre>"
      ],
      "text/plain": [
       "<IPython.core.display.HTML object>"
      ]
     },
     "metadata": {},
     "output_type": "display_data"
    },
    {
     "data": {
      "text/html": [
       "<pre style=\"margin: 0.1em;\n",
       "padding-left: 0.25em;\n",
       "border-left-style: solid;\n",
       "font-family: var(--jp-code-font-family);\n",
       "font-size: var(--jp-code-font-size);\n",
       "line-height: var(--jp-code-line-height);\n",
       "\"><span style=\"color: var(--jp-warn-color2)\">lsst.daf.butler.datastores.fileDatastore</span> <span style=\"color: var(--jp-warn-color0)\">WARNING</span>: Transfer request for an outside-datastore artifact has been found at s3://rubin-summit/LATISS/20221005/AT_O_20221005_000213/AT_O_20221005_000213_R00_S00.fits</pre>"
      ],
      "text/plain": [
       "<IPython.core.display.HTML object>"
      ]
     },
     "metadata": {},
     "output_type": "display_data"
    },
    {
     "data": {
      "text/html": [
       "<pre style=\"margin: 0.1em;\n",
       "padding-left: 0.25em;\n",
       "border-left-style: solid;\n",
       "font-family: var(--jp-code-font-family);\n",
       "font-size: var(--jp-code-font-size);\n",
       "line-height: var(--jp-code-line-height);\n",
       "\"><span style=\"color: var(--jp-warn-color2)\">lsst.daf.butler.datastores.fileDatastore</span> <span style=\"color: var(--jp-warn-color0)\">WARNING</span>: Transfer request for an outside-datastore artifact has been found at s3://rubin-summit/LATISS/20221005/AT_O_20221005_000220/AT_O_20221005_000220_R00_S00.fits</pre>"
      ],
      "text/plain": [
       "<IPython.core.display.HTML object>"
      ]
     },
     "metadata": {},
     "output_type": "display_data"
    },
    {
     "data": {
      "text/html": [
       "<pre style=\"margin: 0.1em;\n",
       "padding-left: 0.25em;\n",
       "border-left-style: solid;\n",
       "font-family: var(--jp-code-font-family);\n",
       "font-size: var(--jp-code-font-size);\n",
       "line-height: var(--jp-code-line-height);\n",
       "\"><span style=\"color: var(--jp-warn-color2)\">lsst.daf.butler.datastores.fileDatastore</span> <span style=\"color: var(--jp-warn-color0)\">WARNING</span>: Transfer request for an outside-datastore artifact has been found at s3://rubin-summit/LATISS/20221005/AT_O_20221005_000223/AT_O_20221005_000223_R00_S00.fits</pre>"
      ],
      "text/plain": [
       "<IPython.core.display.HTML object>"
      ]
     },
     "metadata": {},
     "output_type": "display_data"
    },
    {
     "data": {
      "text/html": [
       "<pre style=\"margin: 0.1em;\n",
       "padding-left: 0.25em;\n",
       "border-left-style: solid;\n",
       "font-family: var(--jp-code-font-family);\n",
       "font-size: var(--jp-code-font-size);\n",
       "line-height: var(--jp-code-line-height);\n",
       "\"><span style=\"color: var(--jp-warn-color2)\">lsst.daf.butler.datastores.fileDatastore</span> <span style=\"color: var(--jp-warn-color0)\">WARNING</span>: Transfer request for an outside-datastore artifact has been found at s3://rubin-summit/LATISS/20221005/AT_O_20221005_000219/AT_O_20221005_000219_R00_S00.fits</pre>"
      ],
      "text/plain": [
       "<IPython.core.display.HTML object>"
      ]
     },
     "metadata": {},
     "output_type": "display_data"
    },
    {
     "data": {
      "text/html": [
       "<pre style=\"margin: 0.1em;\n",
       "padding-left: 0.25em;\n",
       "border-left-style: solid;\n",
       "font-family: var(--jp-code-font-family);\n",
       "font-size: var(--jp-code-font-size);\n",
       "line-height: var(--jp-code-line-height);\n",
       "\"><span style=\"color: var(--jp-warn-color2)\">lsst.daf.butler.datastores.fileDatastore</span> <span style=\"color: var(--jp-warn-color0)\">WARNING</span>: Transfer request for an outside-datastore artifact has been found at s3://rubin-summit/LATISS/20221005/AT_O_20221005_000225/AT_O_20221005_000225_R00_S00.fits</pre>"
      ],
      "text/plain": [
       "<IPython.core.display.HTML object>"
      ]
     },
     "metadata": {},
     "output_type": "display_data"
    },
    {
     "data": {
      "text/plain": [
       "[DatasetRef(DatasetType('raw', {band, instrument, detector, physical_filter, exposure}, Exposure), {instrument: 'LATISS', detector: 0, exposure: 2022100500221, ...}, id=0af1dfa3-6d7b-5378-bec4-17f9350d5f05, run='LATISS/raw/all'),\n",
       " DatasetRef(DatasetType('raw', {band, instrument, detector, physical_filter, exposure}, Exposure), {instrument: 'LATISS', detector: 0, exposure: 2022100500230, ...}, id=826be40c-b63e-5f06-bc41-47208ce70f0b, run='LATISS/raw/all'),\n",
       " DatasetRef(DatasetType('raw', {band, instrument, detector, physical_filter, exposure}, Exposure), {instrument: 'LATISS', detector: 0, exposure: 2022100500210, ...}, id=4f963757-d661-50c3-895f-d9d166fc3df9, run='LATISS/raw/all'),\n",
       " DatasetRef(DatasetType('raw', {band, instrument, detector, physical_filter, exposure}, Exposure), {instrument: 'LATISS', detector: 0, exposure: 2022100500231, ...}, id=863222c2-7fd7-55b5-8f31-de9a6e447fb7, run='LATISS/raw/all'),\n",
       " DatasetRef(DatasetType('raw', {band, instrument, detector, physical_filter, exposure}, Exposure), {instrument: 'LATISS', detector: 0, exposure: 2022100500233, ...}, id=9c9a47e6-c383-5bd7-81ca-bbb87414708e, run='LATISS/raw/all'),\n",
       " DatasetRef(DatasetType('raw', {band, instrument, detector, physical_filter, exposure}, Exposure), {instrument: 'LATISS', detector: 0, exposure: 2022100500214, ...}, id=a2cc4d2d-622f-548d-9ab5-aae874074068, run='LATISS/raw/all'),\n",
       " DatasetRef(DatasetType('raw', {band, instrument, detector, physical_filter, exposure}, Exposure), {instrument: 'LATISS', detector: 0, exposure: 2022100500209, ...}, id=ad074175-539d-54a3-850e-24972e2690c7, run='LATISS/raw/all'),\n",
       " DatasetRef(DatasetType('raw', {band, instrument, detector, physical_filter, exposure}, Exposure), {instrument: 'LATISS', detector: 0, exposure: 2022100500211, ...}, id=140c8516-0a1b-57b9-905c-401a248750c2, run='LATISS/raw/all'),\n",
       " DatasetRef(DatasetType('raw', {band, instrument, detector, physical_filter, exposure}, Exposure), {instrument: 'LATISS', detector: 0, exposure: 2022100500217, ...}, id=bc82b452-8d88-5c9a-9b18-6324acaee8b6, run='LATISS/raw/all'),\n",
       " DatasetRef(DatasetType('raw', {band, instrument, detector, physical_filter, exposure}, Exposure), {instrument: 'LATISS', detector: 0, exposure: 2022100500227, ...}, id=c92cc70f-3193-58ce-b7fd-cf812262fe7b, run='LATISS/raw/all'),\n",
       " DatasetRef(DatasetType('raw', {band, instrument, detector, physical_filter, exposure}, Exposure), {instrument: 'LATISS', detector: 0, exposure: 2022100500216, ...}, id=cc1c7460-efde-59e9-8aae-641b39cf80a6, run='LATISS/raw/all'),\n",
       " DatasetRef(DatasetType('raw', {band, instrument, detector, physical_filter, exposure}, Exposure), {instrument: 'LATISS', detector: 0, exposure: 2022100500222, ...}, id=dbc8f1de-acf0-5cd4-8269-895acc6790d9, run='LATISS/raw/all'),\n",
       " DatasetRef(DatasetType('raw', {band, instrument, detector, physical_filter, exposure}, Exposure), {instrument: 'LATISS', detector: 0, exposure: 2022100500232, ...}, id=b49eb0a9-f93e-5c46-8e01-67a4ff69eadf, run='LATISS/raw/all'),\n",
       " DatasetRef(DatasetType('raw', {band, instrument, detector, physical_filter, exposure}, Exposure), {instrument: 'LATISS', detector: 0, exposure: 2022100500215, ...}, id=e09a0c62-19c3-51ab-a4c2-71fb098dd3b7, run='LATISS/raw/all'),\n",
       " DatasetRef(DatasetType('raw', {band, instrument, detector, physical_filter, exposure}, Exposure), {instrument: 'LATISS', detector: 0, exposure: 2022100500224, ...}, id=de8ef21c-9213-5e74-87e5-1c2a6ef78f0b, run='LATISS/raw/all'),\n",
       " DatasetRef(DatasetType('raw', {band, instrument, detector, physical_filter, exposure}, Exposure), {instrument: 'LATISS', detector: 0, exposure: 2022100500229, ...}, id=e4fc5911-917c-5c98-b8f0-fcc18ad9a004, run='LATISS/raw/all'),\n",
       " DatasetRef(DatasetType('raw', {band, instrument, detector, physical_filter, exposure}, Exposure), {instrument: 'LATISS', detector: 0, exposure: 2022100500208, ...}, id=e6211e0e-3d96-5f8d-96c8-c673eeb237e6, run='LATISS/raw/all'),\n",
       " DatasetRef(DatasetType('raw', {band, instrument, detector, physical_filter, exposure}, Exposure), {instrument: 'LATISS', detector: 0, exposure: 2022100500226, ...}, id=f52d66aa-198f-5c62-9bf9-848136f73b47, run='LATISS/raw/all'),\n",
       " DatasetRef(DatasetType('raw', {band, instrument, detector, physical_filter, exposure}, Exposure), {instrument: 'LATISS', detector: 0, exposure: 2022100500212, ...}, id=1eb54774-5bcd-5e8a-8d0b-a0cebcae0c0a, run='LATISS/raw/all'),\n",
       " DatasetRef(DatasetType('raw', {band, instrument, detector, physical_filter, exposure}, Exposure), {instrument: 'LATISS', detector: 0, exposure: 2022100500218, ...}, id=f90f5798-2c99-529c-8900-efc24f06e2fa, run='LATISS/raw/all'),\n",
       " DatasetRef(DatasetType('raw', {band, instrument, detector, physical_filter, exposure}, Exposure), {instrument: 'LATISS', detector: 0, exposure: 2022100500228, ...}, id=0233f6aa-ef0c-502e-a8d4-99c5742a9973, run='LATISS/raw/all'),\n",
       " DatasetRef(DatasetType('raw', {band, instrument, detector, physical_filter, exposure}, Exposure), {instrument: 'LATISS', detector: 0, exposure: 2022100500213, ...}, id=1763e516-b2d0-58cb-9fe9-5d1aca57d3f4, run='LATISS/raw/all'),\n",
       " DatasetRef(DatasetType('raw', {band, instrument, detector, physical_filter, exposure}, Exposure), {instrument: 'LATISS', detector: 0, exposure: 2022100500220, ...}, id=48fd9dea-fa6e-5700-ad64-89430511e394, run='LATISS/raw/all'),\n",
       " DatasetRef(DatasetType('raw', {band, instrument, detector, physical_filter, exposure}, Exposure), {instrument: 'LATISS', detector: 0, exposure: 2022100500223, ...}, id=37bb2825-62a3-575e-9ae1-f68e56040d0e, run='LATISS/raw/all'),\n",
       " DatasetRef(DatasetType('raw', {band, instrument, detector, physical_filter, exposure}, Exposure), {instrument: 'LATISS', detector: 0, exposure: 2022100500219, ...}, id=37e1dffe-9e0d-5abf-931d-127bd15cea64, run='LATISS/raw/all'),\n",
       " DatasetRef(DatasetType('raw', {band, instrument, detector, physical_filter, exposure}, Exposure), {instrument: 'LATISS', detector: 0, exposure: 2022100500225, ...}, id=7375baee-6a7f-543a-9b41-61dcde37ca8b, run='LATISS/raw/all')]"
      ]
     },
     "execution_count": 68,
     "metadata": {},
     "output_type": "execute_result"
    }
   ],
   "source": [
    "scratch_butler.transfer_from(butler, source_refs=datasetRefs, transfer='copy',\n",
    "                           skip_missing=True, register_dataset_types=True,\n",
    "                           transfer_dimensions=True)"
   ]
  },
  {
   "cell_type": "code",
   "execution_count": 69,
   "id": "4cf2187c-f54d-4913-ad2e-61503b951362",
   "metadata": {
    "execution": {
     "iopub.execute_input": "2023-05-02T15:29:31.512469Z",
     "iopub.status.busy": "2023-05-02T15:29:31.512243Z",
     "iopub.status.idle": "2023-05-02T15:29:32.826143Z",
     "shell.execute_reply": "2023-05-02T15:29:32.825613Z",
     "shell.execute_reply.started": "2023-05-02T15:29:31.512454Z"
    }
   },
   "outputs": [],
   "source": [
    "scratch_butler.pruneCollection(collections, purge=True, unstore=True)"
   ]
  },
  {
   "cell_type": "code",
   "execution_count": null,
   "id": "7dc9ec34-4fad-48bc-9ab5-e20fe11c909b",
   "metadata": {},
   "outputs": [],
   "source": []
  }
 ],
 "metadata": {
  "kernelspec": {
   "display_name": "LSST",
   "language": "python",
   "name": "lsst"
  },
  "language_info": {
   "codemirror_mode": {
    "name": "ipython",
    "version": 3
   },
   "file_extension": ".py",
   "mimetype": "text/x-python",
   "name": "python",
   "nbconvert_exporter": "python",
   "pygments_lexer": "ipython3",
   "version": "3.10.9"
  }
 },
 "nbformat": 4,
 "nbformat_minor": 5
}
